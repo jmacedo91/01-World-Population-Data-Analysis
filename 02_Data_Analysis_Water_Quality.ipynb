{
  "nbformat": 4,
  "nbformat_minor": 0,
  "metadata": {
    "colab": {
      "name": "02 - Data Analysis - Water Quality.ipynb",
      "provenance": [],
      "toc_visible": true,
      "authorship_tag": "ABX9TyOHT5Sy0D7eQ6LzoQn9wR9r",
      "include_colab_link": true
    },
    "kernelspec": {
      "name": "python3",
      "display_name": "Python 3"
    },
    "language_info": {
      "name": "python"
    }
  },
  "cells": [
    {
      "cell_type": "markdown",
      "metadata": {
        "id": "view-in-github",
        "colab_type": "text"
      },
      "source": [
        "<a href=\"https://colab.research.google.com/github/jmacedo91/Exploratory-Data-Analysis/blob/main/02_Data_Analysis_Water_Quality.ipynb\" target=\"_parent\"><img src=\"https://colab.research.google.com/assets/colab-badge.svg\" alt=\"Open In Colab\"/></a>"
      ]
    },
    {
      "cell_type": "markdown",
      "source": [
        "***\n",
        "# <font color=blue size=10><center>💧 Water Quality - Data Analysis 💧</center></font>\n",
        "***"
      ],
      "metadata": {
        "id": "iHUQx-XbRZ6G"
      }
    },
    {
      "cell_type": "markdown",
      "source": [
        "# <font color=blue>1. Knowing the data.</font>\n",
        "***"
      ],
      "metadata": {
        "id": "AFEY-gvZSsbQ"
      }
    },
    {
      "cell_type": "markdown",
      "source": [
        "Access to safe drinking-water is essential to health, a basic human right and a component of effective policy for health protection. This is important as a health and development issue at a national, regional and local level. In some regions, it has been shown that investments in water supply and sanitation can yield a net economic benefit, since the reductions in adverse health effects and health care costs outweigh the costs of undertaking the interventions."
      ],
      "metadata": {
        "id": "nPl6p8G-XoIT"
      }
    },
    {
      "cell_type": "markdown",
      "source": [
        "## <font color=blue>Importing the Libraries</font>\n",
        "***"
      ],
      "metadata": {
        "id": "BxUpLCngU9b6"
      }
    },
    {
      "cell_type": "code",
      "source": [
        "from google.colab import drive\n",
        "drive.mount('/content/drive')"
      ],
      "metadata": {
        "colab": {
          "base_uri": "https://localhost:8080/"
        },
        "id": "GUZvy6ZOVK9l",
        "outputId": "15f30211-ab77-4f2b-c405-b520d8f4072e"
      },
      "execution_count": 1,
      "outputs": [
        {
          "output_type": "stream",
          "name": "stdout",
          "text": [
            "Drive already mounted at /content/drive; to attempt to forcibly remount, call drive.mount(\"/content/drive\", force_remount=True).\n"
          ]
        }
      ]
    },
    {
      "cell_type": "code",
      "source": [
        "import pandas as pd\n",
        "import numpy as np\n",
        "\n",
        "import seaborn as sns\n",
        "sns.set_theme(style=\"whitegrid\")\n",
        "\n",
        "from scipy.stats import norm\n",
        "\n",
        "import warnings\n",
        "warnings.filterwarnings('ignore')\n",
        "\n",
        "%matplotlib inline\n",
        "import matplotlib.pyplot as plt\n",
        "plt.rc('figure', figsize = (15, 7.5))\n"
      ],
      "metadata": {
        "id": "MhfwL5QsVboD"
      },
      "execution_count": 2,
      "outputs": []
    },
    {
      "cell_type": "markdown",
      "source": [
        "## <font color=blue>Importing the Dataset</font>\n",
        "***"
      ],
      "metadata": {
        "id": "o_rdH7YJV2nf"
      }
    },
    {
      "cell_type": "code",
      "source": [
        "dataset = pd.read_csv('/content/drive/MyDrive/Colab Notebooks/01 - Portfólio - Análise de Dados/Datasets/water_potability.csv').round(2)"
      ],
      "metadata": {
        "id": "g35no0fcVtAh"
      },
      "execution_count": 3,
      "outputs": []
    },
    {
      "cell_type": "code",
      "source": [
        "dataset.head(10)"
      ],
      "metadata": {
        "colab": {
          "base_uri": "https://localhost:8080/",
          "height": 363
        },
        "id": "dVWFfwqeX85F",
        "outputId": "2ef956f2-d965-45e9-8688-dcfd01146537"
      },
      "execution_count": 4,
      "outputs": [
        {
          "output_type": "execute_result",
          "data": {
            "text/html": [
              "\n",
              "  <div id=\"df-da9530ea-52fd-438d-a562-a9220e2d0b18\">\n",
              "    <div class=\"colab-df-container\">\n",
              "      <div>\n",
              "<style scoped>\n",
              "    .dataframe tbody tr th:only-of-type {\n",
              "        vertical-align: middle;\n",
              "    }\n",
              "\n",
              "    .dataframe tbody tr th {\n",
              "        vertical-align: top;\n",
              "    }\n",
              "\n",
              "    .dataframe thead th {\n",
              "        text-align: right;\n",
              "    }\n",
              "</style>\n",
              "<table border=\"1\" class=\"dataframe\">\n",
              "  <thead>\n",
              "    <tr style=\"text-align: right;\">\n",
              "      <th></th>\n",
              "      <th>ph</th>\n",
              "      <th>Hardness</th>\n",
              "      <th>Solids</th>\n",
              "      <th>Chloramines</th>\n",
              "      <th>Sulfate</th>\n",
              "      <th>Conductivity</th>\n",
              "      <th>Organic_carbon</th>\n",
              "      <th>Trihalomethanes</th>\n",
              "      <th>Turbidity</th>\n",
              "      <th>Potability</th>\n",
              "    </tr>\n",
              "  </thead>\n",
              "  <tbody>\n",
              "    <tr>\n",
              "      <th>0</th>\n",
              "      <td>NaN</td>\n",
              "      <td>204.89</td>\n",
              "      <td>20791.32</td>\n",
              "      <td>7.30</td>\n",
              "      <td>368.52</td>\n",
              "      <td>564.31</td>\n",
              "      <td>10.38</td>\n",
              "      <td>86.99</td>\n",
              "      <td>2.96</td>\n",
              "      <td>0</td>\n",
              "    </tr>\n",
              "    <tr>\n",
              "      <th>1</th>\n",
              "      <td>3.72</td>\n",
              "      <td>129.42</td>\n",
              "      <td>18630.06</td>\n",
              "      <td>6.64</td>\n",
              "      <td>NaN</td>\n",
              "      <td>592.89</td>\n",
              "      <td>15.18</td>\n",
              "      <td>56.33</td>\n",
              "      <td>4.50</td>\n",
              "      <td>0</td>\n",
              "    </tr>\n",
              "    <tr>\n",
              "      <th>2</th>\n",
              "      <td>8.10</td>\n",
              "      <td>224.24</td>\n",
              "      <td>19909.54</td>\n",
              "      <td>9.28</td>\n",
              "      <td>NaN</td>\n",
              "      <td>418.61</td>\n",
              "      <td>16.87</td>\n",
              "      <td>66.42</td>\n",
              "      <td>3.06</td>\n",
              "      <td>0</td>\n",
              "    </tr>\n",
              "    <tr>\n",
              "      <th>3</th>\n",
              "      <td>8.32</td>\n",
              "      <td>214.37</td>\n",
              "      <td>22018.42</td>\n",
              "      <td>8.06</td>\n",
              "      <td>356.89</td>\n",
              "      <td>363.27</td>\n",
              "      <td>18.44</td>\n",
              "      <td>100.34</td>\n",
              "      <td>4.63</td>\n",
              "      <td>0</td>\n",
              "    </tr>\n",
              "    <tr>\n",
              "      <th>4</th>\n",
              "      <td>9.09</td>\n",
              "      <td>181.10</td>\n",
              "      <td>17978.99</td>\n",
              "      <td>6.55</td>\n",
              "      <td>310.14</td>\n",
              "      <td>398.41</td>\n",
              "      <td>11.56</td>\n",
              "      <td>32.00</td>\n",
              "      <td>4.08</td>\n",
              "      <td>0</td>\n",
              "    </tr>\n",
              "    <tr>\n",
              "      <th>5</th>\n",
              "      <td>5.58</td>\n",
              "      <td>188.31</td>\n",
              "      <td>28748.69</td>\n",
              "      <td>7.54</td>\n",
              "      <td>326.68</td>\n",
              "      <td>280.47</td>\n",
              "      <td>8.40</td>\n",
              "      <td>54.92</td>\n",
              "      <td>2.56</td>\n",
              "      <td>0</td>\n",
              "    </tr>\n",
              "    <tr>\n",
              "      <th>6</th>\n",
              "      <td>10.22</td>\n",
              "      <td>248.07</td>\n",
              "      <td>28749.72</td>\n",
              "      <td>7.51</td>\n",
              "      <td>393.66</td>\n",
              "      <td>283.65</td>\n",
              "      <td>13.79</td>\n",
              "      <td>84.60</td>\n",
              "      <td>2.67</td>\n",
              "      <td>0</td>\n",
              "    </tr>\n",
              "    <tr>\n",
              "      <th>7</th>\n",
              "      <td>8.64</td>\n",
              "      <td>203.36</td>\n",
              "      <td>13672.09</td>\n",
              "      <td>4.56</td>\n",
              "      <td>303.31</td>\n",
              "      <td>474.61</td>\n",
              "      <td>12.36</td>\n",
              "      <td>62.80</td>\n",
              "      <td>4.40</td>\n",
              "      <td>0</td>\n",
              "    </tr>\n",
              "    <tr>\n",
              "      <th>8</th>\n",
              "      <td>NaN</td>\n",
              "      <td>118.99</td>\n",
              "      <td>14285.58</td>\n",
              "      <td>7.80</td>\n",
              "      <td>268.65</td>\n",
              "      <td>389.38</td>\n",
              "      <td>12.71</td>\n",
              "      <td>53.93</td>\n",
              "      <td>3.60</td>\n",
              "      <td>0</td>\n",
              "    </tr>\n",
              "    <tr>\n",
              "      <th>9</th>\n",
              "      <td>11.18</td>\n",
              "      <td>227.23</td>\n",
              "      <td>25484.51</td>\n",
              "      <td>9.08</td>\n",
              "      <td>404.04</td>\n",
              "      <td>563.89</td>\n",
              "      <td>17.93</td>\n",
              "      <td>71.98</td>\n",
              "      <td>4.37</td>\n",
              "      <td>0</td>\n",
              "    </tr>\n",
              "  </tbody>\n",
              "</table>\n",
              "</div>\n",
              "      <button class=\"colab-df-convert\" onclick=\"convertToInteractive('df-da9530ea-52fd-438d-a562-a9220e2d0b18')\"\n",
              "              title=\"Convert this dataframe to an interactive table.\"\n",
              "              style=\"display:none;\">\n",
              "        \n",
              "  <svg xmlns=\"http://www.w3.org/2000/svg\" height=\"24px\"viewBox=\"0 0 24 24\"\n",
              "       width=\"24px\">\n",
              "    <path d=\"M0 0h24v24H0V0z\" fill=\"none\"/>\n",
              "    <path d=\"M18.56 5.44l.94 2.06.94-2.06 2.06-.94-2.06-.94-.94-2.06-.94 2.06-2.06.94zm-11 1L8.5 8.5l.94-2.06 2.06-.94-2.06-.94L8.5 2.5l-.94 2.06-2.06.94zm10 10l.94 2.06.94-2.06 2.06-.94-2.06-.94-.94-2.06-.94 2.06-2.06.94z\"/><path d=\"M17.41 7.96l-1.37-1.37c-.4-.4-.92-.59-1.43-.59-.52 0-1.04.2-1.43.59L10.3 9.45l-7.72 7.72c-.78.78-.78 2.05 0 2.83L4 21.41c.39.39.9.59 1.41.59.51 0 1.02-.2 1.41-.59l7.78-7.78 2.81-2.81c.8-.78.8-2.07 0-2.86zM5.41 20L4 18.59l7.72-7.72 1.47 1.35L5.41 20z\"/>\n",
              "  </svg>\n",
              "      </button>\n",
              "      \n",
              "  <style>\n",
              "    .colab-df-container {\n",
              "      display:flex;\n",
              "      flex-wrap:wrap;\n",
              "      gap: 12px;\n",
              "    }\n",
              "\n",
              "    .colab-df-convert {\n",
              "      background-color: #E8F0FE;\n",
              "      border: none;\n",
              "      border-radius: 50%;\n",
              "      cursor: pointer;\n",
              "      display: none;\n",
              "      fill: #1967D2;\n",
              "      height: 32px;\n",
              "      padding: 0 0 0 0;\n",
              "      width: 32px;\n",
              "    }\n",
              "\n",
              "    .colab-df-convert:hover {\n",
              "      background-color: #E2EBFA;\n",
              "      box-shadow: 0px 1px 2px rgba(60, 64, 67, 0.3), 0px 1px 3px 1px rgba(60, 64, 67, 0.15);\n",
              "      fill: #174EA6;\n",
              "    }\n",
              "\n",
              "    [theme=dark] .colab-df-convert {\n",
              "      background-color: #3B4455;\n",
              "      fill: #D2E3FC;\n",
              "    }\n",
              "\n",
              "    [theme=dark] .colab-df-convert:hover {\n",
              "      background-color: #434B5C;\n",
              "      box-shadow: 0px 1px 3px 1px rgba(0, 0, 0, 0.15);\n",
              "      filter: drop-shadow(0px 1px 2px rgba(0, 0, 0, 0.3));\n",
              "      fill: #FFFFFF;\n",
              "    }\n",
              "  </style>\n",
              "\n",
              "      <script>\n",
              "        const buttonEl =\n",
              "          document.querySelector('#df-da9530ea-52fd-438d-a562-a9220e2d0b18 button.colab-df-convert');\n",
              "        buttonEl.style.display =\n",
              "          google.colab.kernel.accessAllowed ? 'block' : 'none';\n",
              "\n",
              "        async function convertToInteractive(key) {\n",
              "          const element = document.querySelector('#df-da9530ea-52fd-438d-a562-a9220e2d0b18');\n",
              "          const dataTable =\n",
              "            await google.colab.kernel.invokeFunction('convertToInteractive',\n",
              "                                                     [key], {});\n",
              "          if (!dataTable) return;\n",
              "\n",
              "          const docLinkHtml = 'Like what you see? Visit the ' +\n",
              "            '<a target=\"_blank\" href=https://colab.research.google.com/notebooks/data_table.ipynb>data table notebook</a>'\n",
              "            + ' to learn more about interactive tables.';\n",
              "          element.innerHTML = '';\n",
              "          dataTable['output_type'] = 'display_data';\n",
              "          await google.colab.output.renderOutput(dataTable, element);\n",
              "          const docLink = document.createElement('div');\n",
              "          docLink.innerHTML = docLinkHtml;\n",
              "          element.appendChild(docLink);\n",
              "        }\n",
              "      </script>\n",
              "    </div>\n",
              "  </div>\n",
              "  "
            ],
            "text/plain": [
              "      ph  Hardness    Solids  ...  Trihalomethanes  Turbidity  Potability\n",
              "0    NaN    204.89  20791.32  ...            86.99       2.96           0\n",
              "1   3.72    129.42  18630.06  ...            56.33       4.50           0\n",
              "2   8.10    224.24  19909.54  ...            66.42       3.06           0\n",
              "3   8.32    214.37  22018.42  ...           100.34       4.63           0\n",
              "4   9.09    181.10  17978.99  ...            32.00       4.08           0\n",
              "5   5.58    188.31  28748.69  ...            54.92       2.56           0\n",
              "6  10.22    248.07  28749.72  ...            84.60       2.67           0\n",
              "7   8.64    203.36  13672.09  ...            62.80       4.40           0\n",
              "8    NaN    118.99  14285.58  ...            53.93       3.60           0\n",
              "9  11.18    227.23  25484.51  ...            71.98       4.37           0\n",
              "\n",
              "[10 rows x 10 columns]"
            ]
          },
          "metadata": {},
          "execution_count": 4
        }
      ]
    },
    {
      "cell_type": "code",
      "source": [
        "correlation = dataset.corr()"
      ],
      "metadata": {
        "id": "RFREGzbjZhy-"
      },
      "execution_count": 5,
      "outputs": []
    },
    {
      "cell_type": "code",
      "source": [
        "plot = sns.heatmap(correlation, annot = True, fmt=\".1f\", linewidths=.6)\n",
        "plot"
      ],
      "metadata": {
        "colab": {
          "base_uri": "https://localhost:8080/",
          "height": 561
        },
        "id": "gD9NByYmZjNM",
        "outputId": "eed094de-0d0c-4323-cdb0-27fddfa66125"
      },
      "execution_count": 6,
      "outputs": [
        {
          "output_type": "execute_result",
          "data": {
            "text/plain": [
              "<matplotlib.axes._subplots.AxesSubplot at 0x7f57c3a09fd0>"
            ]
          },
          "metadata": {},
          "execution_count": 6
        },
        {
          "output_type": "display_data",
          "data": {
            "image/png": "[encoded data removed]",
            "text/plain": [
              "<Figure size 1080x540 with 2 Axes>"
            ]
          },
          "metadata": {
            "needs_background": "light"
          }
        }
      ]
    },
    {
      "cell_type": "markdown",
      "source": [
        "<font size= 5>In a preliminary analysis of the data, we noticed that none of the parameters are correlated. This fact does not match the reality of the laboratory. Many of these parameters are directly related to each other and this lack of correlation raises the hypothesis that the data were generated randomly.</font>"
      ],
      "metadata": {
        "id": "ufHLPsXzYDcO"
      }
    },
    {
      "cell_type": "code",
      "source": [
        "dataset.info()"
      ],
      "metadata": {
        "colab": {
          "base_uri": "https://localhost:8080/"
        },
        "id": "Y-wFOg5NYdJM",
        "outputId": "c8c4e240-190e-45d6-8dcc-4fd5655c055f"
      },
      "execution_count": 7,
      "outputs": [
        {
          "output_type": "stream",
          "name": "stdout",
          "text": [
            "<class 'pandas.core.frame.DataFrame'>\n",
            "RangeIndex: 3276 entries, 0 to 3275\n",
            "Data columns (total 10 columns):\n",
            " #   Column           Non-Null Count  Dtype  \n",
            "---  ------           --------------  -----  \n",
            " 0   ph               2785 non-null   float64\n",
            " 1   Hardness         3276 non-null   float64\n",
            " 2   Solids           3276 non-null   float64\n",
            " 3   Chloramines      3276 non-null   float64\n",
            " 4   Sulfate          2495 non-null   float64\n",
            " 5   Conductivity     3276 non-null   float64\n",
            " 6   Organic_carbon   3276 non-null   float64\n",
            " 7   Trihalomethanes  3114 non-null   float64\n",
            " 8   Turbidity        3276 non-null   float64\n",
            " 9   Potability       3276 non-null   int64  \n",
            "dtypes: float64(9), int64(1)\n",
            "memory usage: 256.1 KB\n"
          ]
        }
      ]
    },
    {
      "cell_type": "code",
      "source": [
        "data_types = pd.DataFrame(dataset.dtypes, columns = ['Data Types'])\n",
        "data_types.columns.name = 'Parameters'"
      ],
      "metadata": {
        "id": "9bzIWEBVY8Xk"
      },
      "execution_count": 8,
      "outputs": []
    },
    {
      "cell_type": "code",
      "source": [
        "data_types"
      ],
      "metadata": {
        "colab": {
          "base_uri": "https://localhost:8080/",
          "height": 363
        },
        "id": "TcMagSqqZJu5",
        "outputId": "1109f978-b20f-4091-a193-a01b52f8268f"
      },
      "execution_count": 9,
      "outputs": [
        {
          "output_type": "execute_result",
          "data": {
            "text/html": [
              "\n",
              "  <div id=\"df-c1fd1506-7be5-4690-b9c3-9626b66f2bab\">\n",
              "    <div class=\"colab-df-container\">\n",
              "      <div>\n",
              "<style scoped>\n",
              "    .dataframe tbody tr th:only-of-type {\n",
              "        vertical-align: middle;\n",
              "    }\n",
              "\n",
              "    .dataframe tbody tr th {\n",
              "        vertical-align: top;\n",
              "    }\n",
              "\n",
              "    .dataframe thead th {\n",
              "        text-align: right;\n",
              "    }\n",
              "</style>\n",
              "<table border=\"1\" class=\"dataframe\">\n",
              "  <thead>\n",
              "    <tr style=\"text-align: right;\">\n",
              "      <th>Parameters</th>\n",
              "      <th>Data Types</th>\n",
              "    </tr>\n",
              "  </thead>\n",
              "  <tbody>\n",
              "    <tr>\n",
              "      <th>ph</th>\n",
              "      <td>float64</td>\n",
              "    </tr>\n",
              "    <tr>\n",
              "      <th>Hardness</th>\n",
              "      <td>float64</td>\n",
              "    </tr>\n",
              "    <tr>\n",
              "      <th>Solids</th>\n",
              "      <td>float64</td>\n",
              "    </tr>\n",
              "    <tr>\n",
              "      <th>Chloramines</th>\n",
              "      <td>float64</td>\n",
              "    </tr>\n",
              "    <tr>\n",
              "      <th>Sulfate</th>\n",
              "      <td>float64</td>\n",
              "    </tr>\n",
              "    <tr>\n",
              "      <th>Conductivity</th>\n",
              "      <td>float64</td>\n",
              "    </tr>\n",
              "    <tr>\n",
              "      <th>Organic_carbon</th>\n",
              "      <td>float64</td>\n",
              "    </tr>\n",
              "    <tr>\n",
              "      <th>Trihalomethanes</th>\n",
              "      <td>float64</td>\n",
              "    </tr>\n",
              "    <tr>\n",
              "      <th>Turbidity</th>\n",
              "      <td>float64</td>\n",
              "    </tr>\n",
              "    <tr>\n",
              "      <th>Potability</th>\n",
              "      <td>int64</td>\n",
              "    </tr>\n",
              "  </tbody>\n",
              "</table>\n",
              "</div>\n",
              "      <button class=\"colab-df-convert\" onclick=\"convertToInteractive('df-c1fd1506-7be5-4690-b9c3-9626b66f2bab')\"\n",
              "              title=\"Convert this dataframe to an interactive table.\"\n",
              "              style=\"display:none;\">\n",
              "        \n",
              "  <svg xmlns=\"http://www.w3.org/2000/svg\" height=\"24px\"viewBox=\"0 0 24 24\"\n",
              "       width=\"24px\">\n",
              "    <path d=\"M0 0h24v24H0V0z\" fill=\"none\"/>\n",
              "    <path d=\"M18.56 5.44l.94 2.06.94-2.06 2.06-.94-2.06-.94-.94-2.06-.94 2.06-2.06.94zm-11 1L8.5 8.5l.94-2.06 2.06-.94-2.06-.94L8.5 2.5l-.94 2.06-2.06.94zm10 10l.94 2.06.94-2.06 2.06-.94-2.06-.94-.94-2.06-.94 2.06-2.06.94z\"/><path d=\"M17.41 7.96l-1.37-1.37c-.4-.4-.92-.59-1.43-.59-.52 0-1.04.2-1.43.59L10.3 9.45l-7.72 7.72c-.78.78-.78 2.05 0 2.83L4 21.41c.39.39.9.59 1.41.59.51 0 1.02-.2 1.41-.59l7.78-7.78 2.81-2.81c.8-.78.8-2.07 0-2.86zM5.41 20L4 18.59l7.72-7.72 1.47 1.35L5.41 20z\"/>\n",
              "  </svg>\n",
              "      </button>\n",
              "      \n",
              "  <style>\n",
              "    .colab-df-container {\n",
              "      display:flex;\n",
              "      flex-wrap:wrap;\n",
              "      gap: 12px;\n",
              "    }\n",
              "\n",
              "    .colab-df-convert {\n",
              "      background-color: #E8F0FE;\n",
              "      border: none;\n",
              "      border-radius: 50%;\n",
              "      cursor: pointer;\n",
              "      display: none;\n",
              "      fill: #1967D2;\n",
              "      height: 32px;\n",
              "      padding: 0 0 0 0;\n",
              "      width: 32px;\n",
              "    }\n",
              "\n",
              "    .colab-df-convert:hover {\n",
              "      background-color: #E2EBFA;\n",
              "      box-shadow: 0px 1px 2px rgba(60, 64, 67, 0.3), 0px 1px 3px 1px rgba(60, 64, 67, 0.15);\n",
              "      fill: #174EA6;\n",
              "    }\n",
              "\n",
              "    [theme=dark] .colab-df-convert {\n",
              "      background-color: #3B4455;\n",
              "      fill: #D2E3FC;\n",
              "    }\n",
              "\n",
              "    [theme=dark] .colab-df-convert:hover {\n",
              "      background-color: #434B5C;\n",
              "      box-shadow: 0px 1px 3px 1px rgba(0, 0, 0, 0.15);\n",
              "      filter: drop-shadow(0px 1px 2px rgba(0, 0, 0, 0.3));\n",
              "      fill: #FFFFFF;\n",
              "    }\n",
              "  </style>\n",
              "\n",
              "      <script>\n",
              "        const buttonEl =\n",
              "          document.querySelector('#df-c1fd1506-7be5-4690-b9c3-9626b66f2bab button.colab-df-convert');\n",
              "        buttonEl.style.display =\n",
              "          google.colab.kernel.accessAllowed ? 'block' : 'none';\n",
              "\n",
              "        async function convertToInteractive(key) {\n",
              "          const element = document.querySelector('#df-c1fd1506-7be5-4690-b9c3-9626b66f2bab');\n",
              "          const dataTable =\n",
              "            await google.colab.kernel.invokeFunction('convertToInteractive',\n",
              "                                                     [key], {});\n",
              "          if (!dataTable) return;\n",
              "\n",
              "          const docLinkHtml = 'Like what you see? Visit the ' +\n",
              "            '<a target=\"_blank\" href=https://colab.research.google.com/notebooks/data_table.ipynb>data table notebook</a>'\n",
              "            + ' to learn more about interactive tables.';\n",
              "          element.innerHTML = '';\n",
              "          dataTable['output_type'] = 'display_data';\n",
              "          await google.colab.output.renderOutput(dataTable, element);\n",
              "          const docLink = document.createElement('div');\n",
              "          docLink.innerHTML = docLinkHtml;\n",
              "          element.appendChild(docLink);\n",
              "        }\n",
              "      </script>\n",
              "    </div>\n",
              "  </div>\n",
              "  "
            ],
            "text/plain": [
              "Parameters      Data Types\n",
              "ph                 float64\n",
              "Hardness           float64\n",
              "Solids             float64\n",
              "Chloramines        float64\n",
              "Sulfate            float64\n",
              "Conductivity       float64\n",
              "Organic_carbon     float64\n",
              "Trihalomethanes    float64\n",
              "Turbidity          float64\n",
              "Potability           int64"
            ]
          },
          "metadata": {},
          "execution_count": 9
        }
      ]
    },
    {
      "cell_type": "markdown",
      "source": [
        "3. Solids (Total dissolved solids - TDS):\n",
        "Water has the ability to dissolve a wide range of inorganic and some organic minerals or salts such as potassium, calcium, sodium, bicarbonates, chlorides, magnesium, sulfates etc. These minerals produced un-wanted taste and diluted color in appearance of water. This is the important parameter for the use of water. The water with high TDS value indicates that water is highly mineralized. Desirable limit for TDS is 500 mg/l and maximum limit is 1000 mg/l which prescribed for drinking purpose.\n",
        "\n",
        "4. Chloramines:\n",
        "Chlorine and chloramine are the major disinfectants used in public water systems. Chloramines are most commonly formed when ammonia is added to chlorine to treat drinking water. Chlorine levels up to 4 milligrams per liter (mg/L or 4 parts per million (ppm)) are considered safe in drinking water.\n",
        "\n",
        "5. Sulfate:\n",
        "Sulfates are naturally occurring substances that are found in minerals, soil, and rocks. They are present in ambient air, groundwater, plants, and food. The principal commercial use of sulfate is in the chemical industry. Sulfate concentration in seawater is about 2,700 milligrams per liter (mg/L). It ranges from 3 to 30 mg/L in most freshwater supplies, although much higher concentrations (1000 mg/L) are found in some geographic locations.\n",
        "\n",
        "6. Conductivity:\n",
        "Pure water is not a good conductor of electric current rather’s a good insulator. Increase in ions concentration enhances the electrical conductivity of water. Generally, the amount of dissolved solids in water determines the electrical conductivity. Electrical conductivity (EC) actually measures the ionic process of a solution that enables it to transmit current. According to WHO standards, EC value should not exceeded 400 μS/cm.\n",
        "\n",
        "7. Organic_carbon:\n",
        "Total Organic Carbon (TOC) in source waters comes from decaying natural organic matter (NOM) as well as synthetic sources. TOC is a measure of the total amount of carbon in organic compounds in pure water. According to US EPA < 2 mg/L as TOC in treated / drinking water, and < 4 mg/Lit in source water which is use for treatment.\n",
        "\n",
        "8. Trihalomethanes:\n",
        "THMs are chemicals which may be found in water treated with chlorine. The concentration of THMs in drinking water varies according to the level of organic material in the water, the amount of chlorine required to treat the water, and the temperature of the water that is being treated. THM levels up to 80 ppm is considered safe in drinking water.\n",
        "\n",
        "9. Turbidity:\n",
        "The turbidity of water depends on the quantity of solid matter present in the suspended state. It is a measure of light emitting properties of water and the test is used to indicate the quality of waste discharge with respect to colloidal matter. The mean turbidity value obtained for Wondo Genet Campus (0.98 NTU) is lower than the WHO recommended value of 5.00 NTU.\n",
        "\n",
        "10. Potability:\n",
        "Indicates if water is safe for human consumption where 1 means Potable and 0 means Not potable."
      ],
      "metadata": {
        "id": "k_e2tehXZy8N"
      }
    },
    {
      "cell_type": "markdown",
      "source": [
        "# <font color=blue>2. Statistical Analysis of Data.</font>\n",
        "***"
      ],
      "metadata": {
        "id": "xWjWBeN5Z_1F"
      }
    },
    {
      "cell_type": "markdown",
      "source": [
        "## <font color=blue>2.1. pH Values</font>\n",
        "***"
      ],
      "metadata": {
        "id": "YWA02MjQaxtt"
      }
    },
    {
      "cell_type": "markdown",
      "source": [
        "**pH value:**\n",
        "\n",
        "PH is an important parameter in evaluating the acid–base balance of water. It is also the indicator of acidic or alkaline condition of water status. WHO has recommended maximum permissible limit of pH from 6.5 to 8.5. The current investigation ranges were 6.52 – 6.83 which are in the range of WHO standards."
      ],
      "metadata": {
        "id": "iUof-BiuarZA"
      }
    },
    {
      "cell_type": "markdown",
      "source": [
        "### <font color=blue>2.1.1. Clearing Null Values</font>\n",
        "***"
      ],
      "metadata": {
        "id": "GLdG5cwMe-EJ"
      }
    },
    {
      "cell_type": "code",
      "source": [
        "dataset_ph = dataset.dropna(subset = ['ph'])"
      ],
      "metadata": {
        "id": "peFhwFzqeNbb"
      },
      "execution_count": 10,
      "outputs": []
    },
    {
      "cell_type": "code",
      "source": [
        "dataset_ph.info()"
      ],
      "metadata": {
        "colab": {
          "base_uri": "https://localhost:8080/"
        },
        "id": "Xye2QmfFgeCm",
        "outputId": "ba75f51f-1240-4898-d1d2-bd1529572c62"
      },
      "execution_count": 11,
      "outputs": [
        {
          "output_type": "stream",
          "name": "stdout",
          "text": [
            "<class 'pandas.core.frame.DataFrame'>\n",
            "Int64Index: 2785 entries, 1 to 3275\n",
            "Data columns (total 10 columns):\n",
            " #   Column           Non-Null Count  Dtype  \n",
            "---  ------           --------------  -----  \n",
            " 0   ph               2785 non-null   float64\n",
            " 1   Hardness         2785 non-null   float64\n",
            " 2   Solids           2785 non-null   float64\n",
            " 3   Chloramines      2785 non-null   float64\n",
            " 4   Sulfate          2116 non-null   float64\n",
            " 5   Conductivity     2785 non-null   float64\n",
            " 6   Organic_carbon   2785 non-null   float64\n",
            " 7   Trihalomethanes  2649 non-null   float64\n",
            " 8   Turbidity        2785 non-null   float64\n",
            " 9   Potability       2785 non-null   int64  \n",
            "dtypes: float64(9), int64(1)\n",
            "memory usage: 239.3 KB\n"
          ]
        }
      ]
    },
    {
      "cell_type": "code",
      "source": [
        "print(f'{dataset.shape[0] - dataset_ph.shape[0]} null values ​​were eliminated')"
      ],
      "metadata": {
        "colab": {
          "base_uri": "https://localhost:8080/"
        },
        "id": "JEzDFDDeB61T",
        "outputId": "3863bb30-173b-495c-ba9f-3b9543fc9cb5"
      },
      "execution_count": 12,
      "outputs": [
        {
          "output_type": "stream",
          "name": "stdout",
          "text": [
            "491 null values ​​were eliminated\n"
          ]
        }
      ]
    },
    {
      "cell_type": "markdown",
      "source": [
        "### <font color=blue>2.1.2. Descriptive Statistical Analysis</font>\n",
        "***"
      ],
      "metadata": {
        "id": "dQWvrP_Dgyc_"
      }
    },
    {
      "cell_type": "code",
      "source": [
        "descriptive_statistics = pd.DataFrame(dataset_ph['ph'].describe().round(2))\n"
      ],
      "metadata": {
        "id": "Y7ymL6-Jgx36"
      },
      "execution_count": 13,
      "outputs": []
    },
    {
      "cell_type": "code",
      "source": [
        "descriptive_statistics"
      ],
      "metadata": {
        "colab": {
          "base_uri": "https://localhost:8080/",
          "height": 300
        },
        "id": "YtCKFGn-m9Zt",
        "outputId": "c941bcd2-cc72-4fd9-e6c7-b684d0a905ff"
      },
      "execution_count": 14,
      "outputs": [
        {
          "output_type": "execute_result",
          "data": {
            "text/html": [
              "\n",
              "  <div id=\"df-25af50e4-76cb-4d14-9346-f401c098a4b9\">\n",
              "    <div class=\"colab-df-container\">\n",
              "      <div>\n",
              "<style scoped>\n",
              "    .dataframe tbody tr th:only-of-type {\n",
              "        vertical-align: middle;\n",
              "    }\n",
              "\n",
              "    .dataframe tbody tr th {\n",
              "        vertical-align: top;\n",
              "    }\n",
              "\n",
              "    .dataframe thead th {\n",
              "        text-align: right;\n",
              "    }\n",
              "</style>\n",
              "<table border=\"1\" class=\"dataframe\">\n",
              "  <thead>\n",
              "    <tr style=\"text-align: right;\">\n",
              "      <th></th>\n",
              "      <th>ph</th>\n",
              "    </tr>\n",
              "  </thead>\n",
              "  <tbody>\n",
              "    <tr>\n",
              "      <th>count</th>\n",
              "      <td>2785.00</td>\n",
              "    </tr>\n",
              "    <tr>\n",
              "      <th>mean</th>\n",
              "      <td>7.08</td>\n",
              "    </tr>\n",
              "    <tr>\n",
              "      <th>std</th>\n",
              "      <td>1.59</td>\n",
              "    </tr>\n",
              "    <tr>\n",
              "      <th>min</th>\n",
              "      <td>0.00</td>\n",
              "    </tr>\n",
              "    <tr>\n",
              "      <th>25%</th>\n",
              "      <td>6.09</td>\n",
              "    </tr>\n",
              "    <tr>\n",
              "      <th>50%</th>\n",
              "      <td>7.04</td>\n",
              "    </tr>\n",
              "    <tr>\n",
              "      <th>75%</th>\n",
              "      <td>8.06</td>\n",
              "    </tr>\n",
              "    <tr>\n",
              "      <th>max</th>\n",
              "      <td>14.00</td>\n",
              "    </tr>\n",
              "  </tbody>\n",
              "</table>\n",
              "</div>\n",
              "      <button class=\"colab-df-convert\" onclick=\"convertToInteractive('df-25af50e4-76cb-4d14-9346-f401c098a4b9')\"\n",
              "              title=\"Convert this dataframe to an interactive table.\"\n",
              "              style=\"display:none;\">\n",
              "        \n",
              "  <svg xmlns=\"http://www.w3.org/2000/svg\" height=\"24px\"viewBox=\"0 0 24 24\"\n",
              "       width=\"24px\">\n",
              "    <path d=\"M0 0h24v24H0V0z\" fill=\"none\"/>\n",
              "    <path d=\"M18.56 5.44l.94 2.06.94-2.06 2.06-.94-2.06-.94-.94-2.06-.94 2.06-2.06.94zm-11 1L8.5 8.5l.94-2.06 2.06-.94-2.06-.94L8.5 2.5l-.94 2.06-2.06.94zm10 10l.94 2.06.94-2.06 2.06-.94-2.06-.94-.94-2.06-.94 2.06-2.06.94z\"/><path d=\"M17.41 7.96l-1.37-1.37c-.4-.4-.92-.59-1.43-.59-.52 0-1.04.2-1.43.59L10.3 9.45l-7.72 7.72c-.78.78-.78 2.05 0 2.83L4 21.41c.39.39.9.59 1.41.59.51 0 1.02-.2 1.41-.59l7.78-7.78 2.81-2.81c.8-.78.8-2.07 0-2.86zM5.41 20L4 18.59l7.72-7.72 1.47 1.35L5.41 20z\"/>\n",
              "  </svg>\n",
              "      </button>\n",
              "      \n",
              "  <style>\n",
              "    .colab-df-container {\n",
              "      display:flex;\n",
              "      flex-wrap:wrap;\n",
              "      gap: 12px;\n",
              "    }\n",
              "\n",
              "    .colab-df-convert {\n",
              "      background-color: #E8F0FE;\n",
              "      border: none;\n",
              "      border-radius: 50%;\n",
              "      cursor: pointer;\n",
              "      display: none;\n",
              "      fill: #1967D2;\n",
              "      height: 32px;\n",
              "      padding: 0 0 0 0;\n",
              "      width: 32px;\n",
              "    }\n",
              "\n",
              "    .colab-df-convert:hover {\n",
              "      background-color: #E2EBFA;\n",
              "      box-shadow: 0px 1px 2px rgba(60, 64, 67, 0.3), 0px 1px 3px 1px rgba(60, 64, 67, 0.15);\n",
              "      fill: #174EA6;\n",
              "    }\n",
              "\n",
              "    [theme=dark] .colab-df-convert {\n",
              "      background-color: #3B4455;\n",
              "      fill: #D2E3FC;\n",
              "    }\n",
              "\n",
              "    [theme=dark] .colab-df-convert:hover {\n",
              "      background-color: #434B5C;\n",
              "      box-shadow: 0px 1px 3px 1px rgba(0, 0, 0, 0.15);\n",
              "      filter: drop-shadow(0px 1px 2px rgba(0, 0, 0, 0.3));\n",
              "      fill: #FFFFFF;\n",
              "    }\n",
              "  </style>\n",
              "\n",
              "      <script>\n",
              "        const buttonEl =\n",
              "          document.querySelector('#df-25af50e4-76cb-4d14-9346-f401c098a4b9 button.colab-df-convert');\n",
              "        buttonEl.style.display =\n",
              "          google.colab.kernel.accessAllowed ? 'block' : 'none';\n",
              "\n",
              "        async function convertToInteractive(key) {\n",
              "          const element = document.querySelector('#df-25af50e4-76cb-4d14-9346-f401c098a4b9');\n",
              "          const dataTable =\n",
              "            await google.colab.kernel.invokeFunction('convertToInteractive',\n",
              "                                                     [key], {});\n",
              "          if (!dataTable) return;\n",
              "\n",
              "          const docLinkHtml = 'Like what you see? Visit the ' +\n",
              "            '<a target=\"_blank\" href=https://colab.research.google.com/notebooks/data_table.ipynb>data table notebook</a>'\n",
              "            + ' to learn more about interactive tables.';\n",
              "          element.innerHTML = '';\n",
              "          dataTable['output_type'] = 'display_data';\n",
              "          await google.colab.output.renderOutput(dataTable, element);\n",
              "          const docLink = document.createElement('div');\n",
              "          docLink.innerHTML = docLinkHtml;\n",
              "          element.appendChild(docLink);\n",
              "        }\n",
              "      </script>\n",
              "    </div>\n",
              "  </div>\n",
              "  "
            ],
            "text/plain": [
              "            ph\n",
              "count  2785.00\n",
              "mean      7.08\n",
              "std       1.59\n",
              "min       0.00\n",
              "25%       6.09\n",
              "50%       7.04\n",
              "75%       8.06\n",
              "max      14.00"
            ]
          },
          "metadata": {},
          "execution_count": 14
        }
      ]
    },
    {
      "cell_type": "markdown",
      "source": [
        "### <font color=blue>2.1.3. Frequency Distribution</font>\n",
        "***"
      ],
      "metadata": {
        "id": "Ye8pL2krLq3l"
      }
    },
    {
      "cell_type": "code",
      "source": [
        "ax = sns.distplot(dataset_ph['ph'], kde = True, fit = norm)\n",
        "ax.figure.set_size_inches(12, 6)\n",
        "ax.set_title('Frequency Distribution - pH', fontsize = 18)\n",
        "ax.set_xlabel('pH', fontsize = 14)\n",
        "ax"
      ],
      "metadata": {
        "colab": {
          "base_uri": "https://localhost:8080/",
          "height": 432
        },
        "id": "g-pv-bC7gip1",
        "outputId": "5b7c6e25-a813-4d8b-a98e-dca4587f2d97"
      },
      "execution_count": 15,
      "outputs": [
        {
          "output_type": "execute_result",
          "data": {
            "text/plain": [
              "<matplotlib.axes._subplots.AxesSubplot at 0x7f57b9ac3510>"
            ]
          },
          "metadata": {},
          "execution_count": 15
        },
        {
          "output_type": "display_data",
          "data": {
            "image/png": "[encoded data removed]",
            "text/plain": [
              "<Figure size 864x432 with 1 Axes>"
            ]
          },
          "metadata": {
            "needs_background": "light"
          }
        }
      ]
    },
    {
      "cell_type": "markdown",
      "source": [
        "<font size = 5>We can see that the distribution of pH values ​​presents symmetry in relation to the mean. This is a normal distribution.</font>"
      ],
      "metadata": {
        "id": "LAg0ZeQjjlkB"
      }
    },
    {
      "cell_type": "code",
      "source": [
        "ax = sns.boxplot(x = dataset_ph['ph'], data = dataset_ph, orient = 'h')\n",
        "ax.figure.set_size_inches(12, 4)\n",
        "ax.set_title('Frequency Distribution - pH', fontsize = 18)\n",
        "ax.set_xlabel('pH', fontsize = 14)\n",
        "ax"
      ],
      "metadata": {
        "colab": {
          "base_uri": "https://localhost:8080/",
          "height": 323
        },
        "id": "8coTLoYQhdUS",
        "outputId": "1f5e2dc5-d85b-4065-ba2b-585689e22d48"
      },
      "execution_count": 16,
      "outputs": [
        {
          "output_type": "execute_result",
          "data": {
            "text/plain": [
              "<matplotlib.axes._subplots.AxesSubplot at 0x7f57b79c8050>"
            ]
          },
          "metadata": {},
          "execution_count": 16
        },
        {
          "output_type": "display_data",
          "data": {
            "image/png": "[encoded data removed]",
            "text/plain": [
              "<Figure size 864x288 with 1 Axes>"
            ]
          },
          "metadata": {
            "needs_background": "light"
          }
        }
      ]
    },
    {
      "cell_type": "markdown",
      "source": [
        "<font size = 5>Assuming the WHO acceptable pH range is between 6.5 and 8.5, let's calculate the probability of finding a sample within that range.</font>"
      ],
      "metadata": {
        "id": "DALUSVZN1O5W"
      }
    },
    {
      "cell_type": "code",
      "source": [
        "lower_Z_ph = (6.5 - dataset_ph['ph'].mean()) / dataset_ph['ph'].std()\n",
        "lower_Z_ph"
      ],
      "metadata": {
        "colab": {
          "base_uri": "https://localhost:8080/"
        },
        "id": "7LUJA7FqsErh",
        "outputId": "3dfd6a89-9cb5-48ef-fc6f-7f6618e1d417"
      },
      "execution_count": 17,
      "outputs": [
        {
          "output_type": "execute_result",
          "data": {
            "text/plain": [
              "-0.3642846607521609"
            ]
          },
          "metadata": {},
          "execution_count": 17
        }
      ]
    },
    {
      "cell_type": "code",
      "source": [
        "sup_Z_ph = (8.5 - dataset_ph['ph'].mean()) / dataset_ph['ph'].std()\n",
        "sup_Z_ph"
      ],
      "metadata": {
        "colab": {
          "base_uri": "https://localhost:8080/"
        },
        "id": "D-7oDX1TkT1u",
        "outputId": "eef4d55e-f76a-4d75-81ad-0b389b0a764a"
      },
      "execution_count": 18,
      "outputs": [
        {
          "output_type": "execute_result",
          "data": {
            "text/plain": [
              "0.8901297960090572"
            ]
          },
          "metadata": {},
          "execution_count": 18
        }
      ]
    },
    {
      "cell_type": "code",
      "source": [
        "probability = round((norm.cdf(sup_Z_ph) - norm.cdf(lower_Z_ph)), 3)\n",
        "probability"
      ],
      "metadata": {
        "colab": {
          "base_uri": "https://localhost:8080/"
        },
        "id": "GKN9mYSa3aSv",
        "outputId": "f63bd6ba-08ec-4509-a4c7-24bb848679b0"
      },
      "execution_count": 19,
      "outputs": [
        {
          "output_type": "execute_result",
          "data": {
            "text/plain": [
              "0.455"
            ]
          },
          "metadata": {},
          "execution_count": 19
        }
      ]
    },
    {
      "cell_type": "code",
      "source": [
        "print(f'The probability of a sample having the pH value within WHO specifications is {probability * 100}%')"
      ],
      "metadata": {
        "colab": {
          "base_uri": "https://localhost:8080/"
        },
        "id": "YuwhVOrl3zI_",
        "outputId": "f2220ca2-a053-488f-c126-cc2a1af7d660"
      },
      "execution_count": 20,
      "outputs": [
        {
          "output_type": "stream",
          "name": "stdout",
          "text": [
            "The probability of a sample having the pH value within WHO specifications is 45.5%\n"
          ]
        }
      ]
    },
    {
      "cell_type": "code",
      "source": [
        "round((dataset_ph.query('ph >= 6.5 & ph <= 8.5').shape[0] / dataset_ph.shape[0]), 5)"
      ],
      "metadata": {
        "colab": {
          "base_uri": "https://localhost:8080/"
        },
        "id": "86o4Rr6zFMBj",
        "outputId": "b6e6471e-a962-4604-d8b7-43ff6227f3f7"
      },
      "execution_count": 21,
      "outputs": [
        {
          "output_type": "execute_result",
          "data": {
            "text/plain": [
              "0.47792"
            ]
          },
          "metadata": {},
          "execution_count": 21
        }
      ]
    },
    {
      "cell_type": "markdown",
      "source": [
        "<font size = 5>We noticed that about 50% of the samples present pH values ​​outside the WHO specifications. It is a very considerable amount of samples, that is, we can say that half of the samples have reprehensible values.</font>"
      ],
      "metadata": {
        "id": "FBP0wyhrbY8J"
      }
    },
    {
      "cell_type": "markdown",
      "source": [
        "### <font color=blue>2.1.4. Sampling Statistical Analysis</font>\n",
        "***"
      ],
      "metadata": {
        "id": "iPXbhX-HHtR5"
      }
    },
    {
      "cell_type": "markdown",
      "source": [
        "<font size = 5>In this section we will sample 500 records and evaluate the mean within the 95% confidence interval.</font>"
      ],
      "metadata": {
        "id": "r2meSxWzdBPf"
      }
    },
    {
      "cell_type": "code",
      "source": [
        "sample_ph = dataset_ph.sample(n = 500, random_state = 100)"
      ],
      "metadata": {
        "id": "nXF78ADQFcl3"
      },
      "execution_count": 22,
      "outputs": []
    },
    {
      "cell_type": "code",
      "source": [
        "sample_ph.head()"
      ],
      "metadata": {
        "colab": {
          "base_uri": "https://localhost:8080/",
          "height": 206
        },
        "id": "usKkZcVzHNyI",
        "outputId": "a374a5e8-5aeb-4889-c184-0d7fa14b174f"
      },
      "execution_count": 23,
      "outputs": [
        {
          "output_type": "execute_result",
          "data": {
            "text/html": [
              "\n",
              "  <div id=\"df-7e0a4f65-f99a-4c61-a3c0-fa802291dea7\">\n",
              "    <div class=\"colab-df-container\">\n",
              "      <div>\n",
              "<style scoped>\n",
              "    .dataframe tbody tr th:only-of-type {\n",
              "        vertical-align: middle;\n",
              "    }\n",
              "\n",
              "    .dataframe tbody tr th {\n",
              "        vertical-align: top;\n",
              "    }\n",
              "\n",
              "    .dataframe thead th {\n",
              "        text-align: right;\n",
              "    }\n",
              "</style>\n",
              "<table border=\"1\" class=\"dataframe\">\n",
              "  <thead>\n",
              "    <tr style=\"text-align: right;\">\n",
              "      <th></th>\n",
              "      <th>ph</th>\n",
              "      <th>Hardness</th>\n",
              "      <th>Solids</th>\n",
              "      <th>Chloramines</th>\n",
              "      <th>Sulfate</th>\n",
              "      <th>Conductivity</th>\n",
              "      <th>Organic_carbon</th>\n",
              "      <th>Trihalomethanes</th>\n",
              "      <th>Turbidity</th>\n",
              "      <th>Potability</th>\n",
              "    </tr>\n",
              "  </thead>\n",
              "  <tbody>\n",
              "    <tr>\n",
              "      <th>3181</th>\n",
              "      <td>6.64</td>\n",
              "      <td>191.92</td>\n",
              "      <td>10220.71</td>\n",
              "      <td>6.68</td>\n",
              "      <td>380.36</td>\n",
              "      <td>421.42</td>\n",
              "      <td>12.24</td>\n",
              "      <td>65.18</td>\n",
              "      <td>3.15</td>\n",
              "      <td>1</td>\n",
              "    </tr>\n",
              "    <tr>\n",
              "      <th>2559</th>\n",
              "      <td>5.87</td>\n",
              "      <td>186.18</td>\n",
              "      <td>18909.85</td>\n",
              "      <td>8.49</td>\n",
              "      <td>328.75</td>\n",
              "      <td>427.18</td>\n",
              "      <td>13.30</td>\n",
              "      <td>52.16</td>\n",
              "      <td>3.73</td>\n",
              "      <td>0</td>\n",
              "    </tr>\n",
              "    <tr>\n",
              "      <th>3257</th>\n",
              "      <td>6.68</td>\n",
              "      <td>272.11</td>\n",
              "      <td>18989.32</td>\n",
              "      <td>5.34</td>\n",
              "      <td>336.56</td>\n",
              "      <td>307.73</td>\n",
              "      <td>20.18</td>\n",
              "      <td>75.40</td>\n",
              "      <td>5.21</td>\n",
              "      <td>1</td>\n",
              "    </tr>\n",
              "    <tr>\n",
              "      <th>514</th>\n",
              "      <td>5.61</td>\n",
              "      <td>152.95</td>\n",
              "      <td>19835.98</td>\n",
              "      <td>9.35</td>\n",
              "      <td>323.39</td>\n",
              "      <td>596.08</td>\n",
              "      <td>14.38</td>\n",
              "      <td>49.43</td>\n",
              "      <td>4.64</td>\n",
              "      <td>0</td>\n",
              "    </tr>\n",
              "    <tr>\n",
              "      <th>2580</th>\n",
              "      <td>5.95</td>\n",
              "      <td>190.55</td>\n",
              "      <td>12767.66</td>\n",
              "      <td>8.94</td>\n",
              "      <td>323.74</td>\n",
              "      <td>499.94</td>\n",
              "      <td>12.42</td>\n",
              "      <td>54.10</td>\n",
              "      <td>4.90</td>\n",
              "      <td>0</td>\n",
              "    </tr>\n",
              "  </tbody>\n",
              "</table>\n",
              "</div>\n",
              "      <button class=\"colab-df-convert\" onclick=\"convertToInteractive('df-7e0a4f65-f99a-4c61-a3c0-fa802291dea7')\"\n",
              "              title=\"Convert this dataframe to an interactive table.\"\n",
              "              style=\"display:none;\">\n",
              "        \n",
              "  <svg xmlns=\"http://www.w3.org/2000/svg\" height=\"24px\"viewBox=\"0 0 24 24\"\n",
              "       width=\"24px\">\n",
              "    <path d=\"M0 0h24v24H0V0z\" fill=\"none\"/>\n",
              "    <path d=\"M18.56 5.44l.94 2.06.94-2.06 2.06-.94-2.06-.94-.94-2.06-.94 2.06-2.06.94zm-11 1L8.5 8.5l.94-2.06 2.06-.94-2.06-.94L8.5 2.5l-.94 2.06-2.06.94zm10 10l.94 2.06.94-2.06 2.06-.94-2.06-.94-.94-2.06-.94 2.06-2.06.94z\"/><path d=\"M17.41 7.96l-1.37-1.37c-.4-.4-.92-.59-1.43-.59-.52 0-1.04.2-1.43.59L10.3 9.45l-7.72 7.72c-.78.78-.78 2.05 0 2.83L4 21.41c.39.39.9.59 1.41.59.51 0 1.02-.2 1.41-.59l7.78-7.78 2.81-2.81c.8-.78.8-2.07 0-2.86zM5.41 20L4 18.59l7.72-7.72 1.47 1.35L5.41 20z\"/>\n",
              "  </svg>\n",
              "      </button>\n",
              "      \n",
              "  <style>\n",
              "    .colab-df-container {\n",
              "      display:flex;\n",
              "      flex-wrap:wrap;\n",
              "      gap: 12px;\n",
              "    }\n",
              "\n",
              "    .colab-df-convert {\n",
              "      background-color: #E8F0FE;\n",
              "      border: none;\n",
              "      border-radius: 50%;\n",
              "      cursor: pointer;\n",
              "      display: none;\n",
              "      fill: #1967D2;\n",
              "      height: 32px;\n",
              "      padding: 0 0 0 0;\n",
              "      width: 32px;\n",
              "    }\n",
              "\n",
              "    .colab-df-convert:hover {\n",
              "      background-color: #E2EBFA;\n",
              "      box-shadow: 0px 1px 2px rgba(60, 64, 67, 0.3), 0px 1px 3px 1px rgba(60, 64, 67, 0.15);\n",
              "      fill: #174EA6;\n",
              "    }\n",
              "\n",
              "    [theme=dark] .colab-df-convert {\n",
              "      background-color: #3B4455;\n",
              "      fill: #D2E3FC;\n",
              "    }\n",
              "\n",
              "    [theme=dark] .colab-df-convert:hover {\n",
              "      background-color: #434B5C;\n",
              "      box-shadow: 0px 1px 3px 1px rgba(0, 0, 0, 0.15);\n",
              "      filter: drop-shadow(0px 1px 2px rgba(0, 0, 0, 0.3));\n",
              "      fill: #FFFFFF;\n",
              "    }\n",
              "  </style>\n",
              "\n",
              "      <script>\n",
              "        const buttonEl =\n",
              "          document.querySelector('#df-7e0a4f65-f99a-4c61-a3c0-fa802291dea7 button.colab-df-convert');\n",
              "        buttonEl.style.display =\n",
              "          google.colab.kernel.accessAllowed ? 'block' : 'none';\n",
              "\n",
              "        async function convertToInteractive(key) {\n",
              "          const element = document.querySelector('#df-7e0a4f65-f99a-4c61-a3c0-fa802291dea7');\n",
              "          const dataTable =\n",
              "            await google.colab.kernel.invokeFunction('convertToInteractive',\n",
              "                                                     [key], {});\n",
              "          if (!dataTable) return;\n",
              "\n",
              "          const docLinkHtml = 'Like what you see? Visit the ' +\n",
              "            '<a target=\"_blank\" href=https://colab.research.google.com/notebooks/data_table.ipynb>data table notebook</a>'\n",
              "            + ' to learn more about interactive tables.';\n",
              "          element.innerHTML = '';\n",
              "          dataTable['output_type'] = 'display_data';\n",
              "          await google.colab.output.renderOutput(dataTable, element);\n",
              "          const docLink = document.createElement('div');\n",
              "          docLink.innerHTML = docLinkHtml;\n",
              "          element.appendChild(docLink);\n",
              "        }\n",
              "      </script>\n",
              "    </div>\n",
              "  </div>\n",
              "  "
            ],
            "text/plain": [
              "        ph  Hardness    Solids  ...  Trihalomethanes  Turbidity  Potability\n",
              "3181  6.64    191.92  10220.71  ...            65.18       3.15           1\n",
              "2559  5.87    186.18  18909.85  ...            52.16       3.73           0\n",
              "3257  6.68    272.11  18989.32  ...            75.40       5.21           1\n",
              "514   5.61    152.95  19835.98  ...            49.43       4.64           0\n",
              "2580  5.95    190.55  12767.66  ...            54.10       4.90           0\n",
              "\n",
              "[5 rows x 10 columns]"
            ]
          },
          "metadata": {},
          "execution_count": 23
        }
      ]
    },
    {
      "cell_type": "code",
      "source": [
        "sample_ph.ph.describe() # Sample with 500 values"
      ],
      "metadata": {
        "colab": {
          "base_uri": "https://localhost:8080/"
        },
        "id": "gVRabjjSHO0x",
        "outputId": "d7aa0c31-d480-445d-cbbe-57857af0aab0"
      },
      "execution_count": 24,
      "outputs": [
        {
          "output_type": "execute_result",
          "data": {
            "text/plain": [
              "count    500.000000\n",
              "mean       7.054280\n",
              "std        1.567157\n",
              "min        2.130000\n",
              "25%        6.007500\n",
              "50%        6.980000\n",
              "75%        8.045000\n",
              "max       12.250000\n",
              "Name: ph, dtype: float64"
            ]
          },
          "metadata": {},
          "execution_count": 24
        }
      ]
    },
    {
      "cell_type": "code",
      "source": [
        "dataset_ph.ph.describe()"
      ],
      "metadata": {
        "colab": {
          "base_uri": "https://localhost:8080/"
        },
        "id": "QPdupVgHIIu-",
        "outputId": "871c869d-d50a-4d6e-b3b3-2eb29b572bb4"
      },
      "execution_count": 25,
      "outputs": [
        {
          "output_type": "execute_result",
          "data": {
            "text/plain": [
              "count    2785.000000\n",
              "mean        7.080804\n",
              "std         1.594369\n",
              "min         0.000000\n",
              "25%         6.090000\n",
              "50%         7.040000\n",
              "75%         8.060000\n",
              "max        14.000000\n",
              "Name: ph, dtype: float64"
            ]
          },
          "metadata": {},
          "execution_count": 25
        }
      ]
    },
    {
      "cell_type": "markdown",
      "source": [
        "####Confidence Interval with 0.05 of significance"
      ],
      "metadata": {
        "id": "683th7Aqleym"
      }
    },
    {
      "cell_type": "code",
      "source": [
        "standard_deviation_ph = sample_ph['ph'].std()"
      ],
      "metadata": {
        "id": "_TP_p6qlam9R"
      },
      "execution_count": 26,
      "outputs": []
    },
    {
      "cell_type": "markdown",
      "source": [
        "\n",
        "#### Calculating $$\\sigma_\\bar{x} = \\frac{\\sigma}{\\sqrt{n}}$$"
      ],
      "metadata": {
        "id": "v97sCNV8UeK6"
      }
    },
    {
      "cell_type": "code",
      "source": [
        "sigma = standard_deviation_ph / np.sqrt(500)\n",
        "sigma"
      ],
      "metadata": {
        "colab": {
          "base_uri": "https://localhost:8080/"
        },
        "id": "IziKTAkUkD14",
        "outputId": "a01c1352-6c0f-4220-fcbc-23fb4e6dcc7f"
      },
      "execution_count": 27,
      "outputs": [
        {
          "output_type": "execute_result",
          "data": {
            "text/plain": [
              "0.07008538853836187"
            ]
          },
          "metadata": {},
          "execution_count": 27
        }
      ]
    },
    {
      "cell_type": "markdown",
      "source": [
        "#### Getting $Z$ (0.95 confidence)\n"
      ],
      "metadata": {
        "id": "J89ZXBKfUZoe"
      }
    },
    {
      "cell_type": "code",
      "source": [
        "z = round(norm.ppf(0.975), 2)\n",
        "z"
      ],
      "metadata": {
        "colab": {
          "base_uri": "https://localhost:8080/"
        },
        "id": "EfiB0P5R11PB",
        "outputId": "e1dddece-422a-40bf-a33e-19b71267c344"
      },
      "execution_count": 28,
      "outputs": [
        {
          "output_type": "execute_result",
          "data": {
            "text/plain": [
              "1.96"
            ]
          },
          "metadata": {},
          "execution_count": 28
        }
      ]
    },
    {
      "cell_type": "markdown",
      "source": [
        "#### Getting $e$"
      ],
      "metadata": {
        "id": "i5r21z10Wp1r"
      }
    },
    {
      "cell_type": "code",
      "source": [
        "e = z * sigma\n",
        "e"
      ],
      "metadata": {
        "colab": {
          "base_uri": "https://localhost:8080/"
        },
        "id": "xEdF_20YoxGW",
        "outputId": "20237c8d-3565-448d-81cc-bf8dde6518cf"
      },
      "execution_count": 29,
      "outputs": [
        {
          "output_type": "execute_result",
          "data": {
            "text/plain": [
              "0.13736736153518925"
            ]
          },
          "metadata": {},
          "execution_count": 29
        }
      ]
    },
    {
      "cell_type": "code",
      "source": [
        "interval = (\n",
        "    sample_ph.ph.mean() - e,\n",
        "    sample_ph.ph.mean() + e\n",
        ")\n",
        "\n",
        "interval"
      ],
      "metadata": {
        "colab": {
          "base_uri": "https://localhost:8080/"
        },
        "id": "e9Q3xIuBpgoV",
        "outputId": "97bd9b2a-43d2-4956-92c3-738b46e973d1"
      },
      "execution_count": 30,
      "outputs": [
        {
          "output_type": "execute_result",
          "data": {
            "text/plain": [
              "(6.916912638464812, 7.191647361535191)"
            ]
          },
          "metadata": {},
          "execution_count": 30
        }
      ]
    },
    {
      "cell_type": "code",
      "source": [
        "norm.interval(alpha = 0.95,\n",
        "              loc = sample_ph.ph.mean(),\n",
        "              scale = sigma\n",
        "              )"
      ],
      "metadata": {
        "colab": {
          "base_uri": "https://localhost:8080/"
        },
        "id": "IIjsiekfpoX-",
        "outputId": "b8d38dab-7741-4b83-f55b-17cd74fbb9b8"
      },
      "execution_count": 31,
      "outputs": [
        {
          "output_type": "execute_result",
          "data": {
            "text/plain": [
              "(6.916915162622316, 7.1916448373776864)"
            ]
          },
          "metadata": {},
          "execution_count": 31
        }
      ]
    },
    {
      "cell_type": "code",
      "source": [
        "sample_ph.query('ph >= 6.9169 & ph <= 7.1916').head(10)"
      ],
      "metadata": {
        "colab": {
          "base_uri": "https://localhost:8080/",
          "height": 363
        },
        "id": "BnmLVvLmqNmb",
        "outputId": "0e51da3a-d079-4032-ba81-8d8a5546e8d7"
      },
      "execution_count": 32,
      "outputs": [
        {
          "output_type": "execute_result",
          "data": {
            "text/html": [
              "\n",
              "  <div id=\"df-396c8368-b15f-43a5-b6b3-6ab539de2e10\">\n",
              "    <div class=\"colab-df-container\">\n",
              "      <div>\n",
              "<style scoped>\n",
              "    .dataframe tbody tr th:only-of-type {\n",
              "        vertical-align: middle;\n",
              "    }\n",
              "\n",
              "    .dataframe tbody tr th {\n",
              "        vertical-align: top;\n",
              "    }\n",
              "\n",
              "    .dataframe thead th {\n",
              "        text-align: right;\n",
              "    }\n",
              "</style>\n",
              "<table border=\"1\" class=\"dataframe\">\n",
              "  <thead>\n",
              "    <tr style=\"text-align: right;\">\n",
              "      <th></th>\n",
              "      <th>ph</th>\n",
              "      <th>Hardness</th>\n",
              "      <th>Solids</th>\n",
              "      <th>Chloramines</th>\n",
              "      <th>Sulfate</th>\n",
              "      <th>Conductivity</th>\n",
              "      <th>Organic_carbon</th>\n",
              "      <th>Trihalomethanes</th>\n",
              "      <th>Turbidity</th>\n",
              "      <th>Potability</th>\n",
              "    </tr>\n",
              "  </thead>\n",
              "  <tbody>\n",
              "    <tr>\n",
              "      <th>1958</th>\n",
              "      <td>7.15</td>\n",
              "      <td>198.15</td>\n",
              "      <td>32680.98</td>\n",
              "      <td>8.97</td>\n",
              "      <td>283.11</td>\n",
              "      <td>531.60</td>\n",
              "      <td>19.81</td>\n",
              "      <td>81.93</td>\n",
              "      <td>4.63</td>\n",
              "      <td>1</td>\n",
              "    </tr>\n",
              "    <tr>\n",
              "      <th>3191</th>\n",
              "      <td>6.99</td>\n",
              "      <td>133.43</td>\n",
              "      <td>21944.64</td>\n",
              "      <td>8.58</td>\n",
              "      <td>341.24</td>\n",
              "      <td>536.28</td>\n",
              "      <td>16.18</td>\n",
              "      <td>91.71</td>\n",
              "      <td>4.25</td>\n",
              "      <td>1</td>\n",
              "    </tr>\n",
              "    <tr>\n",
              "      <th>12</th>\n",
              "      <td>7.12</td>\n",
              "      <td>156.70</td>\n",
              "      <td>18730.81</td>\n",
              "      <td>3.61</td>\n",
              "      <td>282.34</td>\n",
              "      <td>347.72</td>\n",
              "      <td>15.93</td>\n",
              "      <td>79.50</td>\n",
              "      <td>3.45</td>\n",
              "      <td>0</td>\n",
              "    </tr>\n",
              "    <tr>\n",
              "      <th>2220</th>\n",
              "      <td>7.10</td>\n",
              "      <td>243.41</td>\n",
              "      <td>23493.12</td>\n",
              "      <td>4.79</td>\n",
              "      <td>283.34</td>\n",
              "      <td>341.44</td>\n",
              "      <td>16.07</td>\n",
              "      <td>45.63</td>\n",
              "      <td>3.07</td>\n",
              "      <td>0</td>\n",
              "    </tr>\n",
              "    <tr>\n",
              "      <th>1617</th>\n",
              "      <td>6.96</td>\n",
              "      <td>214.38</td>\n",
              "      <td>15007.42</td>\n",
              "      <td>7.00</td>\n",
              "      <td>328.82</td>\n",
              "      <td>468.56</td>\n",
              "      <td>17.41</td>\n",
              "      <td>104.21</td>\n",
              "      <td>4.89</td>\n",
              "      <td>1</td>\n",
              "    </tr>\n",
              "    <tr>\n",
              "      <th>232</th>\n",
              "      <td>6.98</td>\n",
              "      <td>183.24</td>\n",
              "      <td>23114.45</td>\n",
              "      <td>6.50</td>\n",
              "      <td>323.16</td>\n",
              "      <td>470.08</td>\n",
              "      <td>16.08</td>\n",
              "      <td>66.00</td>\n",
              "      <td>4.77</td>\n",
              "      <td>0</td>\n",
              "    </tr>\n",
              "    <tr>\n",
              "      <th>449</th>\n",
              "      <td>7.08</td>\n",
              "      <td>232.58</td>\n",
              "      <td>26177.79</td>\n",
              "      <td>3.91</td>\n",
              "      <td>334.16</td>\n",
              "      <td>380.46</td>\n",
              "      <td>9.63</td>\n",
              "      <td>41.95</td>\n",
              "      <td>3.70</td>\n",
              "      <td>0</td>\n",
              "    </tr>\n",
              "    <tr>\n",
              "      <th>571</th>\n",
              "      <td>7.14</td>\n",
              "      <td>180.90</td>\n",
              "      <td>9727.65</td>\n",
              "      <td>5.71</td>\n",
              "      <td>NaN</td>\n",
              "      <td>399.95</td>\n",
              "      <td>15.95</td>\n",
              "      <td>67.70</td>\n",
              "      <td>3.27</td>\n",
              "      <td>0</td>\n",
              "    </tr>\n",
              "    <tr>\n",
              "      <th>1384</th>\n",
              "      <td>6.98</td>\n",
              "      <td>181.12</td>\n",
              "      <td>17503.31</td>\n",
              "      <td>6.93</td>\n",
              "      <td>NaN</td>\n",
              "      <td>181.48</td>\n",
              "      <td>11.60</td>\n",
              "      <td>72.03</td>\n",
              "      <td>4.43</td>\n",
              "      <td>0</td>\n",
              "    </tr>\n",
              "    <tr>\n",
              "      <th>507</th>\n",
              "      <td>7.12</td>\n",
              "      <td>204.16</td>\n",
              "      <td>20574.36</td>\n",
              "      <td>7.09</td>\n",
              "      <td>NaN</td>\n",
              "      <td>353.93</td>\n",
              "      <td>16.49</td>\n",
              "      <td>57.02</td>\n",
              "      <td>3.77</td>\n",
              "      <td>0</td>\n",
              "    </tr>\n",
              "  </tbody>\n",
              "</table>\n",
              "</div>\n",
              "      <button class=\"colab-df-convert\" onclick=\"convertToInteractive('df-396c8368-b15f-43a5-b6b3-6ab539de2e10')\"\n",
              "              title=\"Convert this dataframe to an interactive table.\"\n",
              "              style=\"display:none;\">\n",
              "        \n",
              "  <svg xmlns=\"http://www.w3.org/2000/svg\" height=\"24px\"viewBox=\"0 0 24 24\"\n",
              "       width=\"24px\">\n",
              "    <path d=\"M0 0h24v24H0V0z\" fill=\"none\"/>\n",
              "    <path d=\"M18.56 5.44l.94 2.06.94-2.06 2.06-.94-2.06-.94-.94-2.06-.94 2.06-2.06.94zm-11 1L8.5 8.5l.94-2.06 2.06-.94-2.06-.94L8.5 2.5l-.94 2.06-2.06.94zm10 10l.94 2.06.94-2.06 2.06-.94-2.06-.94-.94-2.06-.94 2.06-2.06.94z\"/><path d=\"M17.41 7.96l-1.37-1.37c-.4-.4-.92-.59-1.43-.59-.52 0-1.04.2-1.43.59L10.3 9.45l-7.72 7.72c-.78.78-.78 2.05 0 2.83L4 21.41c.39.39.9.59 1.41.59.51 0 1.02-.2 1.41-.59l7.78-7.78 2.81-2.81c.8-.78.8-2.07 0-2.86zM5.41 20L4 18.59l7.72-7.72 1.47 1.35L5.41 20z\"/>\n",
              "  </svg>\n",
              "      </button>\n",
              "      \n",
              "  <style>\n",
              "    .colab-df-container {\n",
              "      display:flex;\n",
              "      flex-wrap:wrap;\n",
              "      gap: 12px;\n",
              "    }\n",
              "\n",
              "    .colab-df-convert {\n",
              "      background-color: #E8F0FE;\n",
              "      border: none;\n",
              "      border-radius: 50%;\n",
              "      cursor: pointer;\n",
              "      display: none;\n",
              "      fill: #1967D2;\n",
              "      height: 32px;\n",
              "      padding: 0 0 0 0;\n",
              "      width: 32px;\n",
              "    }\n",
              "\n",
              "    .colab-df-convert:hover {\n",
              "      background-color: #E2EBFA;\n",
              "      box-shadow: 0px 1px 2px rgba(60, 64, 67, 0.3), 0px 1px 3px 1px rgba(60, 64, 67, 0.15);\n",
              "      fill: #174EA6;\n",
              "    }\n",
              "\n",
              "    [theme=dark] .colab-df-convert {\n",
              "      background-color: #3B4455;\n",
              "      fill: #D2E3FC;\n",
              "    }\n",
              "\n",
              "    [theme=dark] .colab-df-convert:hover {\n",
              "      background-color: #434B5C;\n",
              "      box-shadow: 0px 1px 3px 1px rgba(0, 0, 0, 0.15);\n",
              "      filter: drop-shadow(0px 1px 2px rgba(0, 0, 0, 0.3));\n",
              "      fill: #FFFFFF;\n",
              "    }\n",
              "  </style>\n",
              "\n",
              "      <script>\n",
              "        const buttonEl =\n",
              "          document.querySelector('#df-396c8368-b15f-43a5-b6b3-6ab539de2e10 button.colab-df-convert');\n",
              "        buttonEl.style.display =\n",
              "          google.colab.kernel.accessAllowed ? 'block' : 'none';\n",
              "\n",
              "        async function convertToInteractive(key) {\n",
              "          const element = document.querySelector('#df-396c8368-b15f-43a5-b6b3-6ab539de2e10');\n",
              "          const dataTable =\n",
              "            await google.colab.kernel.invokeFunction('convertToInteractive',\n",
              "                                                     [key], {});\n",
              "          if (!dataTable) return;\n",
              "\n",
              "          const docLinkHtml = 'Like what you see? Visit the ' +\n",
              "            '<a target=\"_blank\" href=https://colab.research.google.com/notebooks/data_table.ipynb>data table notebook</a>'\n",
              "            + ' to learn more about interactive tables.';\n",
              "          element.innerHTML = '';\n",
              "          dataTable['output_type'] = 'display_data';\n",
              "          await google.colab.output.renderOutput(dataTable, element);\n",
              "          const docLink = document.createElement('div');\n",
              "          docLink.innerHTML = docLinkHtml;\n",
              "          element.appendChild(docLink);\n",
              "        }\n",
              "      </script>\n",
              "    </div>\n",
              "  </div>\n",
              "  "
            ],
            "text/plain": [
              "        ph  Hardness    Solids  ...  Trihalomethanes  Turbidity  Potability\n",
              "1958  7.15    198.15  32680.98  ...            81.93       4.63           1\n",
              "3191  6.99    133.43  21944.64  ...            91.71       4.25           1\n",
              "12    7.12    156.70  18730.81  ...            79.50       3.45           0\n",
              "2220  7.10    243.41  23493.12  ...            45.63       3.07           0\n",
              "1617  6.96    214.38  15007.42  ...           104.21       4.89           1\n",
              "232   6.98    183.24  23114.45  ...            66.00       4.77           0\n",
              "449   7.08    232.58  26177.79  ...            41.95       3.70           0\n",
              "571   7.14    180.90   9727.65  ...            67.70       3.27           0\n",
              "1384  6.98    181.12  17503.31  ...            72.03       4.43           0\n",
              "507   7.12    204.16  20574.36  ...            57.02       3.77           0\n",
              "\n",
              "[10 rows x 10 columns]"
            ]
          },
          "metadata": {},
          "execution_count": 32
        }
      ]
    },
    {
      "cell_type": "code",
      "source": [
        "confidence_interval_samples = sample_ph.query('ph >= 6.9169 & ph <= 7.1916')"
      ],
      "metadata": {
        "id": "GzzLbf8825Ak"
      },
      "execution_count": 33,
      "outputs": []
    },
    {
      "cell_type": "code",
      "source": [
        "confidence_interval_samples.ph.describe()"
      ],
      "metadata": {
        "colab": {
          "base_uri": "https://localhost:8080/"
        },
        "id": "5LGBo_B2jsm6",
        "outputId": "b2568602-f236-4ff8-b338-23f1f62a8885"
      },
      "execution_count": 34,
      "outputs": [
        {
          "output_type": "execute_result",
          "data": {
            "text/plain": [
              "count    40.000000\n",
              "mean      7.037000\n",
              "std       0.077135\n",
              "min       6.930000\n",
              "25%       6.980000\n",
              "50%       7.025000\n",
              "75%       7.105000\n",
              "max       7.170000\n",
              "Name: ph, dtype: float64"
            ]
          },
          "metadata": {},
          "execution_count": 34
        }
      ]
    },
    {
      "cell_type": "code",
      "source": [
        "dataset_ph.ph.describe()"
      ],
      "metadata": {
        "colab": {
          "base_uri": "https://localhost:8080/"
        },
        "id": "U4KQUrpOkTQH",
        "outputId": "90f447e0-ca34-4d31-e551-dc8b0eed2457"
      },
      "execution_count": 35,
      "outputs": [
        {
          "output_type": "execute_result",
          "data": {
            "text/plain": [
              "count    2785.000000\n",
              "mean        7.080804\n",
              "std         1.594369\n",
              "min         0.000000\n",
              "25%         6.090000\n",
              "50%         7.040000\n",
              "75%         8.060000\n",
              "max        14.000000\n",
              "Name: ph, dtype: float64"
            ]
          },
          "metadata": {},
          "execution_count": 35
        }
      ]
    },
    {
      "cell_type": "markdown",
      "source": [
        "## <font color=blue>2.2. Hardness</font>\n",
        "***"
      ],
      "metadata": {
        "id": "fsoAaKexqJGS"
      }
    },
    {
      "cell_type": "markdown",
      "source": [
        "**Hardness:**\n",
        "\n",
        "Hardness is mainly caused by calcium and magnesium salts. These salts are dissolved from geologic deposits through which water travels. The length of time water is in contact with hardness producing material helps determine how much hardness there is in raw water. Hardness was originally defined as the capacity of water to precipitate soap caused by Calcium and Magnesium."
      ],
      "metadata": {
        "id": "G-maKJFlqVm_"
      }
    },
    {
      "cell_type": "markdown",
      "source": [
        "### <font color=blue>2.2.1. Clearing Null Values</font>\n",
        "***"
      ],
      "metadata": {
        "id": "fyz5pHgCqirL"
      }
    },
    {
      "cell_type": "code",
      "source": [
        "dataset.info()"
      ],
      "metadata": {
        "colab": {
          "base_uri": "https://localhost:8080/"
        },
        "id": "pPszfqgwrGuV",
        "outputId": "80c76030-531f-4d46-aced-47f637353186"
      },
      "execution_count": 36,
      "outputs": [
        {
          "output_type": "stream",
          "name": "stdout",
          "text": [
            "<class 'pandas.core.frame.DataFrame'>\n",
            "RangeIndex: 3276 entries, 0 to 3275\n",
            "Data columns (total 10 columns):\n",
            " #   Column           Non-Null Count  Dtype  \n",
            "---  ------           --------------  -----  \n",
            " 0   ph               2785 non-null   float64\n",
            " 1   Hardness         3276 non-null   float64\n",
            " 2   Solids           3276 non-null   float64\n",
            " 3   Chloramines      3276 non-null   float64\n",
            " 4   Sulfate          2495 non-null   float64\n",
            " 5   Conductivity     3276 non-null   float64\n",
            " 6   Organic_carbon   3276 non-null   float64\n",
            " 7   Trihalomethanes  3114 non-null   float64\n",
            " 8   Turbidity        3276 non-null   float64\n",
            " 9   Potability       3276 non-null   int64  \n",
            "dtypes: float64(9), int64(1)\n",
            "memory usage: 256.1 KB\n"
          ]
        }
      ]
    },
    {
      "cell_type": "markdown",
      "source": [
        "The hardness parameter does not have null values ​​in its register."
      ],
      "metadata": {
        "id": "n7ppHMRtrKiq"
      }
    },
    {
      "cell_type": "markdown",
      "source": [
        "### <font color=blue>2.2.2. Descriptive Statistical Analysis</font>\n",
        "***"
      ],
      "metadata": {
        "id": "N4vcqWuLroX_"
      }
    },
    {
      "cell_type": "code",
      "source": [
        "descriptive_statistics = pd.DataFrame(dataset['Hardness'].describe().round(2))"
      ],
      "metadata": {
        "id": "DBBXUViFqpkq"
      },
      "execution_count": 37,
      "outputs": []
    },
    {
      "cell_type": "code",
      "source": [
        "descriptive_statistics"
      ],
      "metadata": {
        "colab": {
          "base_uri": "https://localhost:8080/",
          "height": 300
        },
        "id": "OzgPG2qasMts",
        "outputId": "7047e456-c97c-4e09-e6d1-158ef13fb4c4"
      },
      "execution_count": 38,
      "outputs": [
        {
          "output_type": "execute_result",
          "data": {
            "text/html": [
              "\n",
              "  <div id=\"df-d308426b-45d3-4085-9d6f-927600f85755\">\n",
              "    <div class=\"colab-df-container\">\n",
              "      <div>\n",
              "<style scoped>\n",
              "    .dataframe tbody tr th:only-of-type {\n",
              "        vertical-align: middle;\n",
              "    }\n",
              "\n",
              "    .dataframe tbody tr th {\n",
              "        vertical-align: top;\n",
              "    }\n",
              "\n",
              "    .dataframe thead th {\n",
              "        text-align: right;\n",
              "    }\n",
              "</style>\n",
              "<table border=\"1\" class=\"dataframe\">\n",
              "  <thead>\n",
              "    <tr style=\"text-align: right;\">\n",
              "      <th></th>\n",
              "      <th>Hardness</th>\n",
              "    </tr>\n",
              "  </thead>\n",
              "  <tbody>\n",
              "    <tr>\n",
              "      <th>count</th>\n",
              "      <td>3276.00</td>\n",
              "    </tr>\n",
              "    <tr>\n",
              "      <th>mean</th>\n",
              "      <td>196.37</td>\n",
              "    </tr>\n",
              "    <tr>\n",
              "      <th>std</th>\n",
              "      <td>32.88</td>\n",
              "    </tr>\n",
              "    <tr>\n",
              "      <th>min</th>\n",
              "      <td>47.43</td>\n",
              "    </tr>\n",
              "    <tr>\n",
              "      <th>25%</th>\n",
              "      <td>176.85</td>\n",
              "    </tr>\n",
              "    <tr>\n",
              "      <th>50%</th>\n",
              "      <td>196.96</td>\n",
              "    </tr>\n",
              "    <tr>\n",
              "      <th>75%</th>\n",
              "      <td>216.67</td>\n",
              "    </tr>\n",
              "    <tr>\n",
              "      <th>max</th>\n",
              "      <td>323.12</td>\n",
              "    </tr>\n",
              "  </tbody>\n",
              "</table>\n",
              "</div>\n",
              "      <button class=\"colab-df-convert\" onclick=\"convertToInteractive('df-d308426b-45d3-4085-9d6f-927600f85755')\"\n",
              "              title=\"Convert this dataframe to an interactive table.\"\n",
              "              style=\"display:none;\">\n",
              "        \n",
              "  <svg xmlns=\"http://www.w3.org/2000/svg\" height=\"24px\"viewBox=\"0 0 24 24\"\n",
              "       width=\"24px\">\n",
              "    <path d=\"M0 0h24v24H0V0z\" fill=\"none\"/>\n",
              "    <path d=\"M18.56 5.44l.94 2.06.94-2.06 2.06-.94-2.06-.94-.94-2.06-.94 2.06-2.06.94zm-11 1L8.5 8.5l.94-2.06 2.06-.94-2.06-.94L8.5 2.5l-.94 2.06-2.06.94zm10 10l.94 2.06.94-2.06 2.06-.94-2.06-.94-.94-2.06-.94 2.06-2.06.94z\"/><path d=\"M17.41 7.96l-1.37-1.37c-.4-.4-.92-.59-1.43-.59-.52 0-1.04.2-1.43.59L10.3 9.45l-7.72 7.72c-.78.78-.78 2.05 0 2.83L4 21.41c.39.39.9.59 1.41.59.51 0 1.02-.2 1.41-.59l7.78-7.78 2.81-2.81c.8-.78.8-2.07 0-2.86zM5.41 20L4 18.59l7.72-7.72 1.47 1.35L5.41 20z\"/>\n",
              "  </svg>\n",
              "      </button>\n",
              "      \n",
              "  <style>\n",
              "    .colab-df-container {\n",
              "      display:flex;\n",
              "      flex-wrap:wrap;\n",
              "      gap: 12px;\n",
              "    }\n",
              "\n",
              "    .colab-df-convert {\n",
              "      background-color: #E8F0FE;\n",
              "      border: none;\n",
              "      border-radius: 50%;\n",
              "      cursor: pointer;\n",
              "      display: none;\n",
              "      fill: #1967D2;\n",
              "      height: 32px;\n",
              "      padding: 0 0 0 0;\n",
              "      width: 32px;\n",
              "    }\n",
              "\n",
              "    .colab-df-convert:hover {\n",
              "      background-color: #E2EBFA;\n",
              "      box-shadow: 0px 1px 2px rgba(60, 64, 67, 0.3), 0px 1px 3px 1px rgba(60, 64, 67, 0.15);\n",
              "      fill: #174EA6;\n",
              "    }\n",
              "\n",
              "    [theme=dark] .colab-df-convert {\n",
              "      background-color: #3B4455;\n",
              "      fill: #D2E3FC;\n",
              "    }\n",
              "\n",
              "    [theme=dark] .colab-df-convert:hover {\n",
              "      background-color: #434B5C;\n",
              "      box-shadow: 0px 1px 3px 1px rgba(0, 0, 0, 0.15);\n",
              "      filter: drop-shadow(0px 1px 2px rgba(0, 0, 0, 0.3));\n",
              "      fill: #FFFFFF;\n",
              "    }\n",
              "  </style>\n",
              "\n",
              "      <script>\n",
              "        const buttonEl =\n",
              "          document.querySelector('#df-d308426b-45d3-4085-9d6f-927600f85755 button.colab-df-convert');\n",
              "        buttonEl.style.display =\n",
              "          google.colab.kernel.accessAllowed ? 'block' : 'none';\n",
              "\n",
              "        async function convertToInteractive(key) {\n",
              "          const element = document.querySelector('#df-d308426b-45d3-4085-9d6f-927600f85755');\n",
              "          const dataTable =\n",
              "            await google.colab.kernel.invokeFunction('convertToInteractive',\n",
              "                                                     [key], {});\n",
              "          if (!dataTable) return;\n",
              "\n",
              "          const docLinkHtml = 'Like what you see? Visit the ' +\n",
              "            '<a target=\"_blank\" href=https://colab.research.google.com/notebooks/data_table.ipynb>data table notebook</a>'\n",
              "            + ' to learn more about interactive tables.';\n",
              "          element.innerHTML = '';\n",
              "          dataTable['output_type'] = 'display_data';\n",
              "          await google.colab.output.renderOutput(dataTable, element);\n",
              "          const docLink = document.createElement('div');\n",
              "          docLink.innerHTML = docLinkHtml;\n",
              "          element.appendChild(docLink);\n",
              "        }\n",
              "      </script>\n",
              "    </div>\n",
              "  </div>\n",
              "  "
            ],
            "text/plain": [
              "       Hardness\n",
              "count   3276.00\n",
              "mean     196.37\n",
              "std       32.88\n",
              "min       47.43\n",
              "25%      176.85\n",
              "50%      196.96\n",
              "75%      216.67\n",
              "max      323.12"
            ]
          },
          "metadata": {},
          "execution_count": 38
        }
      ]
    },
    {
      "cell_type": "markdown",
      "source": [
        "### <font color=blue>2.2.3. Frequency distribution for quantitative variables (custom classes)</font>\n",
        "***"
      ],
      "metadata": {
        "id": "1SXol3FYLK1Y"
      }
    },
    {
      "cell_type": "markdown",
      "source": [
        "<font size = 5>Water containing calcium carbonate at\n",
        "concentrations below 60 mg/l is generally considered as soft; 60–120 mg/l,\n",
        "moderately hard; 120–180 mg/l, hard; and more than 180 mg/l, very hard (McGowan,\n",
        "2000).\n",
        "\n",
        "How does our data split within these classes?</font>"
      ],
      "metadata": {
        "id": "eZPGqArPsxsz"
      }
    },
    {
      "cell_type": "markdown",
      "source": [
        "<b>Soft</b> ► < 60 (mg/L)\n",
        "\n",
        "<b>Moderately Hard</b> ► 60 <= Hardness < 120 (mg/L)\n",
        "\n",
        "<b>Hard</b> ► 120 <= Hardness < 180 (mg/L)\n",
        "\n",
        "<b>Very Hard</b> ► <= 180 (mg/L)"
      ],
      "metadata": {
        "id": "-KQiBd6WtiQs"
      }
    },
    {
      "cell_type": "code",
      "source": [
        "classes = [0, 60, 120, 180, 350]"
      ],
      "metadata": {
        "id": "8AbxF2sMukdb"
      },
      "execution_count": 39,
      "outputs": []
    },
    {
      "cell_type": "code",
      "source": [
        "labels = ['Soft', 'Moderately Hard', 'Hard', 'Very Hard']"
      ],
      "metadata": {
        "id": "BwrzA2ONuvmR"
      },
      "execution_count": 40,
      "outputs": []
    },
    {
      "cell_type": "code",
      "source": [
        "frequency = pd.value_counts(\n",
        "    pd.cut(x = dataset.Hardness,\n",
        "       bins = classes,\n",
        "       labels = labels,\n",
        "       include_lowest = True)\n",
        ")\n",
        "\n",
        "frequency"
      ],
      "metadata": {
        "colab": {
          "base_uri": "https://localhost:8080/"
        },
        "id": "CafePwmwu_mb",
        "outputId": "8e498d04-1815-46aa-f870-203952195667"
      },
      "execution_count": 41,
      "outputs": [
        {
          "output_type": "execute_result",
          "data": {
            "text/plain": [
              "Very Hard          2341\n",
              "Hard                883\n",
              "Moderately Hard      51\n",
              "Soft                  1\n",
              "Name: Hardness, dtype: int64"
            ]
          },
          "metadata": {},
          "execution_count": 41
        }
      ]
    },
    {
      "cell_type": "code",
      "source": [
        "percentage = pd.value_counts(\n",
        "    pd.cut(x = dataset.Hardness,\n",
        "       bins = classes,\n",
        "       labels = labels,\n",
        "       include_lowest = True),\n",
        "       normalize =True\n",
        ") * 100\n",
        "\n",
        "percentage"
      ],
      "metadata": {
        "colab": {
          "base_uri": "https://localhost:8080/"
        },
        "id": "3WHcre9hvZ1j",
        "outputId": "0dd15003-76de-417a-fb69-2cb2c44b427b"
      },
      "execution_count": 42,
      "outputs": [
        {
          "output_type": "execute_result",
          "data": {
            "text/plain": [
              "Very Hard          71.459096\n",
              "Hard               26.953602\n",
              "Moderately Hard     1.556777\n",
              "Soft                0.030525\n",
              "Name: Hardness, dtype: float64"
            ]
          },
          "metadata": {},
          "execution_count": 42
        }
      ]
    },
    {
      "cell_type": "code",
      "source": [
        "quatitative_frequency_distribution = pd.DataFrame({'Frequency': frequency, 'Percentage (%)': percentage})\n",
        "quatitative_frequency_distribution.rename_axis('Classification', axis = 'columns', inplace = True)\n",
        "quatitative_frequency_distribution"
      ],
      "metadata": {
        "colab": {
          "base_uri": "https://localhost:8080/",
          "height": 175
        },
        "id": "eNTIcSqLv0nj",
        "outputId": "6a55226b-47cb-4aeb-cd77-5cf203a04dec"
      },
      "execution_count": 43,
      "outputs": [
        {
          "output_type": "execute_result",
          "data": {
            "text/html": [
              "\n",
              "  <div id=\"df-6f4eabf2-f85a-46e4-b4c6-9ebaa66a738a\">\n",
              "    <div class=\"colab-df-container\">\n",
              "      <div>\n",
              "<style scoped>\n",
              "    .dataframe tbody tr th:only-of-type {\n",
              "        vertical-align: middle;\n",
              "    }\n",
              "\n",
              "    .dataframe tbody tr th {\n",
              "        vertical-align: top;\n",
              "    }\n",
              "\n",
              "    .dataframe thead th {\n",
              "        text-align: right;\n",
              "    }\n",
              "</style>\n",
              "<table border=\"1\" class=\"dataframe\">\n",
              "  <thead>\n",
              "    <tr style=\"text-align: right;\">\n",
              "      <th>Classification</th>\n",
              "      <th>Frequency</th>\n",
              "      <th>Percentage (%)</th>\n",
              "    </tr>\n",
              "  </thead>\n",
              "  <tbody>\n",
              "    <tr>\n",
              "      <th>Very Hard</th>\n",
              "      <td>2341</td>\n",
              "      <td>71.459096</td>\n",
              "    </tr>\n",
              "    <tr>\n",
              "      <th>Hard</th>\n",
              "      <td>883</td>\n",
              "      <td>26.953602</td>\n",
              "    </tr>\n",
              "    <tr>\n",
              "      <th>Moderately Hard</th>\n",
              "      <td>51</td>\n",
              "      <td>1.556777</td>\n",
              "    </tr>\n",
              "    <tr>\n",
              "      <th>Soft</th>\n",
              "      <td>1</td>\n",
              "      <td>0.030525</td>\n",
              "    </tr>\n",
              "  </tbody>\n",
              "</table>\n",
              "</div>\n",
              "      <button class=\"colab-df-convert\" onclick=\"convertToInteractive('df-6f4eabf2-f85a-46e4-b4c6-9ebaa66a738a')\"\n",
              "              title=\"Convert this dataframe to an interactive table.\"\n",
              "              style=\"display:none;\">\n",
              "        \n",
              "  <svg xmlns=\"http://www.w3.org/2000/svg\" height=\"24px\"viewBox=\"0 0 24 24\"\n",
              "       width=\"24px\">\n",
              "    <path d=\"M0 0h24v24H0V0z\" fill=\"none\"/>\n",
              "    <path d=\"M18.56 5.44l.94 2.06.94-2.06 2.06-.94-2.06-.94-.94-2.06-.94 2.06-2.06.94zm-11 1L8.5 8.5l.94-2.06 2.06-.94-2.06-.94L8.5 2.5l-.94 2.06-2.06.94zm10 10l.94 2.06.94-2.06 2.06-.94-2.06-.94-.94-2.06-.94 2.06-2.06.94z\"/><path d=\"M17.41 7.96l-1.37-1.37c-.4-.4-.92-.59-1.43-.59-.52 0-1.04.2-1.43.59L10.3 9.45l-7.72 7.72c-.78.78-.78 2.05 0 2.83L4 21.41c.39.39.9.59 1.41.59.51 0 1.02-.2 1.41-.59l7.78-7.78 2.81-2.81c.8-.78.8-2.07 0-2.86zM5.41 20L4 18.59l7.72-7.72 1.47 1.35L5.41 20z\"/>\n",
              "  </svg>\n",
              "      </button>\n",
              "      \n",
              "  <style>\n",
              "    .colab-df-container {\n",
              "      display:flex;\n",
              "      flex-wrap:wrap;\n",
              "      gap: 12px;\n",
              "    }\n",
              "\n",
              "    .colab-df-convert {\n",
              "      background-color: #E8F0FE;\n",
              "      border: none;\n",
              "      border-radius: 50%;\n",
              "      cursor: pointer;\n",
              "      display: none;\n",
              "      fill: #1967D2;\n",
              "      height: 32px;\n",
              "      padding: 0 0 0 0;\n",
              "      width: 32px;\n",
              "    }\n",
              "\n",
              "    .colab-df-convert:hover {\n",
              "      background-color: #E2EBFA;\n",
              "      box-shadow: 0px 1px 2px rgba(60, 64, 67, 0.3), 0px 1px 3px 1px rgba(60, 64, 67, 0.15);\n",
              "      fill: #174EA6;\n",
              "    }\n",
              "\n",
              "    [theme=dark] .colab-df-convert {\n",
              "      background-color: #3B4455;\n",
              "      fill: #D2E3FC;\n",
              "    }\n",
              "\n",
              "    [theme=dark] .colab-df-convert:hover {\n",
              "      background-color: #434B5C;\n",
              "      box-shadow: 0px 1px 3px 1px rgba(0, 0, 0, 0.15);\n",
              "      filter: drop-shadow(0px 1px 2px rgba(0, 0, 0, 0.3));\n",
              "      fill: #FFFFFF;\n",
              "    }\n",
              "  </style>\n",
              "\n",
              "      <script>\n",
              "        const buttonEl =\n",
              "          document.querySelector('#df-6f4eabf2-f85a-46e4-b4c6-9ebaa66a738a button.colab-df-convert');\n",
              "        buttonEl.style.display =\n",
              "          google.colab.kernel.accessAllowed ? 'block' : 'none';\n",
              "\n",
              "        async function convertToInteractive(key) {\n",
              "          const element = document.querySelector('#df-6f4eabf2-f85a-46e4-b4c6-9ebaa66a738a');\n",
              "          const dataTable =\n",
              "            await google.colab.kernel.invokeFunction('convertToInteractive',\n",
              "                                                     [key], {});\n",
              "          if (!dataTable) return;\n",
              "\n",
              "          const docLinkHtml = 'Like what you see? Visit the ' +\n",
              "            '<a target=\"_blank\" href=https://colab.research.google.com/notebooks/data_table.ipynb>data table notebook</a>'\n",
              "            + ' to learn more about interactive tables.';\n",
              "          element.innerHTML = '';\n",
              "          dataTable['output_type'] = 'display_data';\n",
              "          await google.colab.output.renderOutput(dataTable, element);\n",
              "          const docLink = document.createElement('div');\n",
              "          docLink.innerHTML = docLinkHtml;\n",
              "          element.appendChild(docLink);\n",
              "        }\n",
              "      </script>\n",
              "    </div>\n",
              "  </div>\n",
              "  "
            ],
            "text/plain": [
              "Classification   Frequency  Percentage (%)\n",
              "Very Hard             2341       71.459096\n",
              "Hard                   883       26.953602\n",
              "Moderately Hard         51        1.556777\n",
              "Soft                     1        0.030525"
            ]
          },
          "metadata": {},
          "execution_count": 43
        }
      ]
    },
    {
      "cell_type": "code",
      "source": [
        "fig = quatitative_frequency_distribution['Frequency'].plot.bar(x = quatitative_frequency_distribution.index, color = 'blue', rot = 0)\n",
        "fig.set_title('Water Hardness Classification', fontsize = 18)\n",
        "fig.set_xlabel('Classification', fontsize = 16)\n",
        "fig.set_ylabel('Frequency', fontsize = 16)"
      ],
      "metadata": {
        "colab": {
          "base_uri": "https://localhost:8080/",
          "height": 514
        },
        "id": "o_5A61B4xBG1",
        "outputId": "04ee3c6b-717d-4290-983e-d9e7bae7e233"
      },
      "execution_count": 44,
      "outputs": [
        {
          "output_type": "execute_result",
          "data": {
            "text/plain": [
              "Text(0, 0.5, 'Frequency')"
            ]
          },
          "metadata": {},
          "execution_count": 44
        },
        {
          "output_type": "display_data",
          "data": {
            "image/png": "[encoded data removed]",
            "text/plain": [
              "<Figure size 1080x540 with 1 Axes>"
            ]
          },
          "metadata": {
            "needs_background": "light"
          }
        }
      ]
    },
    {
      "cell_type": "code",
      "source": [
        "ax = sns.distplot(dataset['Hardness'], kde = True, fit = norm)\n",
        "ax.figure.set_size_inches(12, 6)\n",
        "ax.set_title('Frequency Distribution - Hardness', fontsize = 18)\n",
        "ax.set_xlabel('mg/L', fontsize = 14)\n",
        "ax"
      ],
      "metadata": {
        "colab": {
          "base_uri": "https://localhost:8080/",
          "height": 432
        },
        "id": "stG5HhJcsO9s",
        "outputId": "0460100d-f8bb-4a22-907c-718033a7eb14"
      },
      "execution_count": 45,
      "outputs": [
        {
          "output_type": "execute_result",
          "data": {
            "text/plain": [
              "<matplotlib.axes._subplots.AxesSubplot at 0x7f57b785dd90>"
            ]
          },
          "metadata": {},
          "execution_count": 45
        },
        {
          "output_type": "display_data",
          "data": {
            "image/png": "[encoded data removed]",
            "text/plain": [
              "<Figure size 864x432 with 1 Axes>"
            ]
          },
          "metadata": {
            "needs_background": "light"
          }
        }
      ]
    },
    {
      "cell_type": "code",
      "source": [
        "ax = sns.boxplot(x = dataset['Hardness'], data = dataset_ph, orient = 'h')\n",
        "ax.figure.set_size_inches(12, 4)\n",
        "ax.set_title('Frequency Distribution - Hardness', fontsize = 18)\n",
        "ax.set_xlabel('mg/L', fontsize = 14)\n",
        "ax"
      ],
      "metadata": {
        "colab": {
          "base_uri": "https://localhost:8080/",
          "height": 323
        },
        "id": "YbnXb9d9sc_L",
        "outputId": "687bf0c2-daf3-40ee-d0f1-9be70821fdf8"
      },
      "execution_count": 46,
      "outputs": [
        {
          "output_type": "execute_result",
          "data": {
            "text/plain": [
              "<matplotlib.axes._subplots.AxesSubplot at 0x7f57b776a310>"
            ]
          },
          "metadata": {},
          "execution_count": 46
        },
        {
          "output_type": "display_data",
          "data": {
            "image/png": "[encoded data removed]",
            "text/plain": [
              "<Figure size 864x288 with 1 Axes>"
            ]
          },
          "metadata": {
            "needs_background": "light"
          }
        }
      ]
    },
    {
      "cell_type": "markdown",
      "source": [
        "The taste threshold for the calcium ion is in the range 100–300 mg/l, depending on the\n",
        "associated anion, but higher concentrations are acceptable to consumers. \n",
        "\n",
        "What is the probability of finding a water with a hardness value within this range?"
      ],
      "metadata": {
        "id": "lhKbGCkQKLIC"
      }
    },
    {
      "cell_type": "code",
      "source": [
        "lower_Z_hd = (100 - dataset['Hardness'].mean()) / dataset['Hardness'].std()\n",
        "lower_Z_hd"
      ],
      "metadata": {
        "colab": {
          "base_uri": "https://localhost:8080/"
        },
        "id": "hUt2jMbXJPc-",
        "outputId": "802ad36a-9270-4927-9940-48fa3cb77003"
      },
      "execution_count": 47,
      "outputs": [
        {
          "output_type": "execute_result",
          "data": {
            "text/plain": [
              "-2.930973770786379"
            ]
          },
          "metadata": {},
          "execution_count": 47
        }
      ]
    },
    {
      "cell_type": "code",
      "source": [
        "higher_Z_hd = (300 - dataset['Hardness'].mean()) / dataset['Hardness'].std()\n",
        "higher_Z_hd"
      ],
      "metadata": {
        "colab": {
          "base_uri": "https://localhost:8080/"
        },
        "id": "E4Jtz76PKkyH",
        "outputId": "eb335147-85b6-4437-ef43-670a93d2c65d"
      },
      "execution_count": 48,
      "outputs": [
        {
          "output_type": "execute_result",
          "data": {
            "text/plain": [
              "3.1518104013544286"
            ]
          },
          "metadata": {},
          "execution_count": 48
        }
      ]
    },
    {
      "cell_type": "code",
      "source": [
        "probability = round((norm.cdf(higher_Z_hd) - norm.cdf(lower_Z_hd)), 3)\n",
        "probability"
      ],
      "metadata": {
        "colab": {
          "base_uri": "https://localhost:8080/"
        },
        "id": "GggI4iXiLEpG",
        "outputId": "9fa95501-f38a-4911-a054-d97c940eec69"
      },
      "execution_count": 49,
      "outputs": [
        {
          "output_type": "execute_result",
          "data": {
            "text/plain": [
              "0.997"
            ]
          },
          "metadata": {},
          "execution_count": 49
        }
      ]
    },
    {
      "cell_type": "code",
      "source": [
        "print(f'The probability of a sample having the Hardness value between 100 and 300 mg/L is {probability * 100}%')"
      ],
      "metadata": {
        "colab": {
          "base_uri": "https://localhost:8080/"
        },
        "id": "SDd3zomVMRyl",
        "outputId": "6173828a-ae48-4a56-9fec-6f81fb3a3a4d"
      },
      "execution_count": 50,
      "outputs": [
        {
          "output_type": "stream",
          "name": "stdout",
          "text": [
            "The probability of a sample having the Hardness value between 100 and 300 mg/L is 99.7%\n"
          ]
        }
      ]
    },
    {
      "cell_type": "markdown",
      "source": [
        "<font size = 5>Analyzing the relationship between hardness and pH, we can see that the values ​​do not correlate. Reinforcing the hypothesis that the data were generated randomly.</font>"
      ],
      "metadata": {
        "id": "MUK997rOfBYv"
      }
    },
    {
      "cell_type": "code",
      "source": [
        "sns.scatterplot(data = dataset_ph, x = 'Hardness',y = 'ph', palette = 'viridis')"
      ],
      "metadata": {
        "colab": {
          "base_uri": "https://localhost:8080/",
          "height": 492
        },
        "id": "1f3JwOFNNe39",
        "outputId": "44f59581-8a3d-4fe6-9c77-01d28e7ccd3e"
      },
      "execution_count": 51,
      "outputs": [
        {
          "output_type": "execute_result",
          "data": {
            "text/plain": [
              "<matplotlib.axes._subplots.AxesSubplot at 0x7f57b76d2050>"
            ]
          },
          "metadata": {},
          "execution_count": 51
        },
        {
          "output_type": "display_data",
          "data": {
            "image/png": "[encoded data removed]",
            "text/plain": [
              "<Figure size 1080x540 with 1 Axes>"
            ]
          },
          "metadata": {
            "needs_background": "light"
          }
        }
      ]
    },
    {
      "cell_type": "markdown",
      "source": [
        "## <font color=blue>2.3. Solids</font>\n",
        "***"
      ],
      "metadata": {
        "id": "5fCopN22aT3j"
      }
    },
    {
      "cell_type": "markdown",
      "source": [
        "### <font color=blue>2.3.1. Clearing Null Values</font>\n",
        "***"
      ],
      "metadata": {
        "id": "cXQHX3FNafNB"
      }
    },
    {
      "cell_type": "code",
      "source": [
        "dataset.info()"
      ],
      "metadata": {
        "id": "L15riktqZ-SO",
        "outputId": "8fdbb879-cf16-495b-843f-5b870b4a7d56",
        "colab": {
          "base_uri": "https://localhost:8080/"
        }
      },
      "execution_count": 52,
      "outputs": [
        {
          "output_type": "stream",
          "name": "stdout",
          "text": [
            "<class 'pandas.core.frame.DataFrame'>\n",
            "RangeIndex: 3276 entries, 0 to 3275\n",
            "Data columns (total 10 columns):\n",
            " #   Column           Non-Null Count  Dtype  \n",
            "---  ------           --------------  -----  \n",
            " 0   ph               2785 non-null   float64\n",
            " 1   Hardness         3276 non-null   float64\n",
            " 2   Solids           3276 non-null   float64\n",
            " 3   Chloramines      3276 non-null   float64\n",
            " 4   Sulfate          2495 non-null   float64\n",
            " 5   Conductivity     3276 non-null   float64\n",
            " 6   Organic_carbon   3276 non-null   float64\n",
            " 7   Trihalomethanes  3114 non-null   float64\n",
            " 8   Turbidity        3276 non-null   float64\n",
            " 9   Potability       3276 non-null   int64  \n",
            "dtypes: float64(9), int64(1)\n",
            "memory usage: 256.1 KB\n"
          ]
        }
      ]
    },
    {
      "cell_type": "markdown",
      "source": [
        "The Solids parameter does not have null values ​​in its register."
      ],
      "metadata": {
        "id": "_vSLWK-yard-"
      }
    },
    {
      "cell_type": "markdown",
      "source": [
        "### <font color=blue>2.3.2. Descriptive Statistical Analysis</font>\n",
        "***"
      ],
      "metadata": {
        "id": "RXqAKrGbbM0d"
      }
    },
    {
      "cell_type": "code",
      "source": [
        "descriptive_statistics = pd.DataFrame(dataset['Solids'].describe().round(2))"
      ],
      "metadata": {
        "id": "tw6R1i1iamLS"
      },
      "execution_count": 53,
      "outputs": []
    },
    {
      "cell_type": "code",
      "source": [
        "descriptive_statistics"
      ],
      "metadata": {
        "id": "pxqf7rDhbw6Q",
        "outputId": "2b34d5cc-e310-4d51-80f9-db822e1ebae7",
        "colab": {
          "base_uri": "https://localhost:8080/",
          "height": 300
        }
      },
      "execution_count": 54,
      "outputs": [
        {
          "output_type": "execute_result",
          "data": {
            "text/html": [
              "\n",
              "  <div id=\"df-3ff05a24-5cc0-4740-9f11-7a83dd122ec1\">\n",
              "    <div class=\"colab-df-container\">\n",
              "      <div>\n",
              "<style scoped>\n",
              "    .dataframe tbody tr th:only-of-type {\n",
              "        vertical-align: middle;\n",
              "    }\n",
              "\n",
              "    .dataframe tbody tr th {\n",
              "        vertical-align: top;\n",
              "    }\n",
              "\n",
              "    .dataframe thead th {\n",
              "        text-align: right;\n",
              "    }\n",
              "</style>\n",
              "<table border=\"1\" class=\"dataframe\">\n",
              "  <thead>\n",
              "    <tr style=\"text-align: right;\">\n",
              "      <th></th>\n",
              "      <th>Solids</th>\n",
              "    </tr>\n",
              "  </thead>\n",
              "  <tbody>\n",
              "    <tr>\n",
              "      <th>count</th>\n",
              "      <td>3276.00</td>\n",
              "    </tr>\n",
              "    <tr>\n",
              "      <th>mean</th>\n",
              "      <td>22014.09</td>\n",
              "    </tr>\n",
              "    <tr>\n",
              "      <th>std</th>\n",
              "      <td>8768.57</td>\n",
              "    </tr>\n",
              "    <tr>\n",
              "      <th>min</th>\n",
              "      <td>320.94</td>\n",
              "    </tr>\n",
              "    <tr>\n",
              "      <th>25%</th>\n",
              "      <td>15666.69</td>\n",
              "    </tr>\n",
              "    <tr>\n",
              "      <th>50%</th>\n",
              "      <td>20927.83</td>\n",
              "    </tr>\n",
              "    <tr>\n",
              "      <th>75%</th>\n",
              "      <td>27332.76</td>\n",
              "    </tr>\n",
              "    <tr>\n",
              "      <th>max</th>\n",
              "      <td>61227.20</td>\n",
              "    </tr>\n",
              "  </tbody>\n",
              "</table>\n",
              "</div>\n",
              "      <button class=\"colab-df-convert\" onclick=\"convertToInteractive('df-3ff05a24-5cc0-4740-9f11-7a83dd122ec1')\"\n",
              "              title=\"Convert this dataframe to an interactive table.\"\n",
              "              style=\"display:none;\">\n",
              "        \n",
              "  <svg xmlns=\"http://www.w3.org/2000/svg\" height=\"24px\"viewBox=\"0 0 24 24\"\n",
              "       width=\"24px\">\n",
              "    <path d=\"M0 0h24v24H0V0z\" fill=\"none\"/>\n",
              "    <path d=\"M18.56 5.44l.94 2.06.94-2.06 2.06-.94-2.06-.94-.94-2.06-.94 2.06-2.06.94zm-11 1L8.5 8.5l.94-2.06 2.06-.94-2.06-.94L8.5 2.5l-.94 2.06-2.06.94zm10 10l.94 2.06.94-2.06 2.06-.94-2.06-.94-.94-2.06-.94 2.06-2.06.94z\"/><path d=\"M17.41 7.96l-1.37-1.37c-.4-.4-.92-.59-1.43-.59-.52 0-1.04.2-1.43.59L10.3 9.45l-7.72 7.72c-.78.78-.78 2.05 0 2.83L4 21.41c.39.39.9.59 1.41.59.51 0 1.02-.2 1.41-.59l7.78-7.78 2.81-2.81c.8-.78.8-2.07 0-2.86zM5.41 20L4 18.59l7.72-7.72 1.47 1.35L5.41 20z\"/>\n",
              "  </svg>\n",
              "      </button>\n",
              "      \n",
              "  <style>\n",
              "    .colab-df-container {\n",
              "      display:flex;\n",
              "      flex-wrap:wrap;\n",
              "      gap: 12px;\n",
              "    }\n",
              "\n",
              "    .colab-df-convert {\n",
              "      background-color: #E8F0FE;\n",
              "      border: none;\n",
              "      border-radius: 50%;\n",
              "      cursor: pointer;\n",
              "      display: none;\n",
              "      fill: #1967D2;\n",
              "      height: 32px;\n",
              "      padding: 0 0 0 0;\n",
              "      width: 32px;\n",
              "    }\n",
              "\n",
              "    .colab-df-convert:hover {\n",
              "      background-color: #E2EBFA;\n",
              "      box-shadow: 0px 1px 2px rgba(60, 64, 67, 0.3), 0px 1px 3px 1px rgba(60, 64, 67, 0.15);\n",
              "      fill: #174EA6;\n",
              "    }\n",
              "\n",
              "    [theme=dark] .colab-df-convert {\n",
              "      background-color: #3B4455;\n",
              "      fill: #D2E3FC;\n",
              "    }\n",
              "\n",
              "    [theme=dark] .colab-df-convert:hover {\n",
              "      background-color: #434B5C;\n",
              "      box-shadow: 0px 1px 3px 1px rgba(0, 0, 0, 0.15);\n",
              "      filter: drop-shadow(0px 1px 2px rgba(0, 0, 0, 0.3));\n",
              "      fill: #FFFFFF;\n",
              "    }\n",
              "  </style>\n",
              "\n",
              "      <script>\n",
              "        const buttonEl =\n",
              "          document.querySelector('#df-3ff05a24-5cc0-4740-9f11-7a83dd122ec1 button.colab-df-convert');\n",
              "        buttonEl.style.display =\n",
              "          google.colab.kernel.accessAllowed ? 'block' : 'none';\n",
              "\n",
              "        async function convertToInteractive(key) {\n",
              "          const element = document.querySelector('#df-3ff05a24-5cc0-4740-9f11-7a83dd122ec1');\n",
              "          const dataTable =\n",
              "            await google.colab.kernel.invokeFunction('convertToInteractive',\n",
              "                                                     [key], {});\n",
              "          if (!dataTable) return;\n",
              "\n",
              "          const docLinkHtml = 'Like what you see? Visit the ' +\n",
              "            '<a target=\"_blank\" href=https://colab.research.google.com/notebooks/data_table.ipynb>data table notebook</a>'\n",
              "            + ' to learn more about interactive tables.';\n",
              "          element.innerHTML = '';\n",
              "          dataTable['output_type'] = 'display_data';\n",
              "          await google.colab.output.renderOutput(dataTable, element);\n",
              "          const docLink = document.createElement('div');\n",
              "          docLink.innerHTML = docLinkHtml;\n",
              "          element.appendChild(docLink);\n",
              "        }\n",
              "      </script>\n",
              "    </div>\n",
              "  </div>\n",
              "  "
            ],
            "text/plain": [
              "         Solids\n",
              "count   3276.00\n",
              "mean   22014.09\n",
              "std     8768.57\n",
              "min      320.94\n",
              "25%    15666.69\n",
              "50%    20927.83\n",
              "75%    27332.76\n",
              "max    61227.20"
            ]
          },
          "metadata": {},
          "execution_count": 54
        }
      ]
    },
    {
      "cell_type": "markdown",
      "source": [
        "### <font color=blue>2.3.3. Descriptive Statistical Analysis</font>\n",
        "***"
      ],
      "metadata": {
        "id": "rTQw-R1vjggf"
      }
    },
    {
      "cell_type": "code",
      "source": [
        "dataset.head()"
      ],
      "metadata": {
        "id": "UAuT2mLbbxSl",
        "outputId": "b5057dcd-acaf-4e5e-d5f5-5c31e9e731b8",
        "colab": {
          "base_uri": "https://localhost:8080/",
          "height": 206
        }
      },
      "execution_count": 55,
      "outputs": [
        {
          "output_type": "execute_result",
          "data": {
            "text/html": [
              "\n",
              "  <div id=\"df-7cd0b4c5-9ac6-45d8-81f5-37252b17225d\">\n",
              "    <div class=\"colab-df-container\">\n",
              "      <div>\n",
              "<style scoped>\n",
              "    .dataframe tbody tr th:only-of-type {\n",
              "        vertical-align: middle;\n",
              "    }\n",
              "\n",
              "    .dataframe tbody tr th {\n",
              "        vertical-align: top;\n",
              "    }\n",
              "\n",
              "    .dataframe thead th {\n",
              "        text-align: right;\n",
              "    }\n",
              "</style>\n",
              "<table border=\"1\" class=\"dataframe\">\n",
              "  <thead>\n",
              "    <tr style=\"text-align: right;\">\n",
              "      <th></th>\n",
              "      <th>ph</th>\n",
              "      <th>Hardness</th>\n",
              "      <th>Solids</th>\n",
              "      <th>Chloramines</th>\n",
              "      <th>Sulfate</th>\n",
              "      <th>Conductivity</th>\n",
              "      <th>Organic_carbon</th>\n",
              "      <th>Trihalomethanes</th>\n",
              "      <th>Turbidity</th>\n",
              "      <th>Potability</th>\n",
              "    </tr>\n",
              "  </thead>\n",
              "  <tbody>\n",
              "    <tr>\n",
              "      <th>0</th>\n",
              "      <td>NaN</td>\n",
              "      <td>204.89</td>\n",
              "      <td>20791.32</td>\n",
              "      <td>7.30</td>\n",
              "      <td>368.52</td>\n",
              "      <td>564.31</td>\n",
              "      <td>10.38</td>\n",
              "      <td>86.99</td>\n",
              "      <td>2.96</td>\n",
              "      <td>0</td>\n",
              "    </tr>\n",
              "    <tr>\n",
              "      <th>1</th>\n",
              "      <td>3.72</td>\n",
              "      <td>129.42</td>\n",
              "      <td>18630.06</td>\n",
              "      <td>6.64</td>\n",
              "      <td>NaN</td>\n",
              "      <td>592.89</td>\n",
              "      <td>15.18</td>\n",
              "      <td>56.33</td>\n",
              "      <td>4.50</td>\n",
              "      <td>0</td>\n",
              "    </tr>\n",
              "    <tr>\n",
              "      <th>2</th>\n",
              "      <td>8.10</td>\n",
              "      <td>224.24</td>\n",
              "      <td>19909.54</td>\n",
              "      <td>9.28</td>\n",
              "      <td>NaN</td>\n",
              "      <td>418.61</td>\n",
              "      <td>16.87</td>\n",
              "      <td>66.42</td>\n",
              "      <td>3.06</td>\n",
              "      <td>0</td>\n",
              "    </tr>\n",
              "    <tr>\n",
              "      <th>3</th>\n",
              "      <td>8.32</td>\n",
              "      <td>214.37</td>\n",
              "      <td>22018.42</td>\n",
              "      <td>8.06</td>\n",
              "      <td>356.89</td>\n",
              "      <td>363.27</td>\n",
              "      <td>18.44</td>\n",
              "      <td>100.34</td>\n",
              "      <td>4.63</td>\n",
              "      <td>0</td>\n",
              "    </tr>\n",
              "    <tr>\n",
              "      <th>4</th>\n",
              "      <td>9.09</td>\n",
              "      <td>181.10</td>\n",
              "      <td>17978.99</td>\n",
              "      <td>6.55</td>\n",
              "      <td>310.14</td>\n",
              "      <td>398.41</td>\n",
              "      <td>11.56</td>\n",
              "      <td>32.00</td>\n",
              "      <td>4.08</td>\n",
              "      <td>0</td>\n",
              "    </tr>\n",
              "  </tbody>\n",
              "</table>\n",
              "</div>\n",
              "      <button class=\"colab-df-convert\" onclick=\"convertToInteractive('df-7cd0b4c5-9ac6-45d8-81f5-37252b17225d')\"\n",
              "              title=\"Convert this dataframe to an interactive table.\"\n",
              "              style=\"display:none;\">\n",
              "        \n",
              "  <svg xmlns=\"http://www.w3.org/2000/svg\" height=\"24px\"viewBox=\"0 0 24 24\"\n",
              "       width=\"24px\">\n",
              "    <path d=\"M0 0h24v24H0V0z\" fill=\"none\"/>\n",
              "    <path d=\"M18.56 5.44l.94 2.06.94-2.06 2.06-.94-2.06-.94-.94-2.06-.94 2.06-2.06.94zm-11 1L8.5 8.5l.94-2.06 2.06-.94-2.06-.94L8.5 2.5l-.94 2.06-2.06.94zm10 10l.94 2.06.94-2.06 2.06-.94-2.06-.94-.94-2.06-.94 2.06-2.06.94z\"/><path d=\"M17.41 7.96l-1.37-1.37c-.4-.4-.92-.59-1.43-.59-.52 0-1.04.2-1.43.59L10.3 9.45l-7.72 7.72c-.78.78-.78 2.05 0 2.83L4 21.41c.39.39.9.59 1.41.59.51 0 1.02-.2 1.41-.59l7.78-7.78 2.81-2.81c.8-.78.8-2.07 0-2.86zM5.41 20L4 18.59l7.72-7.72 1.47 1.35L5.41 20z\"/>\n",
              "  </svg>\n",
              "      </button>\n",
              "      \n",
              "  <style>\n",
              "    .colab-df-container {\n",
              "      display:flex;\n",
              "      flex-wrap:wrap;\n",
              "      gap: 12px;\n",
              "    }\n",
              "\n",
              "    .colab-df-convert {\n",
              "      background-color: #E8F0FE;\n",
              "      border: none;\n",
              "      border-radius: 50%;\n",
              "      cursor: pointer;\n",
              "      display: none;\n",
              "      fill: #1967D2;\n",
              "      height: 32px;\n",
              "      padding: 0 0 0 0;\n",
              "      width: 32px;\n",
              "    }\n",
              "\n",
              "    .colab-df-convert:hover {\n",
              "      background-color: #E2EBFA;\n",
              "      box-shadow: 0px 1px 2px rgba(60, 64, 67, 0.3), 0px 1px 3px 1px rgba(60, 64, 67, 0.15);\n",
              "      fill: #174EA6;\n",
              "    }\n",
              "\n",
              "    [theme=dark] .colab-df-convert {\n",
              "      background-color: #3B4455;\n",
              "      fill: #D2E3FC;\n",
              "    }\n",
              "\n",
              "    [theme=dark] .colab-df-convert:hover {\n",
              "      background-color: #434B5C;\n",
              "      box-shadow: 0px 1px 3px 1px rgba(0, 0, 0, 0.15);\n",
              "      filter: drop-shadow(0px 1px 2px rgba(0, 0, 0, 0.3));\n",
              "      fill: #FFFFFF;\n",
              "    }\n",
              "  </style>\n",
              "\n",
              "      <script>\n",
              "        const buttonEl =\n",
              "          document.querySelector('#df-7cd0b4c5-9ac6-45d8-81f5-37252b17225d button.colab-df-convert');\n",
              "        buttonEl.style.display =\n",
              "          google.colab.kernel.accessAllowed ? 'block' : 'none';\n",
              "\n",
              "        async function convertToInteractive(key) {\n",
              "          const element = document.querySelector('#df-7cd0b4c5-9ac6-45d8-81f5-37252b17225d');\n",
              "          const dataTable =\n",
              "            await google.colab.kernel.invokeFunction('convertToInteractive',\n",
              "                                                     [key], {});\n",
              "          if (!dataTable) return;\n",
              "\n",
              "          const docLinkHtml = 'Like what you see? Visit the ' +\n",
              "            '<a target=\"_blank\" href=https://colab.research.google.com/notebooks/data_table.ipynb>data table notebook</a>'\n",
              "            + ' to learn more about interactive tables.';\n",
              "          element.innerHTML = '';\n",
              "          dataTable['output_type'] = 'display_data';\n",
              "          await google.colab.output.renderOutput(dataTable, element);\n",
              "          const docLink = document.createElement('div');\n",
              "          docLink.innerHTML = docLinkHtml;\n",
              "          element.appendChild(docLink);\n",
              "        }\n",
              "      </script>\n",
              "    </div>\n",
              "  </div>\n",
              "  "
            ],
            "text/plain": [
              "     ph  Hardness    Solids  ...  Trihalomethanes  Turbidity  Potability\n",
              "0   NaN    204.89  20791.32  ...            86.99       2.96           0\n",
              "1  3.72    129.42  18630.06  ...            56.33       4.50           0\n",
              "2  8.10    224.24  19909.54  ...            66.42       3.06           0\n",
              "3  8.32    214.37  22018.42  ...           100.34       4.63           0\n",
              "4  9.09    181.10  17978.99  ...            32.00       4.08           0\n",
              "\n",
              "[5 rows x 10 columns]"
            ]
          },
          "metadata": {},
          "execution_count": 55
        }
      ]
    },
    {
      "cell_type": "code",
      "source": [
        "ax = sns.distplot(dataset['Solids'], kde = True, fit = norm)\n",
        "ax.figure.set_size_inches(12, 6)\n",
        "ax.set_title('Frequency Distribution - Solids', fontsize = 18)\n",
        "ax.set_xlabel('mg/L', fontsize = 14)\n",
        "ax"
      ],
      "metadata": {
        "id": "ems4F0pdkCnp",
        "outputId": "f3d17aff-4b82-42b9-ebb9-857063139f8c",
        "colab": {
          "base_uri": "https://localhost:8080/",
          "height": 432
        }
      },
      "execution_count": 56,
      "outputs": [
        {
          "output_type": "execute_result",
          "data": {
            "text/plain": [
              "<matplotlib.axes._subplots.AxesSubplot at 0x7f57b5c36d50>"
            ]
          },
          "metadata": {},
          "execution_count": 56
        },
        {
          "output_type": "display_data",
          "data": {
            "image/png": "[encoded data removed]",
            "text/plain": [
              "<Figure size 864x432 with 1 Axes>"
            ]
          },
          "metadata": {
            "needs_background": "light"
          }
        }
      ]
    },
    {
      "cell_type": "code",
      "source": [
        "ax = sns.boxplot(x = dataset['Solids'], data = dataset, orient = 'h')\n",
        "ax.figure.set_size_inches(12, 4)\n",
        "ax.set_title('Frequency Distribution - Solids', fontsize = 18)\n",
        "ax.set_xlabel('mg/L', fontsize = 14)\n",
        "ax"
      ],
      "metadata": {
        "id": "V1eultAPk5xj",
        "outputId": "b82d9e98-f4fb-4481-dd0b-a3b93d8a2c36",
        "colab": {
          "base_uri": "https://localhost:8080/",
          "height": 323
        }
      },
      "execution_count": 57,
      "outputs": [
        {
          "output_type": "execute_result",
          "data": {
            "text/plain": [
              "<matplotlib.axes._subplots.AxesSubplot at 0x7f57b9a8ff50>"
            ]
          },
          "metadata": {},
          "execution_count": 57
        },
        {
          "output_type": "display_data",
          "data": {
            "image/png": "[encoded data removed]",
            "text/plain": [
              "<Figure size 864x288 with 1 Axes>"
            ]
          },
          "metadata": {
            "needs_background": "light"
          }
        }
      ]
    },
    {
      "cell_type": "code",
      "source": [
        ""
      ],
      "metadata": {
        "id": "EXSihblblAHc"
      },
      "execution_count": null,
      "outputs": []
    }
  ]
}