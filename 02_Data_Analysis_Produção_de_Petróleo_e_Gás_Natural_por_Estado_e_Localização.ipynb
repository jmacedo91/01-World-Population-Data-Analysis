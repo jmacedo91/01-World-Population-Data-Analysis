{
  "nbformat": 4,
  "nbformat_minor": 0,
  "metadata": {
    "colab": {
      "name": "02 - Data Analysis - Produção de Petróleo e Gás Natural por Estado e Localização.ipynb",
      "provenance": [],
      "toc_visible": true,
      "authorship_tag": "ABX9TyMLYP4p1nT7W1CgHd9/JCHW",
      "include_colab_link": true
    },
    "kernelspec": {
      "name": "python3",
      "display_name": "Python 3"
    },
    "language_info": {
      "name": "python"
    }
  },
  "cells": [
    {
      "cell_type": "markdown",
      "metadata": {
        "id": "view-in-github",
        "colab_type": "text"
      },
      "source": [
        "<a href=\"https://colab.research.google.com/github/jmacedo91/Exploratory-Data-Analysis/blob/main/02_Data_Analysis_Produ%C3%A7%C3%A3o_de_Petr%C3%B3leo_e_G%C3%A1s_Natural_por_Estado_e_Localiza%C3%A7%C3%A3o.ipynb\" target=\"_parent\"><img src=\"https://colab.research.google.com/assets/colab-badge.svg\" alt=\"Open In Colab\"/></a>"
      ]
    },
    {
      "cell_type": "markdown",
      "source": [
        "***\n",
        "# <font color=darkgreen size=6>🛢️ Produção de Petróleo por Estado e Localização - (1997 - 2021) 🛢️</font>\n",
        "***"
      ],
      "metadata": {
        "id": "sqR4ZQDevDn7"
      }
    },
    {
      "cell_type": "markdown",
      "source": [
        "<img src='https://emc.acidadeon.com/dbimagens/posto_1024x576_06072021170954.jpg' width= 70%>"
      ],
      "metadata": {
        "id": "2cAiugiBxXzS"
      }
    },
    {
      "cell_type": "markdown",
      "source": [
        "# <font color=black>1. Conhecendo os dados</font>\n",
        "***"
      ],
      "metadata": {
        "id": "CSeQPu0xUf_d"
      }
    },
    {
      "cell_type": "markdown",
      "source": [
        "<p align=justify>As informações foram disponibilizadas pela Agência Nacional do Petróleo, Gás Natural e Biocombustíveis através do <a href='https://dados.gov.br/dataset/a-producao-de-petroleo-e-gas-natural-por-estado-e-localizacao'>\n",
        "Portal Brasileiro de Dados Abertos</a>. Os dados desse estudo apresentam a produção de petróleo em território nacional no período de 1997 até 2021.</p>"
      ],
      "metadata": {
        "id": "TTSm9BtBXVoG"
      }
    },
    {
      "cell_type": "markdown",
      "source": [
        "### <font color=black>Importando as bibliotecas</font>\n",
        "***"
      ],
      "metadata": {
        "id": "mV0JrjIiwQEv"
      }
    },
    {
      "cell_type": "code",
      "source": [
        "import pandas as pd\n",
        "import numpy as np\n",
        "\n",
        "import seaborn as sns\n",
        "sns.set_palette('Accent')\n",
        "sns.set_style('whitegrid')\n",
        "#sns.set_context(\"talk\")\n",
        "\n",
        "import statsmodels.api as sm\n",
        "\n",
        "%matplotlib inline\n",
        "import matplotlib.pyplot as plt\n",
        "plt.rc('figure', figsize = (18, 7.5))\n"
      ],
      "metadata": {
        "id": "8HBIQRVgUwVl",
        "colab": {
          "base_uri": "https://localhost:8080/"
        },
        "outputId": "9555c537-2475-4ab0-83bc-a89a237b547f"
      },
      "execution_count": null,
      "outputs": [
        {
          "output_type": "stream",
          "name": "stderr",
          "text": [
            "/usr/local/lib/python3.7/dist-packages/statsmodels/tools/_testing.py:19: FutureWarning: pandas.util.testing is deprecated. Use the functions in the public API at pandas.testing instead.\n",
            "  import pandas.util.testing as tm\n"
          ]
        }
      ]
    },
    {
      "cell_type": "markdown",
      "source": [
        "### <font color=black>Importando os dados</font>\n",
        "***"
      ],
      "metadata": {
        "id": "rfAgc43nU6Tv"
      }
    },
    {
      "cell_type": "code",
      "execution_count": null,
      "metadata": {
        "colab": {
          "base_uri": "https://localhost:8080/"
        },
        "id": "3G88f1wgu7X2",
        "outputId": "011a10e5-9791-4276-eda2-dfd8f28d06f2"
      },
      "outputs": [
        {
          "output_type": "stream",
          "name": "stdout",
          "text": [
            "Drive already mounted at /content/drive; to attempt to forcibly remount, call drive.mount(\"/content/drive\", force_remount=True).\n"
          ]
        }
      ],
      "source": [
        "from google.colab import drive\n",
        "drive.mount('/content/drive')"
      ]
    },
    {
      "cell_type": "code",
      "source": [
        "dados = pd.read_csv('/content/drive/MyDrive/Colab Notebooks/01 - Portfólio - Data Science/001 - Exploratory Data Analysis/Datasets/producao-petroleo-m3-1997-2022.csv', sep=';', decimal=',')"
      ],
      "metadata": {
        "id": "1408qdDvU81X"
      },
      "execution_count": null,
      "outputs": []
    },
    {
      "cell_type": "markdown",
      "source": [
        "### <font color=black>Tratando os dados</font>\n",
        "***"
      ],
      "metadata": {
        "id": "0qPfTE-AZe2-"
      }
    },
    {
      "cell_type": "code",
      "source": [
        "dados.info()"
      ],
      "metadata": {
        "colab": {
          "base_uri": "https://localhost:8080/"
        },
        "id": "veDOON8SZ8mr",
        "outputId": "6f0a9f95-880b-4114-f45d-2f0aad31b309"
      },
      "execution_count": null,
      "outputs": [
        {
          "output_type": "stream",
          "name": "stdout",
          "text": [
            "<class 'pandas.core.frame.DataFrame'>\n",
            "RangeIndex: 6864 entries, 0 to 6863\n",
            "Data columns (total 7 columns):\n",
            " #   Column                Non-Null Count  Dtype  \n",
            "---  ------                --------------  -----  \n",
            " 0   ANO                   6864 non-null   int64  \n",
            " 1   MÊS                   6864 non-null   object \n",
            " 2   GRANDE REGIÃO         6864 non-null   object \n",
            " 3   UNIDADE DA FEDERAÇÃO  6864 non-null   object \n",
            " 4   PRODUTO               6864 non-null   object \n",
            " 5   LOCALIZAÇÃO           6864 non-null   object \n",
            " 6   PRODUÇÃO              6864 non-null   float64\n",
            "dtypes: float64(1), int64(1), object(5)\n",
            "memory usage: 375.5+ KB\n"
          ]
        }
      ]
    },
    {
      "cell_type": "code",
      "source": [
        "dados['PRODUÇÃO'].astype(float)"
      ],
      "metadata": {
        "colab": {
          "base_uri": "https://localhost:8080/"
        },
        "id": "1rDvIzvlwC3i",
        "outputId": "29da27c0-6c5a-4ee7-ae05-8d7b12b13b9b"
      },
      "execution_count": null,
      "outputs": [
        {
          "output_type": "execute_result",
          "data": {
            "text/plain": [
              "0       2767443.0\n",
              "1       2891003.0\n",
              "2       2998305.0\n",
              "3       2863184.0\n",
              "4       2873644.0\n",
              "          ...    \n",
              "6859          0.0\n",
              "6860          0.0\n",
              "6861          0.0\n",
              "6862          0.0\n",
              "6863          0.0\n",
              "Name: PRODUÇÃO, Length: 6864, dtype: float64"
            ]
          },
          "metadata": {},
          "execution_count": 5
        }
      ]
    },
    {
      "cell_type": "code",
      "source": [
        "colunas = []\n",
        "for i in dados.columns:\n",
        "  colunas.append(i.capitalize())\n",
        "dados.columns = colunas"
      ],
      "metadata": {
        "id": "RF9VoIPokpvB"
      },
      "execution_count": null,
      "outputs": []
    },
    {
      "cell_type": "code",
      "source": [
        "dados.head()"
      ],
      "metadata": {
        "colab": {
          "base_uri": "https://localhost:8080/",
          "height": 206
        },
        "id": "80mQeMgdVRq3",
        "outputId": "aee09329-e2fa-4c6e-a2d3-5affe5b1ca32"
      },
      "execution_count": null,
      "outputs": [
        {
          "output_type": "execute_result",
          "data": {
            "text/plain": [
              "    Ano  Mês   Grande região Unidade da federação   Produto Localização  \\\n",
              "0  1997  JAN  REGIÃO SUDESTE       RIO DE JANEIRO  PETRÓLEO         MAR   \n",
              "1  1997  FEV  REGIÃO SUDESTE       RIO DE JANEIRO  PETRÓLEO         MAR   \n",
              "2  1997  MAR  REGIÃO SUDESTE       RIO DE JANEIRO  PETRÓLEO         MAR   \n",
              "3  1997  ABR  REGIÃO SUDESTE       RIO DE JANEIRO  PETRÓLEO         MAR   \n",
              "4  1997  MAI  REGIÃO SUDESTE       RIO DE JANEIRO  PETRÓLEO         MAR   \n",
              "\n",
              "    Produção  \n",
              "0  2767443.0  \n",
              "1  2891003.0  \n",
              "2  2998305.0  \n",
              "3  2863184.0  \n",
              "4  2873644.0  "
            ],
            "text/html": [
              "\n",
              "  <div id=\"df-663ec2f3-c286-4ff8-a827-c98ca0ed5a19\">\n",
              "    <div class=\"colab-df-container\">\n",
              "      <div>\n",
              "<style scoped>\n",
              "    .dataframe tbody tr th:only-of-type {\n",
              "        vertical-align: middle;\n",
              "    }\n",
              "\n",
              "    .dataframe tbody tr th {\n",
              "        vertical-align: top;\n",
              "    }\n",
              "\n",
              "    .dataframe thead th {\n",
              "        text-align: right;\n",
              "    }\n",
              "</style>\n",
              "<table border=\"1\" class=\"dataframe\">\n",
              "  <thead>\n",
              "    <tr style=\"text-align: right;\">\n",
              "      <th></th>\n",
              "      <th>Ano</th>\n",
              "      <th>Mês</th>\n",
              "      <th>Grande região</th>\n",
              "      <th>Unidade da federação</th>\n",
              "      <th>Produto</th>\n",
              "      <th>Localização</th>\n",
              "      <th>Produção</th>\n",
              "    </tr>\n",
              "  </thead>\n",
              "  <tbody>\n",
              "    <tr>\n",
              "      <th>0</th>\n",
              "      <td>1997</td>\n",
              "      <td>JAN</td>\n",
              "      <td>REGIÃO SUDESTE</td>\n",
              "      <td>RIO DE JANEIRO</td>\n",
              "      <td>PETRÓLEO</td>\n",
              "      <td>MAR</td>\n",
              "      <td>2767443.0</td>\n",
              "    </tr>\n",
              "    <tr>\n",
              "      <th>1</th>\n",
              "      <td>1997</td>\n",
              "      <td>FEV</td>\n",
              "      <td>REGIÃO SUDESTE</td>\n",
              "      <td>RIO DE JANEIRO</td>\n",
              "      <td>PETRÓLEO</td>\n",
              "      <td>MAR</td>\n",
              "      <td>2891003.0</td>\n",
              "    </tr>\n",
              "    <tr>\n",
              "      <th>2</th>\n",
              "      <td>1997</td>\n",
              "      <td>MAR</td>\n",
              "      <td>REGIÃO SUDESTE</td>\n",
              "      <td>RIO DE JANEIRO</td>\n",
              "      <td>PETRÓLEO</td>\n",
              "      <td>MAR</td>\n",
              "      <td>2998305.0</td>\n",
              "    </tr>\n",
              "    <tr>\n",
              "      <th>3</th>\n",
              "      <td>1997</td>\n",
              "      <td>ABR</td>\n",
              "      <td>REGIÃO SUDESTE</td>\n",
              "      <td>RIO DE JANEIRO</td>\n",
              "      <td>PETRÓLEO</td>\n",
              "      <td>MAR</td>\n",
              "      <td>2863184.0</td>\n",
              "    </tr>\n",
              "    <tr>\n",
              "      <th>4</th>\n",
              "      <td>1997</td>\n",
              "      <td>MAI</td>\n",
              "      <td>REGIÃO SUDESTE</td>\n",
              "      <td>RIO DE JANEIRO</td>\n",
              "      <td>PETRÓLEO</td>\n",
              "      <td>MAR</td>\n",
              "      <td>2873644.0</td>\n",
              "    </tr>\n",
              "  </tbody>\n",
              "</table>\n",
              "</div>\n",
              "      <button class=\"colab-df-convert\" onclick=\"convertToInteractive('df-663ec2f3-c286-4ff8-a827-c98ca0ed5a19')\"\n",
              "              title=\"Convert this dataframe to an interactive table.\"\n",
              "              style=\"display:none;\">\n",
              "        \n",
              "  <svg xmlns=\"http://www.w3.org/2000/svg\" height=\"24px\"viewBox=\"0 0 24 24\"\n",
              "       width=\"24px\">\n",
              "    <path d=\"M0 0h24v24H0V0z\" fill=\"none\"/>\n",
              "    <path d=\"M18.56 5.44l.94 2.06.94-2.06 2.06-.94-2.06-.94-.94-2.06-.94 2.06-2.06.94zm-11 1L8.5 8.5l.94-2.06 2.06-.94-2.06-.94L8.5 2.5l-.94 2.06-2.06.94zm10 10l.94 2.06.94-2.06 2.06-.94-2.06-.94-.94-2.06-.94 2.06-2.06.94z\"/><path d=\"M17.41 7.96l-1.37-1.37c-.4-.4-.92-.59-1.43-.59-.52 0-1.04.2-1.43.59L10.3 9.45l-7.72 7.72c-.78.78-.78 2.05 0 2.83L4 21.41c.39.39.9.59 1.41.59.51 0 1.02-.2 1.41-.59l7.78-7.78 2.81-2.81c.8-.78.8-2.07 0-2.86zM5.41 20L4 18.59l7.72-7.72 1.47 1.35L5.41 20z\"/>\n",
              "  </svg>\n",
              "      </button>\n",
              "      \n",
              "  <style>\n",
              "    .colab-df-container {\n",
              "      display:flex;\n",
              "      flex-wrap:wrap;\n",
              "      gap: 12px;\n",
              "    }\n",
              "\n",
              "    .colab-df-convert {\n",
              "      background-color: #E8F0FE;\n",
              "      border: none;\n",
              "      border-radius: 50%;\n",
              "      cursor: pointer;\n",
              "      display: none;\n",
              "      fill: #1967D2;\n",
              "      height: 32px;\n",
              "      padding: 0 0 0 0;\n",
              "      width: 32px;\n",
              "    }\n",
              "\n",
              "    .colab-df-convert:hover {\n",
              "      background-color: #E2EBFA;\n",
              "      box-shadow: 0px 1px 2px rgba(60, 64, 67, 0.3), 0px 1px 3px 1px rgba(60, 64, 67, 0.15);\n",
              "      fill: #174EA6;\n",
              "    }\n",
              "\n",
              "    [theme=dark] .colab-df-convert {\n",
              "      background-color: #3B4455;\n",
              "      fill: #D2E3FC;\n",
              "    }\n",
              "\n",
              "    [theme=dark] .colab-df-convert:hover {\n",
              "      background-color: #434B5C;\n",
              "      box-shadow: 0px 1px 3px 1px rgba(0, 0, 0, 0.15);\n",
              "      filter: drop-shadow(0px 1px 2px rgba(0, 0, 0, 0.3));\n",
              "      fill: #FFFFFF;\n",
              "    }\n",
              "  </style>\n",
              "\n",
              "      <script>\n",
              "        const buttonEl =\n",
              "          document.querySelector('#df-663ec2f3-c286-4ff8-a827-c98ca0ed5a19 button.colab-df-convert');\n",
              "        buttonEl.style.display =\n",
              "          google.colab.kernel.accessAllowed ? 'block' : 'none';\n",
              "\n",
              "        async function convertToInteractive(key) {\n",
              "          const element = document.querySelector('#df-663ec2f3-c286-4ff8-a827-c98ca0ed5a19');\n",
              "          const dataTable =\n",
              "            await google.colab.kernel.invokeFunction('convertToInteractive',\n",
              "                                                     [key], {});\n",
              "          if (!dataTable) return;\n",
              "\n",
              "          const docLinkHtml = 'Like what you see? Visit the ' +\n",
              "            '<a target=\"_blank\" href=https://colab.research.google.com/notebooks/data_table.ipynb>data table notebook</a>'\n",
              "            + ' to learn more about interactive tables.';\n",
              "          element.innerHTML = '';\n",
              "          dataTable['output_type'] = 'display_data';\n",
              "          await google.colab.output.renderOutput(dataTable, element);\n",
              "          const docLink = document.createElement('div');\n",
              "          docLink.innerHTML = docLinkHtml;\n",
              "          element.appendChild(docLink);\n",
              "        }\n",
              "      </script>\n",
              "    </div>\n",
              "  </div>\n",
              "  "
            ]
          },
          "metadata": {},
          "execution_count": 7
        }
      ]
    },
    {
      "cell_type": "code",
      "source": [
        "def formata(coluna):\n",
        "  formatacao = []\n",
        "  for i in coluna:\n",
        "    formatacao.append(i.capitalize())\n",
        "  coluna = formatacao\n",
        "  return coluna"
      ],
      "metadata": {
        "id": "djysNDhXg1dZ"
      },
      "execution_count": null,
      "outputs": []
    },
    {
      "cell_type": "code",
      "source": [
        "for i in dados.columns[1:6]:\n",
        "  dados[i] = formata(dados[i])"
      ],
      "metadata": {
        "id": "jYodddrrn3ZF"
      },
      "execution_count": null,
      "outputs": []
    },
    {
      "cell_type": "code",
      "source": [
        "dados.head()"
      ],
      "metadata": {
        "colab": {
          "base_uri": "https://localhost:8080/",
          "height": 206
        },
        "id": "oy8LafIMcjIy",
        "outputId": "91c205f0-648f-43b2-cc8d-32d0746bcec8"
      },
      "execution_count": null,
      "outputs": [
        {
          "output_type": "execute_result",
          "data": {
            "text/plain": [
              "    Ano  Mês   Grande região Unidade da federação   Produto Localização  \\\n",
              "0  1997  Jan  Região sudeste       Rio de janeiro  Petróleo         Mar   \n",
              "1  1997  Fev  Região sudeste       Rio de janeiro  Petróleo         Mar   \n",
              "2  1997  Mar  Região sudeste       Rio de janeiro  Petróleo         Mar   \n",
              "3  1997  Abr  Região sudeste       Rio de janeiro  Petróleo         Mar   \n",
              "4  1997  Mai  Região sudeste       Rio de janeiro  Petróleo         Mar   \n",
              "\n",
              "    Produção  \n",
              "0  2767443.0  \n",
              "1  2891003.0  \n",
              "2  2998305.0  \n",
              "3  2863184.0  \n",
              "4  2873644.0  "
            ],
            "text/html": [
              "\n",
              "  <div id=\"df-112f70c4-cf29-4796-bc3c-c8515d3d9648\">\n",
              "    <div class=\"colab-df-container\">\n",
              "      <div>\n",
              "<style scoped>\n",
              "    .dataframe tbody tr th:only-of-type {\n",
              "        vertical-align: middle;\n",
              "    }\n",
              "\n",
              "    .dataframe tbody tr th {\n",
              "        vertical-align: top;\n",
              "    }\n",
              "\n",
              "    .dataframe thead th {\n",
              "        text-align: right;\n",
              "    }\n",
              "</style>\n",
              "<table border=\"1\" class=\"dataframe\">\n",
              "  <thead>\n",
              "    <tr style=\"text-align: right;\">\n",
              "      <th></th>\n",
              "      <th>Ano</th>\n",
              "      <th>Mês</th>\n",
              "      <th>Grande região</th>\n",
              "      <th>Unidade da federação</th>\n",
              "      <th>Produto</th>\n",
              "      <th>Localização</th>\n",
              "      <th>Produção</th>\n",
              "    </tr>\n",
              "  </thead>\n",
              "  <tbody>\n",
              "    <tr>\n",
              "      <th>0</th>\n",
              "      <td>1997</td>\n",
              "      <td>Jan</td>\n",
              "      <td>Região sudeste</td>\n",
              "      <td>Rio de janeiro</td>\n",
              "      <td>Petróleo</td>\n",
              "      <td>Mar</td>\n",
              "      <td>2767443.0</td>\n",
              "    </tr>\n",
              "    <tr>\n",
              "      <th>1</th>\n",
              "      <td>1997</td>\n",
              "      <td>Fev</td>\n",
              "      <td>Região sudeste</td>\n",
              "      <td>Rio de janeiro</td>\n",
              "      <td>Petróleo</td>\n",
              "      <td>Mar</td>\n",
              "      <td>2891003.0</td>\n",
              "    </tr>\n",
              "    <tr>\n",
              "      <th>2</th>\n",
              "      <td>1997</td>\n",
              "      <td>Mar</td>\n",
              "      <td>Região sudeste</td>\n",
              "      <td>Rio de janeiro</td>\n",
              "      <td>Petróleo</td>\n",
              "      <td>Mar</td>\n",
              "      <td>2998305.0</td>\n",
              "    </tr>\n",
              "    <tr>\n",
              "      <th>3</th>\n",
              "      <td>1997</td>\n",
              "      <td>Abr</td>\n",
              "      <td>Região sudeste</td>\n",
              "      <td>Rio de janeiro</td>\n",
              "      <td>Petróleo</td>\n",
              "      <td>Mar</td>\n",
              "      <td>2863184.0</td>\n",
              "    </tr>\n",
              "    <tr>\n",
              "      <th>4</th>\n",
              "      <td>1997</td>\n",
              "      <td>Mai</td>\n",
              "      <td>Região sudeste</td>\n",
              "      <td>Rio de janeiro</td>\n",
              "      <td>Petróleo</td>\n",
              "      <td>Mar</td>\n",
              "      <td>2873644.0</td>\n",
              "    </tr>\n",
              "  </tbody>\n",
              "</table>\n",
              "</div>\n",
              "      <button class=\"colab-df-convert\" onclick=\"convertToInteractive('df-112f70c4-cf29-4796-bc3c-c8515d3d9648')\"\n",
              "              title=\"Convert this dataframe to an interactive table.\"\n",
              "              style=\"display:none;\">\n",
              "        \n",
              "  <svg xmlns=\"http://www.w3.org/2000/svg\" height=\"24px\"viewBox=\"0 0 24 24\"\n",
              "       width=\"24px\">\n",
              "    <path d=\"M0 0h24v24H0V0z\" fill=\"none\"/>\n",
              "    <path d=\"M18.56 5.44l.94 2.06.94-2.06 2.06-.94-2.06-.94-.94-2.06-.94 2.06-2.06.94zm-11 1L8.5 8.5l.94-2.06 2.06-.94-2.06-.94L8.5 2.5l-.94 2.06-2.06.94zm10 10l.94 2.06.94-2.06 2.06-.94-2.06-.94-.94-2.06-.94 2.06-2.06.94z\"/><path d=\"M17.41 7.96l-1.37-1.37c-.4-.4-.92-.59-1.43-.59-.52 0-1.04.2-1.43.59L10.3 9.45l-7.72 7.72c-.78.78-.78 2.05 0 2.83L4 21.41c.39.39.9.59 1.41.59.51 0 1.02-.2 1.41-.59l7.78-7.78 2.81-2.81c.8-.78.8-2.07 0-2.86zM5.41 20L4 18.59l7.72-7.72 1.47 1.35L5.41 20z\"/>\n",
              "  </svg>\n",
              "      </button>\n",
              "      \n",
              "  <style>\n",
              "    .colab-df-container {\n",
              "      display:flex;\n",
              "      flex-wrap:wrap;\n",
              "      gap: 12px;\n",
              "    }\n",
              "\n",
              "    .colab-df-convert {\n",
              "      background-color: #E8F0FE;\n",
              "      border: none;\n",
              "      border-radius: 50%;\n",
              "      cursor: pointer;\n",
              "      display: none;\n",
              "      fill: #1967D2;\n",
              "      height: 32px;\n",
              "      padding: 0 0 0 0;\n",
              "      width: 32px;\n",
              "    }\n",
              "\n",
              "    .colab-df-convert:hover {\n",
              "      background-color: #E2EBFA;\n",
              "      box-shadow: 0px 1px 2px rgba(60, 64, 67, 0.3), 0px 1px 3px 1px rgba(60, 64, 67, 0.15);\n",
              "      fill: #174EA6;\n",
              "    }\n",
              "\n",
              "    [theme=dark] .colab-df-convert {\n",
              "      background-color: #3B4455;\n",
              "      fill: #D2E3FC;\n",
              "    }\n",
              "\n",
              "    [theme=dark] .colab-df-convert:hover {\n",
              "      background-color: #434B5C;\n",
              "      box-shadow: 0px 1px 3px 1px rgba(0, 0, 0, 0.15);\n",
              "      filter: drop-shadow(0px 1px 2px rgba(0, 0, 0, 0.3));\n",
              "      fill: #FFFFFF;\n",
              "    }\n",
              "  </style>\n",
              "\n",
              "      <script>\n",
              "        const buttonEl =\n",
              "          document.querySelector('#df-112f70c4-cf29-4796-bc3c-c8515d3d9648 button.colab-df-convert');\n",
              "        buttonEl.style.display =\n",
              "          google.colab.kernel.accessAllowed ? 'block' : 'none';\n",
              "\n",
              "        async function convertToInteractive(key) {\n",
              "          const element = document.querySelector('#df-112f70c4-cf29-4796-bc3c-c8515d3d9648');\n",
              "          const dataTable =\n",
              "            await google.colab.kernel.invokeFunction('convertToInteractive',\n",
              "                                                     [key], {});\n",
              "          if (!dataTable) return;\n",
              "\n",
              "          const docLinkHtml = 'Like what you see? Visit the ' +\n",
              "            '<a target=\"_blank\" href=https://colab.research.google.com/notebooks/data_table.ipynb>data table notebook</a>'\n",
              "            + ' to learn more about interactive tables.';\n",
              "          element.innerHTML = '';\n",
              "          dataTable['output_type'] = 'display_data';\n",
              "          await google.colab.output.renderOutput(dataTable, element);\n",
              "          const docLink = document.createElement('div');\n",
              "          docLink.innerHTML = docLinkHtml;\n",
              "          element.appendChild(docLink);\n",
              "        }\n",
              "      </script>\n",
              "    </div>\n",
              "  </div>\n",
              "  "
            ]
          },
          "metadata": {},
          "execution_count": 10
        }
      ]
    },
    {
      "cell_type": "code",
      "source": [
        "dados.tail()"
      ],
      "metadata": {
        "colab": {
          "base_uri": "https://localhost:8080/",
          "height": 206
        },
        "id": "RloBPaXxBl-2",
        "outputId": "a2f979b9-3134-4a29-b500-0fa122da8ca6"
      },
      "execution_count": null,
      "outputs": [
        {
          "output_type": "execute_result",
          "data": {
            "text/plain": [
              "       Ano  Mês   Grande região Unidade da federação   Produto Localização  \\\n",
              "6859  2022  Ago  Região sudeste       Espírito santo  Petróleo       Terra   \n",
              "6860  2022  Set  Região sudeste       Espírito santo  Petróleo       Terra   \n",
              "6861  2022  Out  Região sudeste       Espírito santo  Petróleo       Terra   \n",
              "6862  2022  Nov  Região sudeste       Espírito santo  Petróleo       Terra   \n",
              "6863  2022  Dez  Região sudeste       Espírito santo  Petróleo       Terra   \n",
              "\n",
              "      Produção  \n",
              "6859       0.0  \n",
              "6860       0.0  \n",
              "6861       0.0  \n",
              "6862       0.0  \n",
              "6863       0.0  "
            ],
            "text/html": [
              "\n",
              "  <div id=\"df-2bc8153e-dc49-4a7b-a8be-9ac6b763455c\">\n",
              "    <div class=\"colab-df-container\">\n",
              "      <div>\n",
              "<style scoped>\n",
              "    .dataframe tbody tr th:only-of-type {\n",
              "        vertical-align: middle;\n",
              "    }\n",
              "\n",
              "    .dataframe tbody tr th {\n",
              "        vertical-align: top;\n",
              "    }\n",
              "\n",
              "    .dataframe thead th {\n",
              "        text-align: right;\n",
              "    }\n",
              "</style>\n",
              "<table border=\"1\" class=\"dataframe\">\n",
              "  <thead>\n",
              "    <tr style=\"text-align: right;\">\n",
              "      <th></th>\n",
              "      <th>Ano</th>\n",
              "      <th>Mês</th>\n",
              "      <th>Grande região</th>\n",
              "      <th>Unidade da federação</th>\n",
              "      <th>Produto</th>\n",
              "      <th>Localização</th>\n",
              "      <th>Produção</th>\n",
              "    </tr>\n",
              "  </thead>\n",
              "  <tbody>\n",
              "    <tr>\n",
              "      <th>6859</th>\n",
              "      <td>2022</td>\n",
              "      <td>Ago</td>\n",
              "      <td>Região sudeste</td>\n",
              "      <td>Espírito santo</td>\n",
              "      <td>Petróleo</td>\n",
              "      <td>Terra</td>\n",
              "      <td>0.0</td>\n",
              "    </tr>\n",
              "    <tr>\n",
              "      <th>6860</th>\n",
              "      <td>2022</td>\n",
              "      <td>Set</td>\n",
              "      <td>Região sudeste</td>\n",
              "      <td>Espírito santo</td>\n",
              "      <td>Petróleo</td>\n",
              "      <td>Terra</td>\n",
              "      <td>0.0</td>\n",
              "    </tr>\n",
              "    <tr>\n",
              "      <th>6861</th>\n",
              "      <td>2022</td>\n",
              "      <td>Out</td>\n",
              "      <td>Região sudeste</td>\n",
              "      <td>Espírito santo</td>\n",
              "      <td>Petróleo</td>\n",
              "      <td>Terra</td>\n",
              "      <td>0.0</td>\n",
              "    </tr>\n",
              "    <tr>\n",
              "      <th>6862</th>\n",
              "      <td>2022</td>\n",
              "      <td>Nov</td>\n",
              "      <td>Região sudeste</td>\n",
              "      <td>Espírito santo</td>\n",
              "      <td>Petróleo</td>\n",
              "      <td>Terra</td>\n",
              "      <td>0.0</td>\n",
              "    </tr>\n",
              "    <tr>\n",
              "      <th>6863</th>\n",
              "      <td>2022</td>\n",
              "      <td>Dez</td>\n",
              "      <td>Região sudeste</td>\n",
              "      <td>Espírito santo</td>\n",
              "      <td>Petróleo</td>\n",
              "      <td>Terra</td>\n",
              "      <td>0.0</td>\n",
              "    </tr>\n",
              "  </tbody>\n",
              "</table>\n",
              "</div>\n",
              "      <button class=\"colab-df-convert\" onclick=\"convertToInteractive('df-2bc8153e-dc49-4a7b-a8be-9ac6b763455c')\"\n",
              "              title=\"Convert this dataframe to an interactive table.\"\n",
              "              style=\"display:none;\">\n",
              "        \n",
              "  <svg xmlns=\"http://www.w3.org/2000/svg\" height=\"24px\"viewBox=\"0 0 24 24\"\n",
              "       width=\"24px\">\n",
              "    <path d=\"M0 0h24v24H0V0z\" fill=\"none\"/>\n",
              "    <path d=\"M18.56 5.44l.94 2.06.94-2.06 2.06-.94-2.06-.94-.94-2.06-.94 2.06-2.06.94zm-11 1L8.5 8.5l.94-2.06 2.06-.94-2.06-.94L8.5 2.5l-.94 2.06-2.06.94zm10 10l.94 2.06.94-2.06 2.06-.94-2.06-.94-.94-2.06-.94 2.06-2.06.94z\"/><path d=\"M17.41 7.96l-1.37-1.37c-.4-.4-.92-.59-1.43-.59-.52 0-1.04.2-1.43.59L10.3 9.45l-7.72 7.72c-.78.78-.78 2.05 0 2.83L4 21.41c.39.39.9.59 1.41.59.51 0 1.02-.2 1.41-.59l7.78-7.78 2.81-2.81c.8-.78.8-2.07 0-2.86zM5.41 20L4 18.59l7.72-7.72 1.47 1.35L5.41 20z\"/>\n",
              "  </svg>\n",
              "      </button>\n",
              "      \n",
              "  <style>\n",
              "    .colab-df-container {\n",
              "      display:flex;\n",
              "      flex-wrap:wrap;\n",
              "      gap: 12px;\n",
              "    }\n",
              "\n",
              "    .colab-df-convert {\n",
              "      background-color: #E8F0FE;\n",
              "      border: none;\n",
              "      border-radius: 50%;\n",
              "      cursor: pointer;\n",
              "      display: none;\n",
              "      fill: #1967D2;\n",
              "      height: 32px;\n",
              "      padding: 0 0 0 0;\n",
              "      width: 32px;\n",
              "    }\n",
              "\n",
              "    .colab-df-convert:hover {\n",
              "      background-color: #E2EBFA;\n",
              "      box-shadow: 0px 1px 2px rgba(60, 64, 67, 0.3), 0px 1px 3px 1px rgba(60, 64, 67, 0.15);\n",
              "      fill: #174EA6;\n",
              "    }\n",
              "\n",
              "    [theme=dark] .colab-df-convert {\n",
              "      background-color: #3B4455;\n",
              "      fill: #D2E3FC;\n",
              "    }\n",
              "\n",
              "    [theme=dark] .colab-df-convert:hover {\n",
              "      background-color: #434B5C;\n",
              "      box-shadow: 0px 1px 3px 1px rgba(0, 0, 0, 0.15);\n",
              "      filter: drop-shadow(0px 1px 2px rgba(0, 0, 0, 0.3));\n",
              "      fill: #FFFFFF;\n",
              "    }\n",
              "  </style>\n",
              "\n",
              "      <script>\n",
              "        const buttonEl =\n",
              "          document.querySelector('#df-2bc8153e-dc49-4a7b-a8be-9ac6b763455c button.colab-df-convert');\n",
              "        buttonEl.style.display =\n",
              "          google.colab.kernel.accessAllowed ? 'block' : 'none';\n",
              "\n",
              "        async function convertToInteractive(key) {\n",
              "          const element = document.querySelector('#df-2bc8153e-dc49-4a7b-a8be-9ac6b763455c');\n",
              "          const dataTable =\n",
              "            await google.colab.kernel.invokeFunction('convertToInteractive',\n",
              "                                                     [key], {});\n",
              "          if (!dataTable) return;\n",
              "\n",
              "          const docLinkHtml = 'Like what you see? Visit the ' +\n",
              "            '<a target=\"_blank\" href=https://colab.research.google.com/notebooks/data_table.ipynb>data table notebook</a>'\n",
              "            + ' to learn more about interactive tables.';\n",
              "          element.innerHTML = '';\n",
              "          dataTable['output_type'] = 'display_data';\n",
              "          await google.colab.output.renderOutput(dataTable, element);\n",
              "          const docLink = document.createElement('div');\n",
              "          docLink.innerHTML = docLinkHtml;\n",
              "          element.appendChild(docLink);\n",
              "        }\n",
              "      </script>\n",
              "    </div>\n",
              "  </div>\n",
              "  "
            ]
          },
          "metadata": {},
          "execution_count": 11
        }
      ]
    },
    {
      "cell_type": "markdown",
      "source": [
        "Como o ano de 2022 não possui todos os registros, vamos utilizar os dados até 2021."
      ],
      "metadata": {
        "id": "UAnbKTZGBqUa"
      }
    },
    {
      "cell_type": "code",
      "source": [
        "dados = dados.query(\"Ano < 2022\")"
      ],
      "metadata": {
        "id": "M0AIqd11CDuF"
      },
      "execution_count": null,
      "outputs": []
    },
    {
      "cell_type": "markdown",
      "source": [
        "Vamos eliminar a coluna 'Produto', pois é um dado único e obsoleto em nossa análise."
      ],
      "metadata": {
        "id": "VjXoDiebxA7i"
      }
    },
    {
      "cell_type": "code",
      "source": [
        "dados['Produto'].unique()"
      ],
      "metadata": {
        "colab": {
          "base_uri": "https://localhost:8080/"
        },
        "id": "9Yxwl5iZw854",
        "outputId": "2ccb557f-36b4-405c-a86e-c6ffeac8da6d"
      },
      "execution_count": null,
      "outputs": [
        {
          "output_type": "execute_result",
          "data": {
            "text/plain": [
              "array(['Petróleo'], dtype=object)"
            ]
          },
          "metadata": {},
          "execution_count": 13
        }
      ]
    },
    {
      "cell_type": "code",
      "source": [
        "dados.drop(['Produto'], axis=1, inplace=True)"
      ],
      "metadata": {
        "id": "Bg7avbfExYGM"
      },
      "execution_count": null,
      "outputs": []
    },
    {
      "cell_type": "code",
      "source": [
        "dados.info()"
      ],
      "metadata": {
        "colab": {
          "base_uri": "https://localhost:8080/"
        },
        "id": "VA0ZDuJTyQUX",
        "outputId": "80f07291-9d2b-460b-be3e-11d62ada708e"
      },
      "execution_count": null,
      "outputs": [
        {
          "output_type": "stream",
          "name": "stdout",
          "text": [
            "<class 'pandas.core.frame.DataFrame'>\n",
            "Int64Index: 6600 entries, 0 to 6599\n",
            "Data columns (total 6 columns):\n",
            " #   Column                Non-Null Count  Dtype  \n",
            "---  ------                --------------  -----  \n",
            " 0   Ano                   6600 non-null   int64  \n",
            " 1   Mês                   6600 non-null   object \n",
            " 2   Grande região         6600 non-null   object \n",
            " 3   Unidade da federação  6600 non-null   object \n",
            " 4   Localização           6600 non-null   object \n",
            " 5   Produção              6600 non-null   float64\n",
            "dtypes: float64(1), int64(1), object(4)\n",
            "memory usage: 360.9+ KB\n"
          ]
        }
      ]
    },
    {
      "cell_type": "markdown",
      "source": [
        "# <font color=black>2. Explorando os Dados</font>\n",
        "***"
      ],
      "metadata": {
        "id": "LOeUF5rLs5k8"
      }
    },
    {
      "cell_type": "markdown",
      "source": [
        "## <font color=black>2.1 Produção Nacional Anual</font>\n",
        "***"
      ],
      "metadata": {
        "id": "DN176Wf4tTzD"
      }
    },
    {
      "cell_type": "code",
      "source": [
        "dados['Ano'].unique()"
      ],
      "metadata": {
        "colab": {
          "base_uri": "https://localhost:8080/"
        },
        "id": "9MH5a7VZtBci",
        "outputId": "7c38815c-7d27-48bb-96ec-0776f899dadd"
      },
      "execution_count": null,
      "outputs": [
        {
          "output_type": "execute_result",
          "data": {
            "text/plain": [
              "array([1997, 1998, 1999, 2000, 2001, 2002, 2003, 2004, 2005, 2006, 2007,\n",
              "       2008, 2009, 2010, 2011, 2012, 2013, 2014, 2015, 2016, 2017, 2018,\n",
              "       2019, 2020, 2021])"
            ]
          },
          "metadata": {},
          "execution_count": 16
        }
      ]
    },
    {
      "cell_type": "markdown",
      "source": [
        "O levantamento foi realizado entre os anos de 1997 e 2021. Os dados são atualizados mensalmente até o último dia do mês subsequente ao mês de referência."
      ],
      "metadata": {
        "id": "5FHsOXOCtZrO"
      }
    },
    {
      "cell_type": "markdown",
      "source": [
        "### <font color=black>Evolução da Produção Nacional</font>\n",
        "***"
      ],
      "metadata": {
        "id": "DylReKVc9RDl"
      }
    },
    {
      "cell_type": "markdown",
      "source": [
        "Podemos sugerir questionamentos em relação aos anos que apresentaram maior produção de petróleo no Brasil."
      ],
      "metadata": {
        "id": "NQYOr__Xt9kn"
      }
    },
    {
      "cell_type": "code",
      "source": [
        "producao_anual = pd.DataFrame(dados['Produção'].groupby(dados['Ano']).sum())\n",
        "producao_anual.reset_index(inplace = True)"
      ],
      "metadata": {
        "id": "AqBEBDHPhnqD"
      },
      "execution_count": null,
      "outputs": []
    },
    {
      "cell_type": "code",
      "source": [
        "producao_anual"
      ],
      "metadata": {
        "colab": {
          "base_uri": "https://localhost:8080/",
          "height": 833
        },
        "id": "umzjpPgG1mKT",
        "outputId": "05966684-6413-4537-b59c-5cfd7e975308"
      },
      "execution_count": null,
      "outputs": [
        {
          "output_type": "execute_result",
          "data": {
            "text/plain": [
              "     Ano      Produção\n",
              "0   1997  4.864731e+07\n",
              "1   1998  5.638555e+07\n",
              "2   1999  6.371768e+07\n",
              "3   2000  7.164369e+07\n",
              "4   2001  7.501996e+07\n",
              "5   2002  8.439897e+07\n",
              "6   2003  8.681970e+07\n",
              "7   2004  8.596698e+07\n",
              "8   2005  9.479673e+07\n",
              "9   2006  9.997061e+07\n",
              "10  2007  1.014366e+08\n",
              "11  2008  1.054522e+08\n",
              "12  2009  1.131801e+08\n",
              "13  2010  1.192329e+08\n",
              "14  2011  1.221769e+08\n",
              "15  2012  1.199412e+08\n",
              "16  2013  1.174460e+08\n",
              "17  2014  1.308351e+08\n",
              "18  2015  1.414455e+08\n",
              "19  2016  1.460666e+08\n",
              "20  2017  1.521394e+08\n",
              "21  2018  1.501027e+08\n",
              "22  2019  1.617746e+08\n",
              "23  2020  1.710738e+08\n",
              "24  2021  1.685852e+08"
            ],
            "text/html": [
              "\n",
              "  <div id=\"df-93d2dbf9-0643-49b2-9b8c-5792e6242ed2\">\n",
              "    <div class=\"colab-df-container\">\n",
              "      <div>\n",
              "<style scoped>\n",
              "    .dataframe tbody tr th:only-of-type {\n",
              "        vertical-align: middle;\n",
              "    }\n",
              "\n",
              "    .dataframe tbody tr th {\n",
              "        vertical-align: top;\n",
              "    }\n",
              "\n",
              "    .dataframe thead th {\n",
              "        text-align: right;\n",
              "    }\n",
              "</style>\n",
              "<table border=\"1\" class=\"dataframe\">\n",
              "  <thead>\n",
              "    <tr style=\"text-align: right;\">\n",
              "      <th></th>\n",
              "      <th>Ano</th>\n",
              "      <th>Produção</th>\n",
              "    </tr>\n",
              "  </thead>\n",
              "  <tbody>\n",
              "    <tr>\n",
              "      <th>0</th>\n",
              "      <td>1997</td>\n",
              "      <td>4.864731e+07</td>\n",
              "    </tr>\n",
              "    <tr>\n",
              "      <th>1</th>\n",
              "      <td>1998</td>\n",
              "      <td>5.638555e+07</td>\n",
              "    </tr>\n",
              "    <tr>\n",
              "      <th>2</th>\n",
              "      <td>1999</td>\n",
              "      <td>6.371768e+07</td>\n",
              "    </tr>\n",
              "    <tr>\n",
              "      <th>3</th>\n",
              "      <td>2000</td>\n",
              "      <td>7.164369e+07</td>\n",
              "    </tr>\n",
              "    <tr>\n",
              "      <th>4</th>\n",
              "      <td>2001</td>\n",
              "      <td>7.501996e+07</td>\n",
              "    </tr>\n",
              "    <tr>\n",
              "      <th>5</th>\n",
              "      <td>2002</td>\n",
              "      <td>8.439897e+07</td>\n",
              "    </tr>\n",
              "    <tr>\n",
              "      <th>6</th>\n",
              "      <td>2003</td>\n",
              "      <td>8.681970e+07</td>\n",
              "    </tr>\n",
              "    <tr>\n",
              "      <th>7</th>\n",
              "      <td>2004</td>\n",
              "      <td>8.596698e+07</td>\n",
              "    </tr>\n",
              "    <tr>\n",
              "      <th>8</th>\n",
              "      <td>2005</td>\n",
              "      <td>9.479673e+07</td>\n",
              "    </tr>\n",
              "    <tr>\n",
              "      <th>9</th>\n",
              "      <td>2006</td>\n",
              "      <td>9.997061e+07</td>\n",
              "    </tr>\n",
              "    <tr>\n",
              "      <th>10</th>\n",
              "      <td>2007</td>\n",
              "      <td>1.014366e+08</td>\n",
              "    </tr>\n",
              "    <tr>\n",
              "      <th>11</th>\n",
              "      <td>2008</td>\n",
              "      <td>1.054522e+08</td>\n",
              "    </tr>\n",
              "    <tr>\n",
              "      <th>12</th>\n",
              "      <td>2009</td>\n",
              "      <td>1.131801e+08</td>\n",
              "    </tr>\n",
              "    <tr>\n",
              "      <th>13</th>\n",
              "      <td>2010</td>\n",
              "      <td>1.192329e+08</td>\n",
              "    </tr>\n",
              "    <tr>\n",
              "      <th>14</th>\n",
              "      <td>2011</td>\n",
              "      <td>1.221769e+08</td>\n",
              "    </tr>\n",
              "    <tr>\n",
              "      <th>15</th>\n",
              "      <td>2012</td>\n",
              "      <td>1.199412e+08</td>\n",
              "    </tr>\n",
              "    <tr>\n",
              "      <th>16</th>\n",
              "      <td>2013</td>\n",
              "      <td>1.174460e+08</td>\n",
              "    </tr>\n",
              "    <tr>\n",
              "      <th>17</th>\n",
              "      <td>2014</td>\n",
              "      <td>1.308351e+08</td>\n",
              "    </tr>\n",
              "    <tr>\n",
              "      <th>18</th>\n",
              "      <td>2015</td>\n",
              "      <td>1.414455e+08</td>\n",
              "    </tr>\n",
              "    <tr>\n",
              "      <th>19</th>\n",
              "      <td>2016</td>\n",
              "      <td>1.460666e+08</td>\n",
              "    </tr>\n",
              "    <tr>\n",
              "      <th>20</th>\n",
              "      <td>2017</td>\n",
              "      <td>1.521394e+08</td>\n",
              "    </tr>\n",
              "    <tr>\n",
              "      <th>21</th>\n",
              "      <td>2018</td>\n",
              "      <td>1.501027e+08</td>\n",
              "    </tr>\n",
              "    <tr>\n",
              "      <th>22</th>\n",
              "      <td>2019</td>\n",
              "      <td>1.617746e+08</td>\n",
              "    </tr>\n",
              "    <tr>\n",
              "      <th>23</th>\n",
              "      <td>2020</td>\n",
              "      <td>1.710738e+08</td>\n",
              "    </tr>\n",
              "    <tr>\n",
              "      <th>24</th>\n",
              "      <td>2021</td>\n",
              "      <td>1.685852e+08</td>\n",
              "    </tr>\n",
              "  </tbody>\n",
              "</table>\n",
              "</div>\n",
              "      <button class=\"colab-df-convert\" onclick=\"convertToInteractive('df-93d2dbf9-0643-49b2-9b8c-5792e6242ed2')\"\n",
              "              title=\"Convert this dataframe to an interactive table.\"\n",
              "              style=\"display:none;\">\n",
              "        \n",
              "  <svg xmlns=\"http://www.w3.org/2000/svg\" height=\"24px\"viewBox=\"0 0 24 24\"\n",
              "       width=\"24px\">\n",
              "    <path d=\"M0 0h24v24H0V0z\" fill=\"none\"/>\n",
              "    <path d=\"M18.56 5.44l.94 2.06.94-2.06 2.06-.94-2.06-.94-.94-2.06-.94 2.06-2.06.94zm-11 1L8.5 8.5l.94-2.06 2.06-.94-2.06-.94L8.5 2.5l-.94 2.06-2.06.94zm10 10l.94 2.06.94-2.06 2.06-.94-2.06-.94-.94-2.06-.94 2.06-2.06.94z\"/><path d=\"M17.41 7.96l-1.37-1.37c-.4-.4-.92-.59-1.43-.59-.52 0-1.04.2-1.43.59L10.3 9.45l-7.72 7.72c-.78.78-.78 2.05 0 2.83L4 21.41c.39.39.9.59 1.41.59.51 0 1.02-.2 1.41-.59l7.78-7.78 2.81-2.81c.8-.78.8-2.07 0-2.86zM5.41 20L4 18.59l7.72-7.72 1.47 1.35L5.41 20z\"/>\n",
              "  </svg>\n",
              "      </button>\n",
              "      \n",
              "  <style>\n",
              "    .colab-df-container {\n",
              "      display:flex;\n",
              "      flex-wrap:wrap;\n",
              "      gap: 12px;\n",
              "    }\n",
              "\n",
              "    .colab-df-convert {\n",
              "      background-color: #E8F0FE;\n",
              "      border: none;\n",
              "      border-radius: 50%;\n",
              "      cursor: pointer;\n",
              "      display: none;\n",
              "      fill: #1967D2;\n",
              "      height: 32px;\n",
              "      padding: 0 0 0 0;\n",
              "      width: 32px;\n",
              "    }\n",
              "\n",
              "    .colab-df-convert:hover {\n",
              "      background-color: #E2EBFA;\n",
              "      box-shadow: 0px 1px 2px rgba(60, 64, 67, 0.3), 0px 1px 3px 1px rgba(60, 64, 67, 0.15);\n",
              "      fill: #174EA6;\n",
              "    }\n",
              "\n",
              "    [theme=dark] .colab-df-convert {\n",
              "      background-color: #3B4455;\n",
              "      fill: #D2E3FC;\n",
              "    }\n",
              "\n",
              "    [theme=dark] .colab-df-convert:hover {\n",
              "      background-color: #434B5C;\n",
              "      box-shadow: 0px 1px 3px 1px rgba(0, 0, 0, 0.15);\n",
              "      filter: drop-shadow(0px 1px 2px rgba(0, 0, 0, 0.3));\n",
              "      fill: #FFFFFF;\n",
              "    }\n",
              "  </style>\n",
              "\n",
              "      <script>\n",
              "        const buttonEl =\n",
              "          document.querySelector('#df-93d2dbf9-0643-49b2-9b8c-5792e6242ed2 button.colab-df-convert');\n",
              "        buttonEl.style.display =\n",
              "          google.colab.kernel.accessAllowed ? 'block' : 'none';\n",
              "\n",
              "        async function convertToInteractive(key) {\n",
              "          const element = document.querySelector('#df-93d2dbf9-0643-49b2-9b8c-5792e6242ed2');\n",
              "          const dataTable =\n",
              "            await google.colab.kernel.invokeFunction('convertToInteractive',\n",
              "                                                     [key], {});\n",
              "          if (!dataTable) return;\n",
              "\n",
              "          const docLinkHtml = 'Like what you see? Visit the ' +\n",
              "            '<a target=\"_blank\" href=https://colab.research.google.com/notebooks/data_table.ipynb>data table notebook</a>'\n",
              "            + ' to learn more about interactive tables.';\n",
              "          element.innerHTML = '';\n",
              "          dataTable['output_type'] = 'display_data';\n",
              "          await google.colab.output.renderOutput(dataTable, element);\n",
              "          const docLink = document.createElement('div');\n",
              "          docLink.innerHTML = docLinkHtml;\n",
              "          element.appendChild(docLink);\n",
              "        }\n",
              "      </script>\n",
              "    </div>\n",
              "  </div>\n",
              "  "
            ]
          },
          "metadata": {},
          "execution_count": 18
        }
      ]
    },
    {
      "cell_type": "code",
      "source": [
        "def plotar(titulo, labelx, labely, x, y, dataset):\n",
        "  ax = sns.lineplot(x = x, y = y, data = dataset)\n",
        "  ax.figure.set_size_inches(12, 6)\n",
        "  ax.set_title(titulo, loc = 'center', fontsize = 18)\n",
        "  ax.set_xlabel(labelx, fontsize = 14)\n",
        "  ax.set_ylabel(labely, fontsize = 14)\n",
        "  ax = ax"
      ],
      "metadata": {
        "id": "i4B1ZZ9Z37Do"
      },
      "execution_count": null,
      "outputs": []
    },
    {
      "cell_type": "code",
      "source": [
        "plotar('Produção de Petróleo no Brasil', 'Anos (1997 - 2021)', 'Volume produzido em m³', 'Ano', 'Produção', producao_anual)"
      ],
      "metadata": {
        "colab": {
          "base_uri": "https://localhost:8080/",
          "height": 413
        },
        "id": "lTji8yWA4Gib",
        "outputId": "e4ea4c36-564b-468a-c8b7-8a5d36924b82"
      },
      "execution_count": null,
      "outputs": [
        {
          "output_type": "display_data",
          "data": {
            "text/plain": [
              "<Figure size 864x432 with 1 Axes>"
            ],
            "image/png": "[encoded data removed]"
          },
          "metadata": {
            "needs_background": "light"
          }
        }
      ]
    },
    {
      "cell_type": "markdown",
      "source": [
        "Percebemos um crescimento quase linear na produção de Gás Natural e Petróleo nos últimos 25 anos, vamos analisar quais os períodos que apresentaram déficit ou superávit"
      ],
      "metadata": {
        "id": "ct5lbKRr3LRt"
      }
    },
    {
      "cell_type": "code",
      "source": [
        "producao_anual['Aumento'] = producao_anual['Produção'].diff()\n",
        "producao_anual"
      ],
      "metadata": {
        "colab": {
          "base_uri": "https://localhost:8080/",
          "height": 833
        },
        "id": "oTvqxYmPvndj",
        "outputId": "313775e7-cfa8-4b18-fdf0-62b39d14b08d"
      },
      "execution_count": null,
      "outputs": [
        {
          "output_type": "execute_result",
          "data": {
            "text/plain": [
              "     Ano      Produção       Aumento\n",
              "0   1997  4.864731e+07           NaN\n",
              "1   1998  5.638555e+07  7.738242e+06\n",
              "2   1999  6.371768e+07  7.332129e+06\n",
              "3   2000  7.164369e+07  7.926014e+06\n",
              "4   2001  7.501996e+07  3.376267e+06\n",
              "5   2002  8.439897e+07  9.379005e+06\n",
              "6   2003  8.681970e+07  2.420731e+06\n",
              "7   2004  8.596698e+07 -8.527176e+05\n",
              "8   2005  9.479673e+07  8.829754e+06\n",
              "9   2006  9.997061e+07  5.173880e+06\n",
              "10  2007  1.014366e+08  1.466015e+06\n",
              "11  2008  1.054522e+08  4.015541e+06\n",
              "12  2009  1.131801e+08  7.727954e+06\n",
              "13  2010  1.192329e+08  6.052787e+06\n",
              "14  2011  1.221769e+08  2.943957e+06\n",
              "15  2012  1.199412e+08 -2.235701e+06\n",
              "16  2013  1.174460e+08 -2.495154e+06\n",
              "17  2014  1.308351e+08  1.338909e+07\n",
              "18  2015  1.414455e+08  1.061044e+07\n",
              "19  2016  1.460666e+08  4.621029e+06\n",
              "20  2017  1.521394e+08  6.072783e+06\n",
              "21  2018  1.501027e+08 -2.036674e+06\n",
              "22  2019  1.617746e+08  1.167191e+07\n",
              "23  2020  1.710738e+08  9.299209e+06\n",
              "24  2021  1.685852e+08 -2.488582e+06"
            ],
            "text/html": [
              "\n",
              "  <div id=\"df-3d9d5b97-dda7-4b02-8a69-470df51ea23c\">\n",
              "    <div class=\"colab-df-container\">\n",
              "      <div>\n",
              "<style scoped>\n",
              "    .dataframe tbody tr th:only-of-type {\n",
              "        vertical-align: middle;\n",
              "    }\n",
              "\n",
              "    .dataframe tbody tr th {\n",
              "        vertical-align: top;\n",
              "    }\n",
              "\n",
              "    .dataframe thead th {\n",
              "        text-align: right;\n",
              "    }\n",
              "</style>\n",
              "<table border=\"1\" class=\"dataframe\">\n",
              "  <thead>\n",
              "    <tr style=\"text-align: right;\">\n",
              "      <th></th>\n",
              "      <th>Ano</th>\n",
              "      <th>Produção</th>\n",
              "      <th>Aumento</th>\n",
              "    </tr>\n",
              "  </thead>\n",
              "  <tbody>\n",
              "    <tr>\n",
              "      <th>0</th>\n",
              "      <td>1997</td>\n",
              "      <td>4.864731e+07</td>\n",
              "      <td>NaN</td>\n",
              "    </tr>\n",
              "    <tr>\n",
              "      <th>1</th>\n",
              "      <td>1998</td>\n",
              "      <td>5.638555e+07</td>\n",
              "      <td>7.738242e+06</td>\n",
              "    </tr>\n",
              "    <tr>\n",
              "      <th>2</th>\n",
              "      <td>1999</td>\n",
              "      <td>6.371768e+07</td>\n",
              "      <td>7.332129e+06</td>\n",
              "    </tr>\n",
              "    <tr>\n",
              "      <th>3</th>\n",
              "      <td>2000</td>\n",
              "      <td>7.164369e+07</td>\n",
              "      <td>7.926014e+06</td>\n",
              "    </tr>\n",
              "    <tr>\n",
              "      <th>4</th>\n",
              "      <td>2001</td>\n",
              "      <td>7.501996e+07</td>\n",
              "      <td>3.376267e+06</td>\n",
              "    </tr>\n",
              "    <tr>\n",
              "      <th>5</th>\n",
              "      <td>2002</td>\n",
              "      <td>8.439897e+07</td>\n",
              "      <td>9.379005e+06</td>\n",
              "    </tr>\n",
              "    <tr>\n",
              "      <th>6</th>\n",
              "      <td>2003</td>\n",
              "      <td>8.681970e+07</td>\n",
              "      <td>2.420731e+06</td>\n",
              "    </tr>\n",
              "    <tr>\n",
              "      <th>7</th>\n",
              "      <td>2004</td>\n",
              "      <td>8.596698e+07</td>\n",
              "      <td>-8.527176e+05</td>\n",
              "    </tr>\n",
              "    <tr>\n",
              "      <th>8</th>\n",
              "      <td>2005</td>\n",
              "      <td>9.479673e+07</td>\n",
              "      <td>8.829754e+06</td>\n",
              "    </tr>\n",
              "    <tr>\n",
              "      <th>9</th>\n",
              "      <td>2006</td>\n",
              "      <td>9.997061e+07</td>\n",
              "      <td>5.173880e+06</td>\n",
              "    </tr>\n",
              "    <tr>\n",
              "      <th>10</th>\n",
              "      <td>2007</td>\n",
              "      <td>1.014366e+08</td>\n",
              "      <td>1.466015e+06</td>\n",
              "    </tr>\n",
              "    <tr>\n",
              "      <th>11</th>\n",
              "      <td>2008</td>\n",
              "      <td>1.054522e+08</td>\n",
              "      <td>4.015541e+06</td>\n",
              "    </tr>\n",
              "    <tr>\n",
              "      <th>12</th>\n",
              "      <td>2009</td>\n",
              "      <td>1.131801e+08</td>\n",
              "      <td>7.727954e+06</td>\n",
              "    </tr>\n",
              "    <tr>\n",
              "      <th>13</th>\n",
              "      <td>2010</td>\n",
              "      <td>1.192329e+08</td>\n",
              "      <td>6.052787e+06</td>\n",
              "    </tr>\n",
              "    <tr>\n",
              "      <th>14</th>\n",
              "      <td>2011</td>\n",
              "      <td>1.221769e+08</td>\n",
              "      <td>2.943957e+06</td>\n",
              "    </tr>\n",
              "    <tr>\n",
              "      <th>15</th>\n",
              "      <td>2012</td>\n",
              "      <td>1.199412e+08</td>\n",
              "      <td>-2.235701e+06</td>\n",
              "    </tr>\n",
              "    <tr>\n",
              "      <th>16</th>\n",
              "      <td>2013</td>\n",
              "      <td>1.174460e+08</td>\n",
              "      <td>-2.495154e+06</td>\n",
              "    </tr>\n",
              "    <tr>\n",
              "      <th>17</th>\n",
              "      <td>2014</td>\n",
              "      <td>1.308351e+08</td>\n",
              "      <td>1.338909e+07</td>\n",
              "    </tr>\n",
              "    <tr>\n",
              "      <th>18</th>\n",
              "      <td>2015</td>\n",
              "      <td>1.414455e+08</td>\n",
              "      <td>1.061044e+07</td>\n",
              "    </tr>\n",
              "    <tr>\n",
              "      <th>19</th>\n",
              "      <td>2016</td>\n",
              "      <td>1.460666e+08</td>\n",
              "      <td>4.621029e+06</td>\n",
              "    </tr>\n",
              "    <tr>\n",
              "      <th>20</th>\n",
              "      <td>2017</td>\n",
              "      <td>1.521394e+08</td>\n",
              "      <td>6.072783e+06</td>\n",
              "    </tr>\n",
              "    <tr>\n",
              "      <th>21</th>\n",
              "      <td>2018</td>\n",
              "      <td>1.501027e+08</td>\n",
              "      <td>-2.036674e+06</td>\n",
              "    </tr>\n",
              "    <tr>\n",
              "      <th>22</th>\n",
              "      <td>2019</td>\n",
              "      <td>1.617746e+08</td>\n",
              "      <td>1.167191e+07</td>\n",
              "    </tr>\n",
              "    <tr>\n",
              "      <th>23</th>\n",
              "      <td>2020</td>\n",
              "      <td>1.710738e+08</td>\n",
              "      <td>9.299209e+06</td>\n",
              "    </tr>\n",
              "    <tr>\n",
              "      <th>24</th>\n",
              "      <td>2021</td>\n",
              "      <td>1.685852e+08</td>\n",
              "      <td>-2.488582e+06</td>\n",
              "    </tr>\n",
              "  </tbody>\n",
              "</table>\n",
              "</div>\n",
              "      <button class=\"colab-df-convert\" onclick=\"convertToInteractive('df-3d9d5b97-dda7-4b02-8a69-470df51ea23c')\"\n",
              "              title=\"Convert this dataframe to an interactive table.\"\n",
              "              style=\"display:none;\">\n",
              "        \n",
              "  <svg xmlns=\"http://www.w3.org/2000/svg\" height=\"24px\"viewBox=\"0 0 24 24\"\n",
              "       width=\"24px\">\n",
              "    <path d=\"M0 0h24v24H0V0z\" fill=\"none\"/>\n",
              "    <path d=\"M18.56 5.44l.94 2.06.94-2.06 2.06-.94-2.06-.94-.94-2.06-.94 2.06-2.06.94zm-11 1L8.5 8.5l.94-2.06 2.06-.94-2.06-.94L8.5 2.5l-.94 2.06-2.06.94zm10 10l.94 2.06.94-2.06 2.06-.94-2.06-.94-.94-2.06-.94 2.06-2.06.94z\"/><path d=\"M17.41 7.96l-1.37-1.37c-.4-.4-.92-.59-1.43-.59-.52 0-1.04.2-1.43.59L10.3 9.45l-7.72 7.72c-.78.78-.78 2.05 0 2.83L4 21.41c.39.39.9.59 1.41.59.51 0 1.02-.2 1.41-.59l7.78-7.78 2.81-2.81c.8-.78.8-2.07 0-2.86zM5.41 20L4 18.59l7.72-7.72 1.47 1.35L5.41 20z\"/>\n",
              "  </svg>\n",
              "      </button>\n",
              "      \n",
              "  <style>\n",
              "    .colab-df-container {\n",
              "      display:flex;\n",
              "      flex-wrap:wrap;\n",
              "      gap: 12px;\n",
              "    }\n",
              "\n",
              "    .colab-df-convert {\n",
              "      background-color: #E8F0FE;\n",
              "      border: none;\n",
              "      border-radius: 50%;\n",
              "      cursor: pointer;\n",
              "      display: none;\n",
              "      fill: #1967D2;\n",
              "      height: 32px;\n",
              "      padding: 0 0 0 0;\n",
              "      width: 32px;\n",
              "    }\n",
              "\n",
              "    .colab-df-convert:hover {\n",
              "      background-color: #E2EBFA;\n",
              "      box-shadow: 0px 1px 2px rgba(60, 64, 67, 0.3), 0px 1px 3px 1px rgba(60, 64, 67, 0.15);\n",
              "      fill: #174EA6;\n",
              "    }\n",
              "\n",
              "    [theme=dark] .colab-df-convert {\n",
              "      background-color: #3B4455;\n",
              "      fill: #D2E3FC;\n",
              "    }\n",
              "\n",
              "    [theme=dark] .colab-df-convert:hover {\n",
              "      background-color: #434B5C;\n",
              "      box-shadow: 0px 1px 3px 1px rgba(0, 0, 0, 0.15);\n",
              "      filter: drop-shadow(0px 1px 2px rgba(0, 0, 0, 0.3));\n",
              "      fill: #FFFFFF;\n",
              "    }\n",
              "  </style>\n",
              "\n",
              "      <script>\n",
              "        const buttonEl =\n",
              "          document.querySelector('#df-3d9d5b97-dda7-4b02-8a69-470df51ea23c button.colab-df-convert');\n",
              "        buttonEl.style.display =\n",
              "          google.colab.kernel.accessAllowed ? 'block' : 'none';\n",
              "\n",
              "        async function convertToInteractive(key) {\n",
              "          const element = document.querySelector('#df-3d9d5b97-dda7-4b02-8a69-470df51ea23c');\n",
              "          const dataTable =\n",
              "            await google.colab.kernel.invokeFunction('convertToInteractive',\n",
              "                                                     [key], {});\n",
              "          if (!dataTable) return;\n",
              "\n",
              "          const docLinkHtml = 'Like what you see? Visit the ' +\n",
              "            '<a target=\"_blank\" href=https://colab.research.google.com/notebooks/data_table.ipynb>data table notebook</a>'\n",
              "            + ' to learn more about interactive tables.';\n",
              "          element.innerHTML = '';\n",
              "          dataTable['output_type'] = 'display_data';\n",
              "          await google.colab.output.renderOutput(dataTable, element);\n",
              "          const docLink = document.createElement('div');\n",
              "          docLink.innerHTML = docLinkHtml;\n",
              "          element.appendChild(docLink);\n",
              "        }\n",
              "      </script>\n",
              "    </div>\n",
              "  </div>\n",
              "  "
            ]
          },
          "metadata": {},
          "execution_count": 21
        }
      ]
    },
    {
      "cell_type": "code",
      "source": [
        "def plotar_crescimento(titulo, labelx, labely, x, y, dataset):\n",
        "  ax = sns.lineplot(x = x, y = y, data = dataset)\n",
        "  ax.figure.set_size_inches(12, 6)\n",
        "  ax.set_title(titulo, loc = 'center', fontsize = 18)\n",
        "  ax.set_xlabel(labelx, fontsize = 14)\n",
        "  ax.set_ylabel(labely, fontsize = 14)\n",
        "  ax.hlines(y = 0, xmin = 1997, xmax = 2021, colors='k', linestyles='dashed')\n",
        "  ax = ax"
      ],
      "metadata": {
        "id": "wGWhUvUJ9yuC"
      },
      "execution_count": null,
      "outputs": []
    },
    {
      "cell_type": "code",
      "source": [
        "plotar_crescimento('Crescimento na Produção de Petróleo', 'Anos (1998 - 2021)', 'Aumento', 'Ano', 'Aumento', producao_anual)"
      ],
      "metadata": {
        "colab": {
          "base_uri": "https://localhost:8080/",
          "height": 413
        },
        "id": "lK55msje6KjL",
        "outputId": "092ebcef-96ae-47e7-b0bc-3e4514c55062"
      },
      "execution_count": null,
      "outputs": [
        {
          "output_type": "display_data",
          "data": {
            "text/plain": [
              "<Figure size 864x432 with 1 Axes>"
            ],
            "image/png": "[encoded data removed]"
          },
          "metadata": {
            "needs_background": "light"
          }
        }
      ]
    },
    {
      "cell_type": "markdown",
      "source": [
        "### <font color=black>Aceleração da Produção Anual</font>\n",
        "***"
      ],
      "metadata": {
        "id": "nlw0odaeKu6i"
      }
    },
    {
      "cell_type": "code",
      "source": [
        "producao_anual['Aceleração'] = producao_anual['Aumento'].diff()\n",
        "producao_anual"
      ],
      "metadata": {
        "colab": {
          "base_uri": "https://localhost:8080/",
          "height": 833
        },
        "id": "MGQMvefRKul2",
        "outputId": "4390cfa3-6a06-4ec4-bd25-f51013a8a196"
      },
      "execution_count": null,
      "outputs": [
        {
          "output_type": "execute_result",
          "data": {
            "text/plain": [
              "     Ano      Produção       Aumento    Aceleração\n",
              "0   1997  4.864731e+07           NaN           NaN\n",
              "1   1998  5.638555e+07  7.738242e+06           NaN\n",
              "2   1999  6.371768e+07  7.332129e+06 -4.061128e+05\n",
              "3   2000  7.164369e+07  7.926014e+06  5.938848e+05\n",
              "4   2001  7.501996e+07  3.376267e+06 -4.549747e+06\n",
              "5   2002  8.439897e+07  9.379005e+06  6.002737e+06\n",
              "6   2003  8.681970e+07  2.420731e+06 -6.958274e+06\n",
              "7   2004  8.596698e+07 -8.527176e+05 -3.273449e+06\n",
              "8   2005  9.479673e+07  8.829754e+06  9.682472e+06\n",
              "9   2006  9.997061e+07  5.173880e+06 -3.655875e+06\n",
              "10  2007  1.014366e+08  1.466015e+06 -3.707864e+06\n",
              "11  2008  1.054522e+08  4.015541e+06  2.549526e+06\n",
              "12  2009  1.131801e+08  7.727954e+06  3.712413e+06\n",
              "13  2010  1.192329e+08  6.052787e+06 -1.675167e+06\n",
              "14  2011  1.221769e+08  2.943957e+06 -3.108830e+06\n",
              "15  2012  1.199412e+08 -2.235701e+06 -5.179659e+06\n",
              "16  2013  1.174460e+08 -2.495154e+06 -2.594531e+05\n",
              "17  2014  1.308351e+08  1.338909e+07  1.588425e+07\n",
              "18  2015  1.414455e+08  1.061044e+07 -2.778655e+06\n",
              "19  2016  1.460666e+08  4.621029e+06 -5.989411e+06\n",
              "20  2017  1.521394e+08  6.072783e+06  1.451754e+06\n",
              "21  2018  1.501027e+08 -2.036674e+06 -8.109458e+06\n",
              "22  2019  1.617746e+08  1.167191e+07  1.370858e+07\n",
              "23  2020  1.710738e+08  9.299209e+06 -2.372697e+06\n",
              "24  2021  1.685852e+08 -2.488582e+06 -1.178779e+07"
            ],
            "text/html": [
              "\n",
              "  <div id=\"df-2ded6c8b-d169-40a2-b7e1-f0154e33279a\">\n",
              "    <div class=\"colab-df-container\">\n",
              "      <div>\n",
              "<style scoped>\n",
              "    .dataframe tbody tr th:only-of-type {\n",
              "        vertical-align: middle;\n",
              "    }\n",
              "\n",
              "    .dataframe tbody tr th {\n",
              "        vertical-align: top;\n",
              "    }\n",
              "\n",
              "    .dataframe thead th {\n",
              "        text-align: right;\n",
              "    }\n",
              "</style>\n",
              "<table border=\"1\" class=\"dataframe\">\n",
              "  <thead>\n",
              "    <tr style=\"text-align: right;\">\n",
              "      <th></th>\n",
              "      <th>Ano</th>\n",
              "      <th>Produção</th>\n",
              "      <th>Aumento</th>\n",
              "      <th>Aceleração</th>\n",
              "    </tr>\n",
              "  </thead>\n",
              "  <tbody>\n",
              "    <tr>\n",
              "      <th>0</th>\n",
              "      <td>1997</td>\n",
              "      <td>4.864731e+07</td>\n",
              "      <td>NaN</td>\n",
              "      <td>NaN</td>\n",
              "    </tr>\n",
              "    <tr>\n",
              "      <th>1</th>\n",
              "      <td>1998</td>\n",
              "      <td>5.638555e+07</td>\n",
              "      <td>7.738242e+06</td>\n",
              "      <td>NaN</td>\n",
              "    </tr>\n",
              "    <tr>\n",
              "      <th>2</th>\n",
              "      <td>1999</td>\n",
              "      <td>6.371768e+07</td>\n",
              "      <td>7.332129e+06</td>\n",
              "      <td>-4.061128e+05</td>\n",
              "    </tr>\n",
              "    <tr>\n",
              "      <th>3</th>\n",
              "      <td>2000</td>\n",
              "      <td>7.164369e+07</td>\n",
              "      <td>7.926014e+06</td>\n",
              "      <td>5.938848e+05</td>\n",
              "    </tr>\n",
              "    <tr>\n",
              "      <th>4</th>\n",
              "      <td>2001</td>\n",
              "      <td>7.501996e+07</td>\n",
              "      <td>3.376267e+06</td>\n",
              "      <td>-4.549747e+06</td>\n",
              "    </tr>\n",
              "    <tr>\n",
              "      <th>5</th>\n",
              "      <td>2002</td>\n",
              "      <td>8.439897e+07</td>\n",
              "      <td>9.379005e+06</td>\n",
              "      <td>6.002737e+06</td>\n",
              "    </tr>\n",
              "    <tr>\n",
              "      <th>6</th>\n",
              "      <td>2003</td>\n",
              "      <td>8.681970e+07</td>\n",
              "      <td>2.420731e+06</td>\n",
              "      <td>-6.958274e+06</td>\n",
              "    </tr>\n",
              "    <tr>\n",
              "      <th>7</th>\n",
              "      <td>2004</td>\n",
              "      <td>8.596698e+07</td>\n",
              "      <td>-8.527176e+05</td>\n",
              "      <td>-3.273449e+06</td>\n",
              "    </tr>\n",
              "    <tr>\n",
              "      <th>8</th>\n",
              "      <td>2005</td>\n",
              "      <td>9.479673e+07</td>\n",
              "      <td>8.829754e+06</td>\n",
              "      <td>9.682472e+06</td>\n",
              "    </tr>\n",
              "    <tr>\n",
              "      <th>9</th>\n",
              "      <td>2006</td>\n",
              "      <td>9.997061e+07</td>\n",
              "      <td>5.173880e+06</td>\n",
              "      <td>-3.655875e+06</td>\n",
              "    </tr>\n",
              "    <tr>\n",
              "      <th>10</th>\n",
              "      <td>2007</td>\n",
              "      <td>1.014366e+08</td>\n",
              "      <td>1.466015e+06</td>\n",
              "      <td>-3.707864e+06</td>\n",
              "    </tr>\n",
              "    <tr>\n",
              "      <th>11</th>\n",
              "      <td>2008</td>\n",
              "      <td>1.054522e+08</td>\n",
              "      <td>4.015541e+06</td>\n",
              "      <td>2.549526e+06</td>\n",
              "    </tr>\n",
              "    <tr>\n",
              "      <th>12</th>\n",
              "      <td>2009</td>\n",
              "      <td>1.131801e+08</td>\n",
              "      <td>7.727954e+06</td>\n",
              "      <td>3.712413e+06</td>\n",
              "    </tr>\n",
              "    <tr>\n",
              "      <th>13</th>\n",
              "      <td>2010</td>\n",
              "      <td>1.192329e+08</td>\n",
              "      <td>6.052787e+06</td>\n",
              "      <td>-1.675167e+06</td>\n",
              "    </tr>\n",
              "    <tr>\n",
              "      <th>14</th>\n",
              "      <td>2011</td>\n",
              "      <td>1.221769e+08</td>\n",
              "      <td>2.943957e+06</td>\n",
              "      <td>-3.108830e+06</td>\n",
              "    </tr>\n",
              "    <tr>\n",
              "      <th>15</th>\n",
              "      <td>2012</td>\n",
              "      <td>1.199412e+08</td>\n",
              "      <td>-2.235701e+06</td>\n",
              "      <td>-5.179659e+06</td>\n",
              "    </tr>\n",
              "    <tr>\n",
              "      <th>16</th>\n",
              "      <td>2013</td>\n",
              "      <td>1.174460e+08</td>\n",
              "      <td>-2.495154e+06</td>\n",
              "      <td>-2.594531e+05</td>\n",
              "    </tr>\n",
              "    <tr>\n",
              "      <th>17</th>\n",
              "      <td>2014</td>\n",
              "      <td>1.308351e+08</td>\n",
              "      <td>1.338909e+07</td>\n",
              "      <td>1.588425e+07</td>\n",
              "    </tr>\n",
              "    <tr>\n",
              "      <th>18</th>\n",
              "      <td>2015</td>\n",
              "      <td>1.414455e+08</td>\n",
              "      <td>1.061044e+07</td>\n",
              "      <td>-2.778655e+06</td>\n",
              "    </tr>\n",
              "    <tr>\n",
              "      <th>19</th>\n",
              "      <td>2016</td>\n",
              "      <td>1.460666e+08</td>\n",
              "      <td>4.621029e+06</td>\n",
              "      <td>-5.989411e+06</td>\n",
              "    </tr>\n",
              "    <tr>\n",
              "      <th>20</th>\n",
              "      <td>2017</td>\n",
              "      <td>1.521394e+08</td>\n",
              "      <td>6.072783e+06</td>\n",
              "      <td>1.451754e+06</td>\n",
              "    </tr>\n",
              "    <tr>\n",
              "      <th>21</th>\n",
              "      <td>2018</td>\n",
              "      <td>1.501027e+08</td>\n",
              "      <td>-2.036674e+06</td>\n",
              "      <td>-8.109458e+06</td>\n",
              "    </tr>\n",
              "    <tr>\n",
              "      <th>22</th>\n",
              "      <td>2019</td>\n",
              "      <td>1.617746e+08</td>\n",
              "      <td>1.167191e+07</td>\n",
              "      <td>1.370858e+07</td>\n",
              "    </tr>\n",
              "    <tr>\n",
              "      <th>23</th>\n",
              "      <td>2020</td>\n",
              "      <td>1.710738e+08</td>\n",
              "      <td>9.299209e+06</td>\n",
              "      <td>-2.372697e+06</td>\n",
              "    </tr>\n",
              "    <tr>\n",
              "      <th>24</th>\n",
              "      <td>2021</td>\n",
              "      <td>1.685852e+08</td>\n",
              "      <td>-2.488582e+06</td>\n",
              "      <td>-1.178779e+07</td>\n",
              "    </tr>\n",
              "  </tbody>\n",
              "</table>\n",
              "</div>\n",
              "      <button class=\"colab-df-convert\" onclick=\"convertToInteractive('df-2ded6c8b-d169-40a2-b7e1-f0154e33279a')\"\n",
              "              title=\"Convert this dataframe to an interactive table.\"\n",
              "              style=\"display:none;\">\n",
              "        \n",
              "  <svg xmlns=\"http://www.w3.org/2000/svg\" height=\"24px\"viewBox=\"0 0 24 24\"\n",
              "       width=\"24px\">\n",
              "    <path d=\"M0 0h24v24H0V0z\" fill=\"none\"/>\n",
              "    <path d=\"M18.56 5.44l.94 2.06.94-2.06 2.06-.94-2.06-.94-.94-2.06-.94 2.06-2.06.94zm-11 1L8.5 8.5l.94-2.06 2.06-.94-2.06-.94L8.5 2.5l-.94 2.06-2.06.94zm10 10l.94 2.06.94-2.06 2.06-.94-2.06-.94-.94-2.06-.94 2.06-2.06.94z\"/><path d=\"M17.41 7.96l-1.37-1.37c-.4-.4-.92-.59-1.43-.59-.52 0-1.04.2-1.43.59L10.3 9.45l-7.72 7.72c-.78.78-.78 2.05 0 2.83L4 21.41c.39.39.9.59 1.41.59.51 0 1.02-.2 1.41-.59l7.78-7.78 2.81-2.81c.8-.78.8-2.07 0-2.86zM5.41 20L4 18.59l7.72-7.72 1.47 1.35L5.41 20z\"/>\n",
              "  </svg>\n",
              "      </button>\n",
              "      \n",
              "  <style>\n",
              "    .colab-df-container {\n",
              "      display:flex;\n",
              "      flex-wrap:wrap;\n",
              "      gap: 12px;\n",
              "    }\n",
              "\n",
              "    .colab-df-convert {\n",
              "      background-color: #E8F0FE;\n",
              "      border: none;\n",
              "      border-radius: 50%;\n",
              "      cursor: pointer;\n",
              "      display: none;\n",
              "      fill: #1967D2;\n",
              "      height: 32px;\n",
              "      padding: 0 0 0 0;\n",
              "      width: 32px;\n",
              "    }\n",
              "\n",
              "    .colab-df-convert:hover {\n",
              "      background-color: #E2EBFA;\n",
              "      box-shadow: 0px 1px 2px rgba(60, 64, 67, 0.3), 0px 1px 3px 1px rgba(60, 64, 67, 0.15);\n",
              "      fill: #174EA6;\n",
              "    }\n",
              "\n",
              "    [theme=dark] .colab-df-convert {\n",
              "      background-color: #3B4455;\n",
              "      fill: #D2E3FC;\n",
              "    }\n",
              "\n",
              "    [theme=dark] .colab-df-convert:hover {\n",
              "      background-color: #434B5C;\n",
              "      box-shadow: 0px 1px 3px 1px rgba(0, 0, 0, 0.15);\n",
              "      filter: drop-shadow(0px 1px 2px rgba(0, 0, 0, 0.3));\n",
              "      fill: #FFFFFF;\n",
              "    }\n",
              "  </style>\n",
              "\n",
              "      <script>\n",
              "        const buttonEl =\n",
              "          document.querySelector('#df-2ded6c8b-d169-40a2-b7e1-f0154e33279a button.colab-df-convert');\n",
              "        buttonEl.style.display =\n",
              "          google.colab.kernel.accessAllowed ? 'block' : 'none';\n",
              "\n",
              "        async function convertToInteractive(key) {\n",
              "          const element = document.querySelector('#df-2ded6c8b-d169-40a2-b7e1-f0154e33279a');\n",
              "          const dataTable =\n",
              "            await google.colab.kernel.invokeFunction('convertToInteractive',\n",
              "                                                     [key], {});\n",
              "          if (!dataTable) return;\n",
              "\n",
              "          const docLinkHtml = 'Like what you see? Visit the ' +\n",
              "            '<a target=\"_blank\" href=https://colab.research.google.com/notebooks/data_table.ipynb>data table notebook</a>'\n",
              "            + ' to learn more about interactive tables.';\n",
              "          element.innerHTML = '';\n",
              "          dataTable['output_type'] = 'display_data';\n",
              "          await google.colab.output.renderOutput(dataTable, element);\n",
              "          const docLink = document.createElement('div');\n",
              "          docLink.innerHTML = docLinkHtml;\n",
              "          element.appendChild(docLink);\n",
              "        }\n",
              "      </script>\n",
              "    </div>\n",
              "  </div>\n",
              "  "
            ]
          },
          "metadata": {},
          "execution_count": 24
        }
      ]
    },
    {
      "cell_type": "code",
      "source": [
        "plotar_crescimento('Aceleração da Produção de Petróleo', 'Anos (1999 - 2021)', 'Aceleração', 'Ano', 'Aceleração', producao_anual)"
      ],
      "metadata": {
        "colab": {
          "base_uri": "https://localhost:8080/",
          "height": 413
        },
        "id": "AnQCgrQkL2Do",
        "outputId": "9b5a1518-dfbb-4fbc-c0a3-3ff1a3992e23"
      },
      "execution_count": null,
      "outputs": [
        {
          "output_type": "display_data",
          "data": {
            "text/plain": [
              "<Figure size 864x432 with 1 Axes>"
            ],
            "image/png": "[encoded data removed]"
          },
          "metadata": {
            "needs_background": "light"
          }
        }
      ]
    },
    {
      "cell_type": "code",
      "source": [
        "def plot_comparacao(x, y1, y2, y3, dataset, titulo):\n",
        "  plt.figure(figsize = (16, 12))\n",
        "  ax = plt.subplot(3, 1, 1)\n",
        "  ax.set_title(titulo, fontsize = 18, loc = 'center')\n",
        "  sns.lineplot(x = x, y = y1, data = dataset)\n",
        "  plt.subplot(3, 1, 2)\n",
        "  sns.lineplot(x = x, y = y2, data = dataset)\n",
        "  plt.hlines(y = 0, xmin = 1997, xmax = 2021, colors='k', linestyles='dashed')\n",
        "  plt.subplot(3, 1, 3)\n",
        "  sns.lineplot(x = x, y = y3, data = dataset)\n",
        "  plt.hlines(y = 0, xmin = 1997, xmax = 2021, colors='k', linestyles='dashed')\n",
        "  ax = ax"
      ],
      "metadata": {
        "id": "f3pWsqa9ol5m"
      },
      "execution_count": null,
      "outputs": []
    },
    {
      "cell_type": "code",
      "source": [
        "plot_comparacao(producao_anual['Ano'][2:], 'Produção', 'Aumento', 'Aceleração', producao_anual, 'Análise da Produção de Petróleo no Brasil (1999 - 2021)')"
      ],
      "metadata": {
        "colab": {
          "base_uri": "https://localhost:8080/",
          "height": 735
        },
        "id": "r5buhJO4o-Gt",
        "outputId": "99b52aae-1825-49af-ff3b-1b3d2d34145b"
      },
      "execution_count": null,
      "outputs": [
        {
          "output_type": "display_data",
          "data": {
            "text/plain": [
              "<Figure size 1152x864 with 3 Axes>"
            ],
            "image/png": "[encoded data removed]"
          },
          "metadata": {
            "needs_background": "light"
          }
        }
      ]
    },
    {
      "cell_type": "markdown",
      "source": [
        "### <font color=black>Estimativas para 2022</font>\n",
        "***"
      ],
      "metadata": {
        "id": "wvCmy-NI9oup"
      }
    },
    {
      "cell_type": "code",
      "source": [
        "ax = sns.lmplot(x= 'Ano', y= 'Produção', data = producao_anual[:-1])\n",
        "ax.fig.set_size_inches(12, 6)\n",
        "ax.fig.suptitle('Reta de Regressão - Produção x Ano', fontsize=16, y=1.02)\n",
        "ax.set_xlabels('Anos (1997 - 2021)', fontsize=14)\n",
        "ax.set_ylabels('Volume produzido em m³', fontsize=14)\n",
        "ax = ax"
      ],
      "metadata": {
        "colab": {
          "base_uri": "https://localhost:8080/",
          "height": 456
        },
        "id": "F7z3pYPE8l1R",
        "outputId": "978419ae-057b-4b31-b29d-6c9905f3fe68"
      },
      "execution_count": null,
      "outputs": [
        {
          "output_type": "display_data",
          "data": {
            "text/plain": [
              "<Figure size 864x432 with 1 Axes>"
            ],
            "image/png": "[encoded data removed]"
          },
          "metadata": {
            "needs_background": "light"
          }
        }
      ]
    },
    {
      "cell_type": "code",
      "source": [
        "producao_anual[['Ano', 'Produção']].corr()"
      ],
      "metadata": {
        "colab": {
          "base_uri": "https://localhost:8080/",
          "height": 112
        },
        "id": "RrpRtSC2AN6n",
        "outputId": "3e9ac884-cf64-4822-9eac-b2744059c8d0"
      },
      "execution_count": null,
      "outputs": [
        {
          "output_type": "execute_result",
          "data": {
            "text/plain": [
              "               Ano  Produção\n",
              "Ano       1.000000  0.992474\n",
              "Produção  0.992474  1.000000"
            ],
            "text/html": [
              "\n",
              "  <div id=\"df-955fac1b-dfc8-4f19-bfda-dedbb7cfa3be\">\n",
              "    <div class=\"colab-df-container\">\n",
              "      <div>\n",
              "<style scoped>\n",
              "    .dataframe tbody tr th:only-of-type {\n",
              "        vertical-align: middle;\n",
              "    }\n",
              "\n",
              "    .dataframe tbody tr th {\n",
              "        vertical-align: top;\n",
              "    }\n",
              "\n",
              "    .dataframe thead th {\n",
              "        text-align: right;\n",
              "    }\n",
              "</style>\n",
              "<table border=\"1\" class=\"dataframe\">\n",
              "  <thead>\n",
              "    <tr style=\"text-align: right;\">\n",
              "      <th></th>\n",
              "      <th>Ano</th>\n",
              "      <th>Produção</th>\n",
              "    </tr>\n",
              "  </thead>\n",
              "  <tbody>\n",
              "    <tr>\n",
              "      <th>Ano</th>\n",
              "      <td>1.000000</td>\n",
              "      <td>0.992474</td>\n",
              "    </tr>\n",
              "    <tr>\n",
              "      <th>Produção</th>\n",
              "      <td>0.992474</td>\n",
              "      <td>1.000000</td>\n",
              "    </tr>\n",
              "  </tbody>\n",
              "</table>\n",
              "</div>\n",
              "      <button class=\"colab-df-convert\" onclick=\"convertToInteractive('df-955fac1b-dfc8-4f19-bfda-dedbb7cfa3be')\"\n",
              "              title=\"Convert this dataframe to an interactive table.\"\n",
              "              style=\"display:none;\">\n",
              "        \n",
              "  <svg xmlns=\"http://www.w3.org/2000/svg\" height=\"24px\"viewBox=\"0 0 24 24\"\n",
              "       width=\"24px\">\n",
              "    <path d=\"M0 0h24v24H0V0z\" fill=\"none\"/>\n",
              "    <path d=\"M18.56 5.44l.94 2.06.94-2.06 2.06-.94-2.06-.94-.94-2.06-.94 2.06-2.06.94zm-11 1L8.5 8.5l.94-2.06 2.06-.94-2.06-.94L8.5 2.5l-.94 2.06-2.06.94zm10 10l.94 2.06.94-2.06 2.06-.94-2.06-.94-.94-2.06-.94 2.06-2.06.94z\"/><path d=\"M17.41 7.96l-1.37-1.37c-.4-.4-.92-.59-1.43-.59-.52 0-1.04.2-1.43.59L10.3 9.45l-7.72 7.72c-.78.78-.78 2.05 0 2.83L4 21.41c.39.39.9.59 1.41.59.51 0 1.02-.2 1.41-.59l7.78-7.78 2.81-2.81c.8-.78.8-2.07 0-2.86zM5.41 20L4 18.59l7.72-7.72 1.47 1.35L5.41 20z\"/>\n",
              "  </svg>\n",
              "      </button>\n",
              "      \n",
              "  <style>\n",
              "    .colab-df-container {\n",
              "      display:flex;\n",
              "      flex-wrap:wrap;\n",
              "      gap: 12px;\n",
              "    }\n",
              "\n",
              "    .colab-df-convert {\n",
              "      background-color: #E8F0FE;\n",
              "      border: none;\n",
              "      border-radius: 50%;\n",
              "      cursor: pointer;\n",
              "      display: none;\n",
              "      fill: #1967D2;\n",
              "      height: 32px;\n",
              "      padding: 0 0 0 0;\n",
              "      width: 32px;\n",
              "    }\n",
              "\n",
              "    .colab-df-convert:hover {\n",
              "      background-color: #E2EBFA;\n",
              "      box-shadow: 0px 1px 2px rgba(60, 64, 67, 0.3), 0px 1px 3px 1px rgba(60, 64, 67, 0.15);\n",
              "      fill: #174EA6;\n",
              "    }\n",
              "\n",
              "    [theme=dark] .colab-df-convert {\n",
              "      background-color: #3B4455;\n",
              "      fill: #D2E3FC;\n",
              "    }\n",
              "\n",
              "    [theme=dark] .colab-df-convert:hover {\n",
              "      background-color: #434B5C;\n",
              "      box-shadow: 0px 1px 3px 1px rgba(0, 0, 0, 0.15);\n",
              "      filter: drop-shadow(0px 1px 2px rgba(0, 0, 0, 0.3));\n",
              "      fill: #FFFFFF;\n",
              "    }\n",
              "  </style>\n",
              "\n",
              "      <script>\n",
              "        const buttonEl =\n",
              "          document.querySelector('#df-955fac1b-dfc8-4f19-bfda-dedbb7cfa3be button.colab-df-convert');\n",
              "        buttonEl.style.display =\n",
              "          google.colab.kernel.accessAllowed ? 'block' : 'none';\n",
              "\n",
              "        async function convertToInteractive(key) {\n",
              "          const element = document.querySelector('#df-955fac1b-dfc8-4f19-bfda-dedbb7cfa3be');\n",
              "          const dataTable =\n",
              "            await google.colab.kernel.invokeFunction('convertToInteractive',\n",
              "                                                     [key], {});\n",
              "          if (!dataTable) return;\n",
              "\n",
              "          const docLinkHtml = 'Like what you see? Visit the ' +\n",
              "            '<a target=\"_blank\" href=https://colab.research.google.com/notebooks/data_table.ipynb>data table notebook</a>'\n",
              "            + ' to learn more about interactive tables.';\n",
              "          element.innerHTML = '';\n",
              "          dataTable['output_type'] = 'display_data';\n",
              "          await google.colab.output.renderOutput(dataTable, element);\n",
              "          const docLink = document.createElement('div');\n",
              "          docLink.innerHTML = docLinkHtml;\n",
              "          element.appendChild(docLink);\n",
              "        }\n",
              "      </script>\n",
              "    </div>\n",
              "  </div>\n",
              "  "
            ]
          },
          "metadata": {},
          "execution_count": 29
        }
      ]
    },
    {
      "cell_type": "markdown",
      "source": [
        "Percebemos que a correlação entre os anos que passam e a produção da Gás Natural e Petróleo é muito forte (correlação = 0.992). Podemos criar um modelo preditivo para sugerir a produção dos próximos anos."
      ],
      "metadata": {
        "id": "-ddCIxnaCwuM"
      }
    },
    {
      "cell_type": "markdown",
      "source": [
        "### Preparando os dados para estimar um modelo de regressão linear simples."
      ],
      "metadata": {
        "id": "TH-Zbd0-DdyW"
      }
    },
    {
      "cell_type": "code",
      "source": [
        "Y = producao_anual['Produção']\n",
        "X = sm.add_constant(producao_anual['Ano'])"
      ],
      "metadata": {
        "colab": {
          "base_uri": "https://localhost:8080/"
        },
        "id": "iAyS69CIDda2",
        "outputId": "77177b44-31e8-438a-92d8-9ea32592a439"
      },
      "execution_count": null,
      "outputs": [
        {
          "output_type": "stream",
          "name": "stderr",
          "text": [
            "/usr/local/lib/python3.7/dist-packages/statsmodels/tsa/tsatools.py:117: FutureWarning: In a future version of pandas all arguments of concat except for the argument 'objs' will be keyword-only\n",
            "  x = pd.concat(x[::order], 1)\n"
          ]
        }
      ]
    },
    {
      "cell_type": "code",
      "source": [
        "resultado_regressao = sm.OLS(Y, X).fit()"
      ],
      "metadata": {
        "id": "i0zA7IxYBSQ_"
      },
      "execution_count": null,
      "outputs": []
    },
    {
      "cell_type": "code",
      "source": [
        "print(resultado_regressao.summary())"
      ],
      "metadata": {
        "colab": {
          "base_uri": "https://localhost:8080/"
        },
        "id": "a30eFTmXEBEm",
        "outputId": "67b906dc-0c7c-4237-815a-26ce2bafc9d2"
      },
      "execution_count": null,
      "outputs": [
        {
          "output_type": "stream",
          "name": "stdout",
          "text": [
            "                            OLS Regression Results                            \n",
            "==============================================================================\n",
            "Dep. Variable:               Produção   R-squared:                       0.985\n",
            "Model:                            OLS   Adj. R-squared:                  0.984\n",
            "Method:                 Least Squares   F-statistic:                     1511.\n",
            "Date:                Fri, 22 Apr 2022   Prob (F-statistic):           1.75e-22\n",
            "Time:                        11:18:29   Log-Likelihood:                -416.97\n",
            "No. Observations:                  25   AIC:                             837.9\n",
            "Df Residuals:                      23   BIC:                             840.4\n",
            "Df Model:                           1                                         \n",
            "Covariance Type:            nonrobust                                         \n",
            "==============================================================================\n",
            "                 coef    std err          t      P>|t|      [0.025      0.975]\n",
            "------------------------------------------------------------------------------\n",
            "const      -9.461e+09   2.46e+08    -38.417      0.000   -9.97e+09   -8.95e+09\n",
            "Ano         4.765e+06   1.23e+05     38.870      0.000    4.51e+06    5.02e+06\n",
            "==============================================================================\n",
            "Omnibus:                        9.599   Durbin-Watson:                   1.128\n",
            "Prob(Omnibus):                  0.008   Jarque-Bera (JB):                7.756\n",
            "Skew:                          -1.085   Prob(JB):                       0.0207\n",
            "Kurtosis:                       4.655   Cond. No.                     5.60e+05\n",
            "==============================================================================\n",
            "\n",
            "Warnings:\n",
            "[1] Standard Errors assume that the covariance matrix of the errors is correctly specified.\n",
            "[2] The condition number is large, 5.6e+05. This might indicate that there are\n",
            "strong multicollinearity or other numerical problems.\n"
          ]
        }
      ]
    },
    {
      "cell_type": "markdown",
      "source": [
        "### Obtendo o $Y$ previsto"
      ],
      "metadata": {
        "id": "XsqpUndhEg0v"
      }
    },
    {
      "cell_type": "code",
      "source": [
        "producao_anual['Y_previsto'] = resultado_regressao.predict()"
      ],
      "metadata": {
        "id": "yE2D7gYOEBn1"
      },
      "execution_count": null,
      "outputs": []
    },
    {
      "cell_type": "code",
      "source": [
        "producao_anual.head()"
      ],
      "metadata": {
        "colab": {
          "base_uri": "https://localhost:8080/",
          "height": 206
        },
        "id": "Q2gBBJ2HE6Ds",
        "outputId": "3e107373-807c-45e9-f230-10d4348f4ea1"
      },
      "execution_count": null,
      "outputs": [
        {
          "output_type": "execute_result",
          "data": {
            "text/plain": [
              "    Ano     Produção     Aumento  Aceleração    Y_previsto\n",
              "0  1997  48647309.00         NaN         NaN  5.435467e+07\n",
              "1  1998  56385551.00  7738242.00         NaN  5.911930e+07\n",
              "2  1999  63717680.24  7332129.24  -406112.76  6.388393e+07\n",
              "3  2000  71643694.29  7926014.05   593884.81  6.864856e+07\n",
              "4  2001  75019961.65  3376267.36 -4549746.69  7.341319e+07"
            ],
            "text/html": [
              "\n",
              "  <div id=\"df-d83cad09-fafa-4b54-8ec6-b9c64d456cb7\">\n",
              "    <div class=\"colab-df-container\">\n",
              "      <div>\n",
              "<style scoped>\n",
              "    .dataframe tbody tr th:only-of-type {\n",
              "        vertical-align: middle;\n",
              "    }\n",
              "\n",
              "    .dataframe tbody tr th {\n",
              "        vertical-align: top;\n",
              "    }\n",
              "\n",
              "    .dataframe thead th {\n",
              "        text-align: right;\n",
              "    }\n",
              "</style>\n",
              "<table border=\"1\" class=\"dataframe\">\n",
              "  <thead>\n",
              "    <tr style=\"text-align: right;\">\n",
              "      <th></th>\n",
              "      <th>Ano</th>\n",
              "      <th>Produção</th>\n",
              "      <th>Aumento</th>\n",
              "      <th>Aceleração</th>\n",
              "      <th>Y_previsto</th>\n",
              "    </tr>\n",
              "  </thead>\n",
              "  <tbody>\n",
              "    <tr>\n",
              "      <th>0</th>\n",
              "      <td>1997</td>\n",
              "      <td>48647309.00</td>\n",
              "      <td>NaN</td>\n",
              "      <td>NaN</td>\n",
              "      <td>5.435467e+07</td>\n",
              "    </tr>\n",
              "    <tr>\n",
              "      <th>1</th>\n",
              "      <td>1998</td>\n",
              "      <td>56385551.00</td>\n",
              "      <td>7738242.00</td>\n",
              "      <td>NaN</td>\n",
              "      <td>5.911930e+07</td>\n",
              "    </tr>\n",
              "    <tr>\n",
              "      <th>2</th>\n",
              "      <td>1999</td>\n",
              "      <td>63717680.24</td>\n",
              "      <td>7332129.24</td>\n",
              "      <td>-406112.76</td>\n",
              "      <td>6.388393e+07</td>\n",
              "    </tr>\n",
              "    <tr>\n",
              "      <th>3</th>\n",
              "      <td>2000</td>\n",
              "      <td>71643694.29</td>\n",
              "      <td>7926014.05</td>\n",
              "      <td>593884.81</td>\n",
              "      <td>6.864856e+07</td>\n",
              "    </tr>\n",
              "    <tr>\n",
              "      <th>4</th>\n",
              "      <td>2001</td>\n",
              "      <td>75019961.65</td>\n",
              "      <td>3376267.36</td>\n",
              "      <td>-4549746.69</td>\n",
              "      <td>7.341319e+07</td>\n",
              "    </tr>\n",
              "  </tbody>\n",
              "</table>\n",
              "</div>\n",
              "      <button class=\"colab-df-convert\" onclick=\"convertToInteractive('df-d83cad09-fafa-4b54-8ec6-b9c64d456cb7')\"\n",
              "              title=\"Convert this dataframe to an interactive table.\"\n",
              "              style=\"display:none;\">\n",
              "        \n",
              "  <svg xmlns=\"http://www.w3.org/2000/svg\" height=\"24px\"viewBox=\"0 0 24 24\"\n",
              "       width=\"24px\">\n",
              "    <path d=\"M0 0h24v24H0V0z\" fill=\"none\"/>\n",
              "    <path d=\"M18.56 5.44l.94 2.06.94-2.06 2.06-.94-2.06-.94-.94-2.06-.94 2.06-2.06.94zm-11 1L8.5 8.5l.94-2.06 2.06-.94-2.06-.94L8.5 2.5l-.94 2.06-2.06.94zm10 10l.94 2.06.94-2.06 2.06-.94-2.06-.94-.94-2.06-.94 2.06-2.06.94z\"/><path d=\"M17.41 7.96l-1.37-1.37c-.4-.4-.92-.59-1.43-.59-.52 0-1.04.2-1.43.59L10.3 9.45l-7.72 7.72c-.78.78-.78 2.05 0 2.83L4 21.41c.39.39.9.59 1.41.59.51 0 1.02-.2 1.41-.59l7.78-7.78 2.81-2.81c.8-.78.8-2.07 0-2.86zM5.41 20L4 18.59l7.72-7.72 1.47 1.35L5.41 20z\"/>\n",
              "  </svg>\n",
              "      </button>\n",
              "      \n",
              "  <style>\n",
              "    .colab-df-container {\n",
              "      display:flex;\n",
              "      flex-wrap:wrap;\n",
              "      gap: 12px;\n",
              "    }\n",
              "\n",
              "    .colab-df-convert {\n",
              "      background-color: #E8F0FE;\n",
              "      border: none;\n",
              "      border-radius: 50%;\n",
              "      cursor: pointer;\n",
              "      display: none;\n",
              "      fill: #1967D2;\n",
              "      height: 32px;\n",
              "      padding: 0 0 0 0;\n",
              "      width: 32px;\n",
              "    }\n",
              "\n",
              "    .colab-df-convert:hover {\n",
              "      background-color: #E2EBFA;\n",
              "      box-shadow: 0px 1px 2px rgba(60, 64, 67, 0.3), 0px 1px 3px 1px rgba(60, 64, 67, 0.15);\n",
              "      fill: #174EA6;\n",
              "    }\n",
              "\n",
              "    [theme=dark] .colab-df-convert {\n",
              "      background-color: #3B4455;\n",
              "      fill: #D2E3FC;\n",
              "    }\n",
              "\n",
              "    [theme=dark] .colab-df-convert:hover {\n",
              "      background-color: #434B5C;\n",
              "      box-shadow: 0px 1px 3px 1px rgba(0, 0, 0, 0.15);\n",
              "      filter: drop-shadow(0px 1px 2px rgba(0, 0, 0, 0.3));\n",
              "      fill: #FFFFFF;\n",
              "    }\n",
              "  </style>\n",
              "\n",
              "      <script>\n",
              "        const buttonEl =\n",
              "          document.querySelector('#df-d83cad09-fafa-4b54-8ec6-b9c64d456cb7 button.colab-df-convert');\n",
              "        buttonEl.style.display =\n",
              "          google.colab.kernel.accessAllowed ? 'block' : 'none';\n",
              "\n",
              "        async function convertToInteractive(key) {\n",
              "          const element = document.querySelector('#df-d83cad09-fafa-4b54-8ec6-b9c64d456cb7');\n",
              "          const dataTable =\n",
              "            await google.colab.kernel.invokeFunction('convertToInteractive',\n",
              "                                                     [key], {});\n",
              "          if (!dataTable) return;\n",
              "\n",
              "          const docLinkHtml = 'Like what you see? Visit the ' +\n",
              "            '<a target=\"_blank\" href=https://colab.research.google.com/notebooks/data_table.ipynb>data table notebook</a>'\n",
              "            + ' to learn more about interactive tables.';\n",
              "          element.innerHTML = '';\n",
              "          dataTable['output_type'] = 'display_data';\n",
              "          await google.colab.output.renderOutput(dataTable, element);\n",
              "          const docLink = document.createElement('div');\n",
              "          docLink.innerHTML = docLinkHtml;\n",
              "          element.appendChild(docLink);\n",
              "        }\n",
              "      </script>\n",
              "    </div>\n",
              "  </div>\n",
              "  "
            ]
          },
          "metadata": {},
          "execution_count": 34
        }
      ]
    },
    {
      "cell_type": "markdown",
      "source": [
        "### Calculando os Resíduos $u$"
      ],
      "metadata": {
        "id": "FcbWVkjWygdm"
      }
    },
    {
      "cell_type": "code",
      "source": [
        "producao_anual['Resíduo'] = resultado_regressao.resid"
      ],
      "metadata": {
        "id": "gxfii5Nhzfb2"
      },
      "execution_count": null,
      "outputs": []
    },
    {
      "cell_type": "code",
      "source": [
        "producao_anual.head()"
      ],
      "metadata": {
        "colab": {
          "base_uri": "https://localhost:8080/",
          "height": 206
        },
        "id": "lBjlBtDQz40j",
        "outputId": "4ea404f6-d5a9-4aa8-8aca-0c35127a5819"
      },
      "execution_count": null,
      "outputs": [
        {
          "output_type": "execute_result",
          "data": {
            "text/plain": [
              "    Ano     Produção     Aumento  Aceleração    Y_previsto       Resíduo\n",
              "0  1997  48647309.00         NaN         NaN  5.435467e+07 -5.707361e+06\n",
              "1  1998  56385551.00  7738242.00         NaN  5.911930e+07 -2.733749e+06\n",
              "2  1999  63717680.24  7332129.24  -406112.76  6.388393e+07 -1.662509e+05\n",
              "3  2000  71643694.29  7926014.05   593884.81  6.864856e+07  2.995132e+06\n",
              "4  2001  75019961.65  3376267.36 -4549746.69  7.341319e+07  1.606769e+06"
            ],
            "text/html": [
              "\n",
              "  <div id=\"df-36a3e15d-f26f-43b7-a054-1109d39919c9\">\n",
              "    <div class=\"colab-df-container\">\n",
              "      <div>\n",
              "<style scoped>\n",
              "    .dataframe tbody tr th:only-of-type {\n",
              "        vertical-align: middle;\n",
              "    }\n",
              "\n",
              "    .dataframe tbody tr th {\n",
              "        vertical-align: top;\n",
              "    }\n",
              "\n",
              "    .dataframe thead th {\n",
              "        text-align: right;\n",
              "    }\n",
              "</style>\n",
              "<table border=\"1\" class=\"dataframe\">\n",
              "  <thead>\n",
              "    <tr style=\"text-align: right;\">\n",
              "      <th></th>\n",
              "      <th>Ano</th>\n",
              "      <th>Produção</th>\n",
              "      <th>Aumento</th>\n",
              "      <th>Aceleração</th>\n",
              "      <th>Y_previsto</th>\n",
              "      <th>Resíduo</th>\n",
              "    </tr>\n",
              "  </thead>\n",
              "  <tbody>\n",
              "    <tr>\n",
              "      <th>0</th>\n",
              "      <td>1997</td>\n",
              "      <td>48647309.00</td>\n",
              "      <td>NaN</td>\n",
              "      <td>NaN</td>\n",
              "      <td>5.435467e+07</td>\n",
              "      <td>-5.707361e+06</td>\n",
              "    </tr>\n",
              "    <tr>\n",
              "      <th>1</th>\n",
              "      <td>1998</td>\n",
              "      <td>56385551.00</td>\n",
              "      <td>7738242.00</td>\n",
              "      <td>NaN</td>\n",
              "      <td>5.911930e+07</td>\n",
              "      <td>-2.733749e+06</td>\n",
              "    </tr>\n",
              "    <tr>\n",
              "      <th>2</th>\n",
              "      <td>1999</td>\n",
              "      <td>63717680.24</td>\n",
              "      <td>7332129.24</td>\n",
              "      <td>-406112.76</td>\n",
              "      <td>6.388393e+07</td>\n",
              "      <td>-1.662509e+05</td>\n",
              "    </tr>\n",
              "    <tr>\n",
              "      <th>3</th>\n",
              "      <td>2000</td>\n",
              "      <td>71643694.29</td>\n",
              "      <td>7926014.05</td>\n",
              "      <td>593884.81</td>\n",
              "      <td>6.864856e+07</td>\n",
              "      <td>2.995132e+06</td>\n",
              "    </tr>\n",
              "    <tr>\n",
              "      <th>4</th>\n",
              "      <td>2001</td>\n",
              "      <td>75019961.65</td>\n",
              "      <td>3376267.36</td>\n",
              "      <td>-4549746.69</td>\n",
              "      <td>7.341319e+07</td>\n",
              "      <td>1.606769e+06</td>\n",
              "    </tr>\n",
              "  </tbody>\n",
              "</table>\n",
              "</div>\n",
              "      <button class=\"colab-df-convert\" onclick=\"convertToInteractive('df-36a3e15d-f26f-43b7-a054-1109d39919c9')\"\n",
              "              title=\"Convert this dataframe to an interactive table.\"\n",
              "              style=\"display:none;\">\n",
              "        \n",
              "  <svg xmlns=\"http://www.w3.org/2000/svg\" height=\"24px\"viewBox=\"0 0 24 24\"\n",
              "       width=\"24px\">\n",
              "    <path d=\"M0 0h24v24H0V0z\" fill=\"none\"/>\n",
              "    <path d=\"M18.56 5.44l.94 2.06.94-2.06 2.06-.94-2.06-.94-.94-2.06-.94 2.06-2.06.94zm-11 1L8.5 8.5l.94-2.06 2.06-.94-2.06-.94L8.5 2.5l-.94 2.06-2.06.94zm10 10l.94 2.06.94-2.06 2.06-.94-2.06-.94-.94-2.06-.94 2.06-2.06.94z\"/><path d=\"M17.41 7.96l-1.37-1.37c-.4-.4-.92-.59-1.43-.59-.52 0-1.04.2-1.43.59L10.3 9.45l-7.72 7.72c-.78.78-.78 2.05 0 2.83L4 21.41c.39.39.9.59 1.41.59.51 0 1.02-.2 1.41-.59l7.78-7.78 2.81-2.81c.8-.78.8-2.07 0-2.86zM5.41 20L4 18.59l7.72-7.72 1.47 1.35L5.41 20z\"/>\n",
              "  </svg>\n",
              "      </button>\n",
              "      \n",
              "  <style>\n",
              "    .colab-df-container {\n",
              "      display:flex;\n",
              "      flex-wrap:wrap;\n",
              "      gap: 12px;\n",
              "    }\n",
              "\n",
              "    .colab-df-convert {\n",
              "      background-color: #E8F0FE;\n",
              "      border: none;\n",
              "      border-radius: 50%;\n",
              "      cursor: pointer;\n",
              "      display: none;\n",
              "      fill: #1967D2;\n",
              "      height: 32px;\n",
              "      padding: 0 0 0 0;\n",
              "      width: 32px;\n",
              "    }\n",
              "\n",
              "    .colab-df-convert:hover {\n",
              "      background-color: #E2EBFA;\n",
              "      box-shadow: 0px 1px 2px rgba(60, 64, 67, 0.3), 0px 1px 3px 1px rgba(60, 64, 67, 0.15);\n",
              "      fill: #174EA6;\n",
              "    }\n",
              "\n",
              "    [theme=dark] .colab-df-convert {\n",
              "      background-color: #3B4455;\n",
              "      fill: #D2E3FC;\n",
              "    }\n",
              "\n",
              "    [theme=dark] .colab-df-convert:hover {\n",
              "      background-color: #434B5C;\n",
              "      box-shadow: 0px 1px 3px 1px rgba(0, 0, 0, 0.15);\n",
              "      filter: drop-shadow(0px 1px 2px rgba(0, 0, 0, 0.3));\n",
              "      fill: #FFFFFF;\n",
              "    }\n",
              "  </style>\n",
              "\n",
              "      <script>\n",
              "        const buttonEl =\n",
              "          document.querySelector('#df-36a3e15d-f26f-43b7-a054-1109d39919c9 button.colab-df-convert');\n",
              "        buttonEl.style.display =\n",
              "          google.colab.kernel.accessAllowed ? 'block' : 'none';\n",
              "\n",
              "        async function convertToInteractive(key) {\n",
              "          const element = document.querySelector('#df-36a3e15d-f26f-43b7-a054-1109d39919c9');\n",
              "          const dataTable =\n",
              "            await google.colab.kernel.invokeFunction('convertToInteractive',\n",
              "                                                     [key], {});\n",
              "          if (!dataTable) return;\n",
              "\n",
              "          const docLinkHtml = 'Like what you see? Visit the ' +\n",
              "            '<a target=\"_blank\" href=https://colab.research.google.com/notebooks/data_table.ipynb>data table notebook</a>'\n",
              "            + ' to learn more about interactive tables.';\n",
              "          element.innerHTML = '';\n",
              "          dataTable['output_type'] = 'display_data';\n",
              "          await google.colab.output.renderOutput(dataTable, element);\n",
              "          const docLink = document.createElement('div');\n",
              "          docLink.innerHTML = docLinkHtml;\n",
              "          element.appendChild(docLink);\n",
              "        }\n",
              "      </script>\n",
              "    </div>\n",
              "  </div>\n",
              "  "
            ]
          },
          "metadata": {},
          "execution_count": 36
        }
      ]
    },
    {
      "cell_type": "code",
      "source": [
        "ax = sns.scatterplot(x = producao_anual.Ano, y = producao_anual.Resíduo**2)\n",
        "ax.figure.set_size_inches(12, 6)\n",
        "ax.set_title('Resíduos² vs Variável Independente', fontsize = 18)\n",
        "ax.set_xlabel('Anos', fontsize = 14)\n",
        "ax.set_ylabel('Residuos', fontsize = 14)\n",
        "ax = ax"
      ],
      "metadata": {
        "colab": {
          "base_uri": "https://localhost:8080/",
          "height": 413
        },
        "id": "yNC5OM0Y0Ubq",
        "outputId": "bf852dce-f030-45ad-ea96-5578fbdf64e3"
      },
      "execution_count": null,
      "outputs": [
        {
          "output_type": "display_data",
          "data": {
            "text/plain": [
              "<Figure size 864x432 with 1 Axes>"
            ],
            "image/png": "[encoded data removed]"
          },
          "metadata": {
            "needs_background": "light"
          }
        }
      ]
    },
    {
      "cell_type": "markdown",
      "source": [
        "Com exceção do ponto em 2013, percebemos que há homogeneidade nos valores de variância, assumindo um erro quase constante."
      ],
      "metadata": {
        "id": "sP_LyQ9k0yMG"
      }
    },
    {
      "cell_type": "markdown",
      "source": [
        "### Qual seria a produção de Petróleo para o ano de 2022? E para 2030?"
      ],
      "metadata": {
        "id": "zu4Ys8N5HGv4"
      }
    },
    {
      "cell_type": "code",
      "source": [
        "resultado_regressao.params"
      ],
      "metadata": {
        "colab": {
          "base_uri": "https://localhost:8080/"
        },
        "id": "JIH6-1zlE6h9",
        "outputId": "ac27de18-1d51-4495-9adc-38b61e4c2e25"
      },
      "execution_count": null,
      "outputs": [
        {
          "output_type": "execute_result",
          "data": {
            "text/plain": [
              "const   -9.460613e+09\n",
              "Ano      4.764631e+06\n",
              "dtype: float64"
            ]
          },
          "metadata": {},
          "execution_count": 38
        }
      ]
    },
    {
      "cell_type": "code",
      "source": [
        "beta1 = resultado_regressao.params[0]\n",
        "beta2 = resultado_regressao.params[1]"
      ],
      "metadata": {
        "id": "4FMKQL8XHRUZ"
      },
      "execution_count": null,
      "outputs": []
    },
    {
      "cell_type": "code",
      "source": [
        "def producao(ano):\n",
        "  producao_prevista = beta1 + (beta2 * ano)\n",
        "  return producao_prevista"
      ],
      "metadata": {
        "id": "3ITS1UUbHouu"
      },
      "execution_count": null,
      "outputs": []
    },
    {
      "cell_type": "code",
      "source": [
        "print(f'A produção de Petróleo prevista para 2022 é de {round(producao(2022))} m³')"
      ],
      "metadata": {
        "colab": {
          "base_uri": "https://localhost:8080/"
        },
        "id": "fHL7EE_BH8re",
        "outputId": "088ec04a-bacb-4c76-8539-a5de41eb9f76"
      },
      "execution_count": null,
      "outputs": [
        {
          "output_type": "stream",
          "name": "stdout",
          "text": [
            "A produção de Petróleo prevista para 2022 é de 173470439 m³\n"
          ]
        }
      ]
    },
    {
      "cell_type": "code",
      "source": [
        "print(f'A produção de Petróleo prevista para 2030 é de {round(producao(2030))} m³')"
      ],
      "metadata": {
        "colab": {
          "base_uri": "https://localhost:8080/"
        },
        "id": "GIxH4mI_IH6V",
        "outputId": "a0e6916c-85bb-4a80-93f2-ed390bf821a4"
      },
      "execution_count": null,
      "outputs": [
        {
          "output_type": "stream",
          "name": "stdout",
          "text": [
            "A produção de Petróleo prevista para 2030 é de 211587485 m³\n"
          ]
        }
      ]
    },
    {
      "cell_type": "markdown",
      "source": [
        "## <font color=black>2.2 Produção Regional</font>\n",
        "***"
      ],
      "metadata": {
        "id": "7T-AXzHttCWj"
      }
    },
    {
      "cell_type": "markdown",
      "source": [
        "Vamos explorar a produção nacional utilizando o critério regional nesse tópico."
      ],
      "metadata": {
        "id": "7bdpnAUftvC2"
      }
    },
    {
      "cell_type": "code",
      "source": [
        "dados['Grande região'].unique()"
      ],
      "metadata": {
        "colab": {
          "base_uri": "https://localhost:8080/"
        },
        "id": "j8joX1EfItq3",
        "outputId": "fae8f0ec-1a01-4dcc-fabc-55dab65f3e5d"
      },
      "execution_count": null,
      "outputs": [
        {
          "output_type": "execute_result",
          "data": {
            "text/plain": [
              "array(['Região sudeste', 'Região norte', 'Região sul', 'Região nordeste'],\n",
              "      dtype=object)"
            ]
          },
          "metadata": {},
          "execution_count": 43
        }
      ]
    },
    {
      "cell_type": "code",
      "source": [
        "producao_regional = pd.DataFrame(dados['Produção'].groupby(dados['Grande região']).sum().sort_values(ascending=False))\n",
        "producao_regional.reset_index(inplace=True)"
      ],
      "metadata": {
        "id": "FZr92Vxht7D7"
      },
      "execution_count": null,
      "outputs": []
    },
    {
      "cell_type": "code",
      "source": [
        "producao_regional"
      ],
      "metadata": {
        "colab": {
          "base_uri": "https://localhost:8080/",
          "height": 174
        },
        "id": "CgXp2KVG3r4b",
        "outputId": "de6ae686-2919-4450-f68c-824001522951"
      },
      "execution_count": null,
      "outputs": [
        {
          "output_type": "execute_result",
          "data": {
            "text/plain": [
              "     Grande região      Produção\n",
              "0   Região sudeste  2.516370e+09\n",
              "1  Região nordeste  2.229195e+08\n",
              "2     Região norte  4.537236e+07\n",
              "3       Região sul  3.594130e+06"
            ],
            "text/html": [
              "\n",
              "  <div id=\"df-593d04bc-b26c-4a01-b30d-baa824507dcd\">\n",
              "    <div class=\"colab-df-container\">\n",
              "      <div>\n",
              "<style scoped>\n",
              "    .dataframe tbody tr th:only-of-type {\n",
              "        vertical-align: middle;\n",
              "    }\n",
              "\n",
              "    .dataframe tbody tr th {\n",
              "        vertical-align: top;\n",
              "    }\n",
              "\n",
              "    .dataframe thead th {\n",
              "        text-align: right;\n",
              "    }\n",
              "</style>\n",
              "<table border=\"1\" class=\"dataframe\">\n",
              "  <thead>\n",
              "    <tr style=\"text-align: right;\">\n",
              "      <th></th>\n",
              "      <th>Grande região</th>\n",
              "      <th>Produção</th>\n",
              "    </tr>\n",
              "  </thead>\n",
              "  <tbody>\n",
              "    <tr>\n",
              "      <th>0</th>\n",
              "      <td>Região sudeste</td>\n",
              "      <td>2.516370e+09</td>\n",
              "    </tr>\n",
              "    <tr>\n",
              "      <th>1</th>\n",
              "      <td>Região nordeste</td>\n",
              "      <td>2.229195e+08</td>\n",
              "    </tr>\n",
              "    <tr>\n",
              "      <th>2</th>\n",
              "      <td>Região norte</td>\n",
              "      <td>4.537236e+07</td>\n",
              "    </tr>\n",
              "    <tr>\n",
              "      <th>3</th>\n",
              "      <td>Região sul</td>\n",
              "      <td>3.594130e+06</td>\n",
              "    </tr>\n",
              "  </tbody>\n",
              "</table>\n",
              "</div>\n",
              "      <button class=\"colab-df-convert\" onclick=\"convertToInteractive('df-593d04bc-b26c-4a01-b30d-baa824507dcd')\"\n",
              "              title=\"Convert this dataframe to an interactive table.\"\n",
              "              style=\"display:none;\">\n",
              "        \n",
              "  <svg xmlns=\"http://www.w3.org/2000/svg\" height=\"24px\"viewBox=\"0 0 24 24\"\n",
              "       width=\"24px\">\n",
              "    <path d=\"M0 0h24v24H0V0z\" fill=\"none\"/>\n",
              "    <path d=\"M18.56 5.44l.94 2.06.94-2.06 2.06-.94-2.06-.94-.94-2.06-.94 2.06-2.06.94zm-11 1L8.5 8.5l.94-2.06 2.06-.94-2.06-.94L8.5 2.5l-.94 2.06-2.06.94zm10 10l.94 2.06.94-2.06 2.06-.94-2.06-.94-.94-2.06-.94 2.06-2.06.94z\"/><path d=\"M17.41 7.96l-1.37-1.37c-.4-.4-.92-.59-1.43-.59-.52 0-1.04.2-1.43.59L10.3 9.45l-7.72 7.72c-.78.78-.78 2.05 0 2.83L4 21.41c.39.39.9.59 1.41.59.51 0 1.02-.2 1.41-.59l7.78-7.78 2.81-2.81c.8-.78.8-2.07 0-2.86zM5.41 20L4 18.59l7.72-7.72 1.47 1.35L5.41 20z\"/>\n",
              "  </svg>\n",
              "      </button>\n",
              "      \n",
              "  <style>\n",
              "    .colab-df-container {\n",
              "      display:flex;\n",
              "      flex-wrap:wrap;\n",
              "      gap: 12px;\n",
              "    }\n",
              "\n",
              "    .colab-df-convert {\n",
              "      background-color: #E8F0FE;\n",
              "      border: none;\n",
              "      border-radius: 50%;\n",
              "      cursor: pointer;\n",
              "      display: none;\n",
              "      fill: #1967D2;\n",
              "      height: 32px;\n",
              "      padding: 0 0 0 0;\n",
              "      width: 32px;\n",
              "    }\n",
              "\n",
              "    .colab-df-convert:hover {\n",
              "      background-color: #E2EBFA;\n",
              "      box-shadow: 0px 1px 2px rgba(60, 64, 67, 0.3), 0px 1px 3px 1px rgba(60, 64, 67, 0.15);\n",
              "      fill: #174EA6;\n",
              "    }\n",
              "\n",
              "    [theme=dark] .colab-df-convert {\n",
              "      background-color: #3B4455;\n",
              "      fill: #D2E3FC;\n",
              "    }\n",
              "\n",
              "    [theme=dark] .colab-df-convert:hover {\n",
              "      background-color: #434B5C;\n",
              "      box-shadow: 0px 1px 3px 1px rgba(0, 0, 0, 0.15);\n",
              "      filter: drop-shadow(0px 1px 2px rgba(0, 0, 0, 0.3));\n",
              "      fill: #FFFFFF;\n",
              "    }\n",
              "  </style>\n",
              "\n",
              "      <script>\n",
              "        const buttonEl =\n",
              "          document.querySelector('#df-593d04bc-b26c-4a01-b30d-baa824507dcd button.colab-df-convert');\n",
              "        buttonEl.style.display =\n",
              "          google.colab.kernel.accessAllowed ? 'block' : 'none';\n",
              "\n",
              "        async function convertToInteractive(key) {\n",
              "          const element = document.querySelector('#df-593d04bc-b26c-4a01-b30d-baa824507dcd');\n",
              "          const dataTable =\n",
              "            await google.colab.kernel.invokeFunction('convertToInteractive',\n",
              "                                                     [key], {});\n",
              "          if (!dataTable) return;\n",
              "\n",
              "          const docLinkHtml = 'Like what you see? Visit the ' +\n",
              "            '<a target=\"_blank\" href=https://colab.research.google.com/notebooks/data_table.ipynb>data table notebook</a>'\n",
              "            + ' to learn more about interactive tables.';\n",
              "          element.innerHTML = '';\n",
              "          dataTable['output_type'] = 'display_data';\n",
              "          await google.colab.output.renderOutput(dataTable, element);\n",
              "          const docLink = document.createElement('div');\n",
              "          docLink.innerHTML = docLinkHtml;\n",
              "          element.appendChild(docLink);\n",
              "        }\n",
              "      </script>\n",
              "    </div>\n",
              "  </div>\n",
              "  "
            ]
          },
          "metadata": {},
          "execution_count": 45
        }
      ]
    },
    {
      "cell_type": "code",
      "source": [
        "producao_regional['Percentual'] = [(100 * i / producao_regional['Produção'].sum()) for i in producao_regional['Produção']]\n",
        "producao_regional['Percentual'] = round(producao_regional['Percentual'], 2)"
      ],
      "metadata": {
        "id": "h0eZI1dy4BHj"
      },
      "execution_count": null,
      "outputs": []
    },
    {
      "cell_type": "code",
      "source": [
        "producao_regional"
      ],
      "metadata": {
        "colab": {
          "base_uri": "https://localhost:8080/",
          "height": 174
        },
        "id": "2SiPH19O5UF_",
        "outputId": "f569f35f-4358-43f8-cd7a-137cf36a3896"
      },
      "execution_count": null,
      "outputs": [
        {
          "output_type": "execute_result",
          "data": {
            "text/plain": [
              "     Grande região      Produção  Percentual\n",
              "0   Região sudeste  2.516370e+09       90.25\n",
              "1  Região nordeste  2.229195e+08        7.99\n",
              "2     Região norte  4.537236e+07        1.63\n",
              "3       Região sul  3.594130e+06        0.13"
            ],
            "text/html": [
              "\n",
              "  <div id=\"df-4e0bccc7-f8b3-42fa-ab7a-743c06ed5033\">\n",
              "    <div class=\"colab-df-container\">\n",
              "      <div>\n",
              "<style scoped>\n",
              "    .dataframe tbody tr th:only-of-type {\n",
              "        vertical-align: middle;\n",
              "    }\n",
              "\n",
              "    .dataframe tbody tr th {\n",
              "        vertical-align: top;\n",
              "    }\n",
              "\n",
              "    .dataframe thead th {\n",
              "        text-align: right;\n",
              "    }\n",
              "</style>\n",
              "<table border=\"1\" class=\"dataframe\">\n",
              "  <thead>\n",
              "    <tr style=\"text-align: right;\">\n",
              "      <th></th>\n",
              "      <th>Grande região</th>\n",
              "      <th>Produção</th>\n",
              "      <th>Percentual</th>\n",
              "    </tr>\n",
              "  </thead>\n",
              "  <tbody>\n",
              "    <tr>\n",
              "      <th>0</th>\n",
              "      <td>Região sudeste</td>\n",
              "      <td>2.516370e+09</td>\n",
              "      <td>90.25</td>\n",
              "    </tr>\n",
              "    <tr>\n",
              "      <th>1</th>\n",
              "      <td>Região nordeste</td>\n",
              "      <td>2.229195e+08</td>\n",
              "      <td>7.99</td>\n",
              "    </tr>\n",
              "    <tr>\n",
              "      <th>2</th>\n",
              "      <td>Região norte</td>\n",
              "      <td>4.537236e+07</td>\n",
              "      <td>1.63</td>\n",
              "    </tr>\n",
              "    <tr>\n",
              "      <th>3</th>\n",
              "      <td>Região sul</td>\n",
              "      <td>3.594130e+06</td>\n",
              "      <td>0.13</td>\n",
              "    </tr>\n",
              "  </tbody>\n",
              "</table>\n",
              "</div>\n",
              "      <button class=\"colab-df-convert\" onclick=\"convertToInteractive('df-4e0bccc7-f8b3-42fa-ab7a-743c06ed5033')\"\n",
              "              title=\"Convert this dataframe to an interactive table.\"\n",
              "              style=\"display:none;\">\n",
              "        \n",
              "  <svg xmlns=\"http://www.w3.org/2000/svg\" height=\"24px\"viewBox=\"0 0 24 24\"\n",
              "       width=\"24px\">\n",
              "    <path d=\"M0 0h24v24H0V0z\" fill=\"none\"/>\n",
              "    <path d=\"M18.56 5.44l.94 2.06.94-2.06 2.06-.94-2.06-.94-.94-2.06-.94 2.06-2.06.94zm-11 1L8.5 8.5l.94-2.06 2.06-.94-2.06-.94L8.5 2.5l-.94 2.06-2.06.94zm10 10l.94 2.06.94-2.06 2.06-.94-2.06-.94-.94-2.06-.94 2.06-2.06.94z\"/><path d=\"M17.41 7.96l-1.37-1.37c-.4-.4-.92-.59-1.43-.59-.52 0-1.04.2-1.43.59L10.3 9.45l-7.72 7.72c-.78.78-.78 2.05 0 2.83L4 21.41c.39.39.9.59 1.41.59.51 0 1.02-.2 1.41-.59l7.78-7.78 2.81-2.81c.8-.78.8-2.07 0-2.86zM5.41 20L4 18.59l7.72-7.72 1.47 1.35L5.41 20z\"/>\n",
              "  </svg>\n",
              "      </button>\n",
              "      \n",
              "  <style>\n",
              "    .colab-df-container {\n",
              "      display:flex;\n",
              "      flex-wrap:wrap;\n",
              "      gap: 12px;\n",
              "    }\n",
              "\n",
              "    .colab-df-convert {\n",
              "      background-color: #E8F0FE;\n",
              "      border: none;\n",
              "      border-radius: 50%;\n",
              "      cursor: pointer;\n",
              "      display: none;\n",
              "      fill: #1967D2;\n",
              "      height: 32px;\n",
              "      padding: 0 0 0 0;\n",
              "      width: 32px;\n",
              "    }\n",
              "\n",
              "    .colab-df-convert:hover {\n",
              "      background-color: #E2EBFA;\n",
              "      box-shadow: 0px 1px 2px rgba(60, 64, 67, 0.3), 0px 1px 3px 1px rgba(60, 64, 67, 0.15);\n",
              "      fill: #174EA6;\n",
              "    }\n",
              "\n",
              "    [theme=dark] .colab-df-convert {\n",
              "      background-color: #3B4455;\n",
              "      fill: #D2E3FC;\n",
              "    }\n",
              "\n",
              "    [theme=dark] .colab-df-convert:hover {\n",
              "      background-color: #434B5C;\n",
              "      box-shadow: 0px 1px 3px 1px rgba(0, 0, 0, 0.15);\n",
              "      filter: drop-shadow(0px 1px 2px rgba(0, 0, 0, 0.3));\n",
              "      fill: #FFFFFF;\n",
              "    }\n",
              "  </style>\n",
              "\n",
              "      <script>\n",
              "        const buttonEl =\n",
              "          document.querySelector('#df-4e0bccc7-f8b3-42fa-ab7a-743c06ed5033 button.colab-df-convert');\n",
              "        buttonEl.style.display =\n",
              "          google.colab.kernel.accessAllowed ? 'block' : 'none';\n",
              "\n",
              "        async function convertToInteractive(key) {\n",
              "          const element = document.querySelector('#df-4e0bccc7-f8b3-42fa-ab7a-743c06ed5033');\n",
              "          const dataTable =\n",
              "            await google.colab.kernel.invokeFunction('convertToInteractive',\n",
              "                                                     [key], {});\n",
              "          if (!dataTable) return;\n",
              "\n",
              "          const docLinkHtml = 'Like what you see? Visit the ' +\n",
              "            '<a target=\"_blank\" href=https://colab.research.google.com/notebooks/data_table.ipynb>data table notebook</a>'\n",
              "            + ' to learn more about interactive tables.';\n",
              "          element.innerHTML = '';\n",
              "          dataTable['output_type'] = 'display_data';\n",
              "          await google.colab.output.renderOutput(dataTable, element);\n",
              "          const docLink = document.createElement('div');\n",
              "          docLink.innerHTML = docLinkHtml;\n",
              "          element.appendChild(docLink);\n",
              "        }\n",
              "      </script>\n",
              "    </div>\n",
              "  </div>\n",
              "  "
            ]
          },
          "metadata": {},
          "execution_count": 47
        }
      ]
    },
    {
      "cell_type": "code",
      "source": [
        "ax = sns.barplot(x = producao_regional['Grande região'], y = producao_regional['Produção'], data = producao_regional)\n",
        "plt.suptitle('Produção de Petróleo (1997 - 2021)', x = 0.265, y = 0.95, fontsize = 18)\n",
        "plt.title('Comparação entre a produção de petróleo por região.', x = 0.21, y = 1.0, fontsize = 14)\n",
        "ax.figure.set_size_inches(18, 7.5)\n",
        "ax.set_xlabel('Região', fontsize = 14)\n",
        "ax.set_ylabel('Volume de Petróleo em m³', fontsize = 14)\n",
        "ax = ax"
      ],
      "metadata": {
        "colab": {
          "base_uri": "https://localhost:8080/",
          "height": 511
        },
        "id": "dVpRhkSwNbOs",
        "outputId": "30ecba9b-18be-4617-a092-381af80215d9"
      },
      "execution_count": null,
      "outputs": [
        {
          "output_type": "display_data",
          "data": {
            "text/plain": [
              "<Figure size 1296x540 with 1 Axes>"
            ],
            "image/png": "[encoded data removed]"
          },
          "metadata": {
            "needs_background": "light"
          }
        }
      ]
    },
    {
      "cell_type": "markdown",
      "source": [
        "Os dados demonstram que 90% da produção total de petróleo dos últimos 24 anos é proveniente da região Sudeste. Esse fato deve-se à região possuir as maiores bacias petrolíferas do país, entre elas a Bacia de Campos, a Bacia de Santos e a Bacia do Espírito Santo."
      ],
      "metadata": {
        "id": "QNU8HrA6P1z2"
      }
    },
    {
      "cell_type": "markdown",
      "source": [
        "### <font color=black>Evolução da Produção Regional</font>\n",
        "***"
      ],
      "metadata": {
        "id": "qvHpuSQBGFyr"
      }
    },
    {
      "cell_type": "markdown",
      "source": [
        "Podemos acompanhar a evolução da produção regional ao longo do período de 1997 a 2021."
      ],
      "metadata": {
        "id": "EOWCgFqi7OUO"
      }
    },
    {
      "cell_type": "code",
      "source": [
        "def evolucao_regional(regiao, dataset):\n",
        "  selecao = dados['Grande região'].isin(regiao)\n",
        "  dados_regionais = dados[selecao]\n",
        "  return dados_regionais"
      ],
      "metadata": {
        "id": "xt7vsrxwPhfq"
      },
      "execution_count": null,
      "outputs": []
    },
    {
      "cell_type": "code",
      "source": [
        "dados_sudeste = evolucao_regional(['Região sudeste'], dados)\n",
        "dados_nordeste = evolucao_regional(['Região nordeste'], dados)\n",
        "dados_norte = evolucao_regional(['Região norte'], dados)\n",
        "dados_sul = evolucao_regional(['Região sul'], dados)"
      ],
      "metadata": {
        "id": "SA_w1cJ5JWVd"
      },
      "execution_count": null,
      "outputs": []
    },
    {
      "cell_type": "markdown",
      "source": [
        "#### <font color=black>Região Sudeste</font>\n",
        "***"
      ],
      "metadata": {
        "id": "eWVAkncWOpaF"
      }
    },
    {
      "cell_type": "code",
      "source": [
        "producao_anual_sudeste = pd.DataFrame(dados_sudeste.groupby('Ano')['Produção'].sum())"
      ],
      "metadata": {
        "id": "lbMDrGCsKY-O"
      },
      "execution_count": null,
      "outputs": []
    },
    {
      "cell_type": "code",
      "source": [
        "plotar('Produção de Petróleo na Região Sudeste', 'Anos (1997 - 2021)', 'Volume produzido em m³', 'Ano', 'Produção', producao_anual_sudeste)"
      ],
      "metadata": {
        "colab": {
          "base_uri": "https://localhost:8080/",
          "height": 413
        },
        "id": "rWlC9PLqN0L4",
        "outputId": "f7594e4e-4ab4-485c-f4a4-79d2598693be"
      },
      "execution_count": null,
      "outputs": [
        {
          "output_type": "display_data",
          "data": {
            "text/plain": [
              "<Figure size 864x432 with 1 Axes>"
            ],
            "image/png": "[encoded data removed]"
          },
          "metadata": {
            "needs_background": "light"
          }
        }
      ]
    },
    {
      "cell_type": "markdown",
      "source": [
        "#### <font color=black>Região Nordeste</font>\n",
        "***"
      ],
      "metadata": {
        "id": "kLKmgPR-P9GW"
      }
    },
    {
      "cell_type": "code",
      "source": [
        "producao_anual_nordeste = pd.DataFrame(dados_nordeste.groupby('Ano')['Produção'].sum())"
      ],
      "metadata": {
        "id": "caCexipTQFLL"
      },
      "execution_count": null,
      "outputs": []
    },
    {
      "cell_type": "code",
      "source": [
        "plotar('Produção de Petróleo na Região Nordeste', 'Anos (1997 - 2021)', 'Volume produzido em m³', 'Ano', 'Produção', producao_anual_nordeste)"
      ],
      "metadata": {
        "colab": {
          "base_uri": "https://localhost:8080/",
          "height": 413
        },
        "id": "G-a5QntdQLZ9",
        "outputId": "603b3990-9787-47d9-f28e-a9d21efe86a1"
      },
      "execution_count": null,
      "outputs": [
        {
          "output_type": "display_data",
          "data": {
            "text/plain": [
              "<Figure size 864x432 with 1 Axes>"
            ],
            "image/png": "[encoded data removed]"
          },
          "metadata": {
            "needs_background": "light"
          }
        }
      ]
    },
    {
      "cell_type": "markdown",
      "source": [
        "#### <font color=black>Região Norte</font>\n",
        "***"
      ],
      "metadata": {
        "id": "Pg_GtrubP86K"
      }
    },
    {
      "cell_type": "code",
      "source": [
        "producao_anual_norte = pd.DataFrame(dados_norte.groupby('Ano')['Produção'].sum())"
      ],
      "metadata": {
        "id": "GfRADo4qQed8"
      },
      "execution_count": null,
      "outputs": []
    },
    {
      "cell_type": "code",
      "source": [
        "plotar('Produção de Petróleo na Região Norte', 'Anos (1997 - 2021)', 'Volume produzido em m³', 'Ano', 'Produção', producao_anual_norte)"
      ],
      "metadata": {
        "colab": {
          "base_uri": "https://localhost:8080/",
          "height": 413
        },
        "id": "lMmQ4Dg6QiPP",
        "outputId": "771b4687-c951-4f31-9250-f5c0c8dbd3b4"
      },
      "execution_count": null,
      "outputs": [
        {
          "output_type": "display_data",
          "data": {
            "text/plain": [
              "<Figure size 864x432 with 1 Axes>"
            ],
            "image/png": "[encoded data removed]"
          },
          "metadata": {
            "needs_background": "light"
          }
        }
      ]
    },
    {
      "cell_type": "markdown",
      "source": [
        "#### <font color=black>Região Sul</font>\n",
        "***"
      ],
      "metadata": {
        "id": "xmab7e_RP8wO"
      }
    },
    {
      "cell_type": "code",
      "source": [
        "producao_anual_sul = pd.DataFrame(dados_sul.groupby('Ano')['Produção'].sum())"
      ],
      "metadata": {
        "id": "ugSTgsUQPOT_"
      },
      "execution_count": null,
      "outputs": []
    },
    {
      "cell_type": "code",
      "source": [
        "plotar('Produção de Petróleo na Região Sul', 'Anos (1997 - 2021)', 'Volume produzido em m³', 'Ano', 'Produção', producao_anual_sul)"
      ],
      "metadata": {
        "colab": {
          "base_uri": "https://localhost:8080/",
          "height": 413
        },
        "id": "HCHDTPI_Rdep",
        "outputId": "f9475dc4-71d2-432d-f7f1-ec5180253606"
      },
      "execution_count": null,
      "outputs": [
        {
          "output_type": "display_data",
          "data": {
            "text/plain": [
              "<Figure size 864x432 with 1 Axes>"
            ],
            "image/png": "[encoded data removed]"
          },
          "metadata": {
            "needs_background": "light"
          }
        }
      ]
    },
    {
      "cell_type": "code",
      "source": [
        "producao_anual_sul"
      ],
      "metadata": {
        "colab": {
          "base_uri": "https://localhost:8080/",
          "height": 865
        },
        "id": "e-aayTDcEnJk",
        "outputId": "931c7780-4a41-465c-8b52-5aeba9d5f35f"
      },
      "execution_count": null,
      "outputs": [
        {
          "output_type": "execute_result",
          "data": {
            "text/plain": [
              "      Produção\n",
              "Ano           \n",
              "1997  562325.0\n",
              "1998  474269.0\n",
              "1999  301054.0\n",
              "2000  254860.0\n",
              "2001  154833.0\n",
              "2002   55530.0\n",
              "2003  282496.0\n",
              "2004  443987.0\n",
              "2005  416338.0\n",
              "2006  265566.0\n",
              "2007  219329.0\n",
              "2008  163543.0\n",
              "2009       0.0\n",
              "2010       0.0\n",
              "2011       0.0\n",
              "2012       0.0\n",
              "2013       0.0\n",
              "2014       0.0\n",
              "2015       0.0\n",
              "2016       0.0\n",
              "2017       0.0\n",
              "2018       0.0\n",
              "2019       0.0\n",
              "2020       0.0\n",
              "2021       0.0"
            ],
            "text/html": [
              "\n",
              "  <div id=\"df-eb104ea0-a1d9-4153-81b7-733827998bca\">\n",
              "    <div class=\"colab-df-container\">\n",
              "      <div>\n",
              "<style scoped>\n",
              "    .dataframe tbody tr th:only-of-type {\n",
              "        vertical-align: middle;\n",
              "    }\n",
              "\n",
              "    .dataframe tbody tr th {\n",
              "        vertical-align: top;\n",
              "    }\n",
              "\n",
              "    .dataframe thead th {\n",
              "        text-align: right;\n",
              "    }\n",
              "</style>\n",
              "<table border=\"1\" class=\"dataframe\">\n",
              "  <thead>\n",
              "    <tr style=\"text-align: right;\">\n",
              "      <th></th>\n",
              "      <th>Produção</th>\n",
              "    </tr>\n",
              "    <tr>\n",
              "      <th>Ano</th>\n",
              "      <th></th>\n",
              "    </tr>\n",
              "  </thead>\n",
              "  <tbody>\n",
              "    <tr>\n",
              "      <th>1997</th>\n",
              "      <td>562325.0</td>\n",
              "    </tr>\n",
              "    <tr>\n",
              "      <th>1998</th>\n",
              "      <td>474269.0</td>\n",
              "    </tr>\n",
              "    <tr>\n",
              "      <th>1999</th>\n",
              "      <td>301054.0</td>\n",
              "    </tr>\n",
              "    <tr>\n",
              "      <th>2000</th>\n",
              "      <td>254860.0</td>\n",
              "    </tr>\n",
              "    <tr>\n",
              "      <th>2001</th>\n",
              "      <td>154833.0</td>\n",
              "    </tr>\n",
              "    <tr>\n",
              "      <th>2002</th>\n",
              "      <td>55530.0</td>\n",
              "    </tr>\n",
              "    <tr>\n",
              "      <th>2003</th>\n",
              "      <td>282496.0</td>\n",
              "    </tr>\n",
              "    <tr>\n",
              "      <th>2004</th>\n",
              "      <td>443987.0</td>\n",
              "    </tr>\n",
              "    <tr>\n",
              "      <th>2005</th>\n",
              "      <td>416338.0</td>\n",
              "    </tr>\n",
              "    <tr>\n",
              "      <th>2006</th>\n",
              "      <td>265566.0</td>\n",
              "    </tr>\n",
              "    <tr>\n",
              "      <th>2007</th>\n",
              "      <td>219329.0</td>\n",
              "    </tr>\n",
              "    <tr>\n",
              "      <th>2008</th>\n",
              "      <td>163543.0</td>\n",
              "    </tr>\n",
              "    <tr>\n",
              "      <th>2009</th>\n",
              "      <td>0.0</td>\n",
              "    </tr>\n",
              "    <tr>\n",
              "      <th>2010</th>\n",
              "      <td>0.0</td>\n",
              "    </tr>\n",
              "    <tr>\n",
              "      <th>2011</th>\n",
              "      <td>0.0</td>\n",
              "    </tr>\n",
              "    <tr>\n",
              "      <th>2012</th>\n",
              "      <td>0.0</td>\n",
              "    </tr>\n",
              "    <tr>\n",
              "      <th>2013</th>\n",
              "      <td>0.0</td>\n",
              "    </tr>\n",
              "    <tr>\n",
              "      <th>2014</th>\n",
              "      <td>0.0</td>\n",
              "    </tr>\n",
              "    <tr>\n",
              "      <th>2015</th>\n",
              "      <td>0.0</td>\n",
              "    </tr>\n",
              "    <tr>\n",
              "      <th>2016</th>\n",
              "      <td>0.0</td>\n",
              "    </tr>\n",
              "    <tr>\n",
              "      <th>2017</th>\n",
              "      <td>0.0</td>\n",
              "    </tr>\n",
              "    <tr>\n",
              "      <th>2018</th>\n",
              "      <td>0.0</td>\n",
              "    </tr>\n",
              "    <tr>\n",
              "      <th>2019</th>\n",
              "      <td>0.0</td>\n",
              "    </tr>\n",
              "    <tr>\n",
              "      <th>2020</th>\n",
              "      <td>0.0</td>\n",
              "    </tr>\n",
              "    <tr>\n",
              "      <th>2021</th>\n",
              "      <td>0.0</td>\n",
              "    </tr>\n",
              "  </tbody>\n",
              "</table>\n",
              "</div>\n",
              "      <button class=\"colab-df-convert\" onclick=\"convertToInteractive('df-eb104ea0-a1d9-4153-81b7-733827998bca')\"\n",
              "              title=\"Convert this dataframe to an interactive table.\"\n",
              "              style=\"display:none;\">\n",
              "        \n",
              "  <svg xmlns=\"http://www.w3.org/2000/svg\" height=\"24px\"viewBox=\"0 0 24 24\"\n",
              "       width=\"24px\">\n",
              "    <path d=\"M0 0h24v24H0V0z\" fill=\"none\"/>\n",
              "    <path d=\"M18.56 5.44l.94 2.06.94-2.06 2.06-.94-2.06-.94-.94-2.06-.94 2.06-2.06.94zm-11 1L8.5 8.5l.94-2.06 2.06-.94-2.06-.94L8.5 2.5l-.94 2.06-2.06.94zm10 10l.94 2.06.94-2.06 2.06-.94-2.06-.94-.94-2.06-.94 2.06-2.06.94z\"/><path d=\"M17.41 7.96l-1.37-1.37c-.4-.4-.92-.59-1.43-.59-.52 0-1.04.2-1.43.59L10.3 9.45l-7.72 7.72c-.78.78-.78 2.05 0 2.83L4 21.41c.39.39.9.59 1.41.59.51 0 1.02-.2 1.41-.59l7.78-7.78 2.81-2.81c.8-.78.8-2.07 0-2.86zM5.41 20L4 18.59l7.72-7.72 1.47 1.35L5.41 20z\"/>\n",
              "  </svg>\n",
              "      </button>\n",
              "      \n",
              "  <style>\n",
              "    .colab-df-container {\n",
              "      display:flex;\n",
              "      flex-wrap:wrap;\n",
              "      gap: 12px;\n",
              "    }\n",
              "\n",
              "    .colab-df-convert {\n",
              "      background-color: #E8F0FE;\n",
              "      border: none;\n",
              "      border-radius: 50%;\n",
              "      cursor: pointer;\n",
              "      display: none;\n",
              "      fill: #1967D2;\n",
              "      height: 32px;\n",
              "      padding: 0 0 0 0;\n",
              "      width: 32px;\n",
              "    }\n",
              "\n",
              "    .colab-df-convert:hover {\n",
              "      background-color: #E2EBFA;\n",
              "      box-shadow: 0px 1px 2px rgba(60, 64, 67, 0.3), 0px 1px 3px 1px rgba(60, 64, 67, 0.15);\n",
              "      fill: #174EA6;\n",
              "    }\n",
              "\n",
              "    [theme=dark] .colab-df-convert {\n",
              "      background-color: #3B4455;\n",
              "      fill: #D2E3FC;\n",
              "    }\n",
              "\n",
              "    [theme=dark] .colab-df-convert:hover {\n",
              "      background-color: #434B5C;\n",
              "      box-shadow: 0px 1px 3px 1px rgba(0, 0, 0, 0.15);\n",
              "      filter: drop-shadow(0px 1px 2px rgba(0, 0, 0, 0.3));\n",
              "      fill: #FFFFFF;\n",
              "    }\n",
              "  </style>\n",
              "\n",
              "      <script>\n",
              "        const buttonEl =\n",
              "          document.querySelector('#df-eb104ea0-a1d9-4153-81b7-733827998bca button.colab-df-convert');\n",
              "        buttonEl.style.display =\n",
              "          google.colab.kernel.accessAllowed ? 'block' : 'none';\n",
              "\n",
              "        async function convertToInteractive(key) {\n",
              "          const element = document.querySelector('#df-eb104ea0-a1d9-4153-81b7-733827998bca');\n",
              "          const dataTable =\n",
              "            await google.colab.kernel.invokeFunction('convertToInteractive',\n",
              "                                                     [key], {});\n",
              "          if (!dataTable) return;\n",
              "\n",
              "          const docLinkHtml = 'Like what you see? Visit the ' +\n",
              "            '<a target=\"_blank\" href=https://colab.research.google.com/notebooks/data_table.ipynb>data table notebook</a>'\n",
              "            + ' to learn more about interactive tables.';\n",
              "          element.innerHTML = '';\n",
              "          dataTable['output_type'] = 'display_data';\n",
              "          await google.colab.output.renderOutput(dataTable, element);\n",
              "          const docLink = document.createElement('div');\n",
              "          docLink.innerHTML = docLinkHtml;\n",
              "          element.appendChild(docLink);\n",
              "        }\n",
              "      </script>\n",
              "    </div>\n",
              "  </div>\n",
              "  "
            ]
          },
          "metadata": {},
          "execution_count": 59
        }
      ]
    },
    {
      "cell_type": "code",
      "source": [
        ""
      ],
      "metadata": {
        "id": "3n6AWurPEoHf"
      },
      "execution_count": null,
      "outputs": []
    }
  ]
}