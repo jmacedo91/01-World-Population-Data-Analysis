{
 "cells": [
  {
   "cell_type": "markdown",
   "id": "f42ae23a",
   "metadata": {
    "colab_type": "text",
    "id": "view-in-github"
   },
   "source": [
    "<a href=\"https://colab.research.google.com/github/jmacedo91/Exploratory-Data-Analysis/blob/main/001%20-%20CO%E2%82%82%20Emissions.ipynb\" target=\"_parent\"><img src=\"https://colab.research.google.com/assets/colab-badge.svg\" alt=\"Open In Colab\"/></a>"
   ]
  },
  {
   "cell_type": "markdown",
   "id": "a3c5d81f",
   "metadata": {
    "id": "a3c5d81f"
   },
   "source": [
    "# CO₂ Emission in the World 🏭"
   ]
  },
  {
   "cell_type": "markdown",
   "id": "26912ef3",
   "metadata": {
    "id": "26912ef3"
   },
   "source": [
    "## About Dataset\n",
    "\n",
    "The impact of greenhouse gas emissions, particularly carbon dioxide (CO₂), on the earth's climate has become an increasingly important issue in recent years. CO₂ emissions are produced by a variety of human activities, including the burning of fossil fuels, deforestation, and industrial processes. Understanding how much CO₂ each country is emitting is crucial in developing effective climate policies and mitigating the effects of climate change.\n",
    "\n",
    "The CO₂ emissions dataset provides a comprehensive overview of the amount of CO₂ emitted by each country. The dataset includes information on CO₂ emissions by country from 1960 to the present day. It covers all countries in the world and is compiled from various sources, including the United Nations Framework Convention on Climate Change (UNFCCC) and the International Energy Agency (IEA).\n",
    "\n",
    "The dataset can be used by researchers, policymakers, and the general public to gain insight into the relative contributions of different countries to global CO₂ emissions. It can also be used to monitor changes in emissions over time and to assess the effectiveness of climate policies.\n",
    "\n",
    "Overall, the CO₂ emissions dataset is an important resource for understanding the global climate challenge and for developing strategies to mitigate the impact of CO₂ emissions on our planet."
   ]
  },
  {
   "cell_type": "markdown",
   "id": "4dfac9eb",
   "metadata": {
    "id": "4dfac9eb"
   },
   "source": [
    "The dataset is available at https://www.kaggle.com/datasets/ulrikthygepedersen/co2-emissions-by-country"
   ]
  },
  {
   "cell_type": "markdown",
   "id": "4d185ade",
   "metadata": {
    "id": "4d185ade"
   },
   "source": [
    "# 1. Importando as Bibliotecas"
   ]
  },
  {
   "cell_type": "code",
   "execution_count": 1,
   "id": "160f2500",
   "metadata": {
    "id": "160f2500"
   },
   "outputs": [],
   "source": [
    "# Data Analysis\n",
    "import pandas as pd\n",
    "import numpy as np\n",
    "import statsmodels.api as sm\n",
    "\n",
    "# Data Visualization\n",
    "import seaborn as sns\n",
    "sns.set_theme(style='whitegrid')\n",
    "import matplotlib.pyplot as plt\n",
    "%matplotlib inline\n",
    "plt.rc('figure', figsize = (18, 7.5))\n",
    "\n",
    "import warnings\n",
    "warnings.filterwarnings(\"ignore\")"
   ]
  },
  {
   "cell_type": "markdown",
   "id": "c8fe92a5",
   "metadata": {
    "id": "c8fe92a5"
   },
   "source": [
    "## 1.1 Conhecendo os dados"
   ]
  },
  {
   "cell_type": "code",
   "execution_count": 2,
   "id": "ca25c173",
   "metadata": {
    "id": "ca25c173"
   },
   "outputs": [],
   "source": [
    "df = pd.read_csv('Datasets/co2_emissions_kt_by_country.csv')"
   ]
  },
  {
   "cell_type": "code",
   "execution_count": 3,
   "id": "1bfd875d",
   "metadata": {
    "colab": {
     "base_uri": "https://localhost:8080/"
    },
    "id": "1bfd875d",
    "outputId": "39ef74e0-2777-41bf-e134-8445f4bb7b81"
   },
   "outputs": [
    {
     "name": "stdout",
     "output_type": "stream",
     "text": [
      "<class 'pandas.core.frame.DataFrame'>\n",
      "RangeIndex: 13953 entries, 0 to 13952\n",
      "Data columns (total 4 columns):\n",
      " #   Column        Non-Null Count  Dtype  \n",
      "---  ------        --------------  -----  \n",
      " 0   country_code  13953 non-null  object \n",
      " 1   country_name  13953 non-null  object \n",
      " 2   year          13953 non-null  int64  \n",
      " 3   value         13953 non-null  float64\n",
      "dtypes: float64(1), int64(1), object(2)\n",
      "memory usage: 436.2+ KB\n"
     ]
    }
   ],
   "source": [
    "df.info()"
   ]
  },
  {
   "cell_type": "code",
   "execution_count": 4,
   "id": "d49e0a6b",
   "metadata": {
    "colab": {
     "base_uri": "https://localhost:8080/",
     "height": 206
    },
    "id": "d49e0a6b",
    "outputId": "3cb25e26-f616-4b09-e0ce-d016d9db69ed",
    "scrolled": true
   },
   "outputs": [
    {
     "data": {
      "text/html": [
       "<div>\n",
       "<style scoped>\n",
       "    .dataframe tbody tr th:only-of-type {\n",
       "        vertical-align: middle;\n",
       "    }\n",
       "\n",
       "    .dataframe tbody tr th {\n",
       "        vertical-align: top;\n",
       "    }\n",
       "\n",
       "    .dataframe thead th {\n",
       "        text-align: right;\n",
       "    }\n",
       "</style>\n",
       "<table border=\"1\" class=\"dataframe\">\n",
       "  <thead>\n",
       "    <tr style=\"text-align: right;\">\n",
       "      <th></th>\n",
       "      <th>country_code</th>\n",
       "      <th>country_name</th>\n",
       "      <th>year</th>\n",
       "      <th>value</th>\n",
       "    </tr>\n",
       "  </thead>\n",
       "  <tbody>\n",
       "    <tr>\n",
       "      <th>0</th>\n",
       "      <td>ABW</td>\n",
       "      <td>Aruba</td>\n",
       "      <td>1960</td>\n",
       "      <td>11092.675</td>\n",
       "    </tr>\n",
       "    <tr>\n",
       "      <th>1</th>\n",
       "      <td>ABW</td>\n",
       "      <td>Aruba</td>\n",
       "      <td>1961</td>\n",
       "      <td>11576.719</td>\n",
       "    </tr>\n",
       "    <tr>\n",
       "      <th>2</th>\n",
       "      <td>ABW</td>\n",
       "      <td>Aruba</td>\n",
       "      <td>1962</td>\n",
       "      <td>12713.489</td>\n",
       "    </tr>\n",
       "    <tr>\n",
       "      <th>3</th>\n",
       "      <td>ABW</td>\n",
       "      <td>Aruba</td>\n",
       "      <td>1963</td>\n",
       "      <td>12178.107</td>\n",
       "    </tr>\n",
       "    <tr>\n",
       "      <th>4</th>\n",
       "      <td>ABW</td>\n",
       "      <td>Aruba</td>\n",
       "      <td>1964</td>\n",
       "      <td>11840.743</td>\n",
       "    </tr>\n",
       "  </tbody>\n",
       "</table>\n",
       "</div>"
      ],
      "text/plain": [
       "  country_code country_name  year      value\n",
       "0          ABW        Aruba  1960  11092.675\n",
       "1          ABW        Aruba  1961  11576.719\n",
       "2          ABW        Aruba  1962  12713.489\n",
       "3          ABW        Aruba  1963  12178.107\n",
       "4          ABW        Aruba  1964  11840.743"
      ]
     },
     "execution_count": 4,
     "metadata": {},
     "output_type": "execute_result"
    }
   ],
   "source": [
    "df.head()"
   ]
  },
  {
   "cell_type": "code",
   "execution_count": 5,
   "id": "ded46596",
   "metadata": {
    "colab": {
     "base_uri": "https://localhost:8080/"
    },
    "id": "ded46596",
    "outputId": "8eb048b9-d403-45fd-b275-97a0ebdb4fde",
    "scrolled": false
   },
   "outputs": [
    {
     "name": "stdout",
     "output_type": "stream",
     "text": [
      "A série histórica contemplada nos dados abrange o período de 1960 até 2019.\n"
     ]
    }
   ],
   "source": [
    "print(f\"A série histórica contemplada nos dados abrange o período de {df['year'].min()} até {df['year'].max()}.\")"
   ]
  },
  {
   "cell_type": "code",
   "execution_count": 6,
   "id": "bad6b3db",
   "metadata": {
    "colab": {
     "base_uri": "https://localhost:8080/"
    },
    "id": "bad6b3db",
    "outputId": "ef6f975f-fdce-43bb-a40c-55e72f6581f7"
   },
   "outputs": [
    {
     "data": {
      "text/plain": [
       "array(['Aruba', 'Africa Eastern and Southern', 'Afghanistan',\n",
       "       'Africa Western and Central', 'Angola', 'Albania', 'Andorra',\n",
       "       'Arab World', 'United Arab Emirates', 'Argentina', 'Armenia',\n",
       "       'Antigua and Barbuda', 'Australia', 'Austria', 'Azerbaijan',\n",
       "       'Burundi', 'Belgium', 'Benin', 'Burkina Faso', 'Bangladesh',\n",
       "       'Bulgaria', 'Bahrain', 'Bahamas, The', 'Bosnia and Herzegovina',\n",
       "       'Belarus', 'Belize', 'Bermuda', 'Bolivia', 'Brazil', 'Barbados',\n",
       "       'Brunei Darussalam', 'Bhutan', 'Botswana',\n",
       "       'Central African Republic', 'Canada',\n",
       "       'Central Europe and the Baltics', 'Switzerland', 'Chile', 'China',\n",
       "       \"Cote d'Ivoire\", 'Cameroon', 'Congo, Dem. Rep.', 'Congo, Rep.',\n",
       "       'Colombia', 'Comoros', 'Cabo Verde', 'Costa Rica',\n",
       "       'Caribbean small states', 'Cuba', 'Curacao', 'Cayman Islands',\n",
       "       'Cyprus', 'Czechia', 'Germany', 'Djibouti', 'Dominica', 'Denmark',\n",
       "       'Dominican Republic', 'Algeria',\n",
       "       'East Asia & Pacific (excluding high income)',\n",
       "       'Early-demographic dividend', 'East Asia & Pacific',\n",
       "       'Europe & Central Asia (excluding high income)',\n",
       "       'Europe & Central Asia', 'Ecuador', 'Egypt, Arab Rep.',\n",
       "       'Euro area', 'Eritrea', 'Spain', 'Estonia', 'Ethiopia',\n",
       "       'European Union', 'Fragile and conflict affected situations',\n",
       "       'Finland', 'Fiji', 'France', 'Faroe Islands',\n",
       "       'Micronesia, Fed. Sts.', 'Gabon', 'United Kingdom', 'Georgia',\n",
       "       'Ghana', 'Gibraltar', 'Guinea', 'Gambia, The', 'Guinea-Bissau',\n",
       "       'Equatorial Guinea', 'Greece', 'Grenada', 'Greenland', 'Guatemala',\n",
       "       'Guyana', 'High income', 'Hong Kong SAR, China', 'Honduras',\n",
       "       'Heavily indebted poor countries (HIPC)', 'Croatia', 'Haiti',\n",
       "       'Hungary', 'IBRD only', 'IDA & IBRD total', 'IDA total',\n",
       "       'IDA blend', 'Indonesia', 'IDA only', 'India', 'Ireland',\n",
       "       'Iran, Islamic Rep.', 'Iraq', 'Iceland', 'Israel', 'Italy',\n",
       "       'Jamaica', 'Jordan', 'Japan', 'Kazakhstan', 'Kenya',\n",
       "       'Kyrgyz Republic', 'Cambodia', 'Kiribati', 'St. Kitts and Nevis',\n",
       "       'Korea, Rep.', 'Kuwait',\n",
       "       'Latin America & Caribbean (excluding high income)', 'Lao PDR',\n",
       "       'Lebanon', 'Liberia', 'Libya', 'St. Lucia',\n",
       "       'Latin America & Caribbean',\n",
       "       'Least developed countries: UN classification', 'Low income',\n",
       "       'Liechtenstein', 'Sri Lanka', 'Lower middle income',\n",
       "       'Low & middle income', 'Lesotho', 'Late-demographic dividend',\n",
       "       'Lithuania', 'Luxembourg', 'Latvia', 'Macao SAR, China', 'Morocco',\n",
       "       'Moldova', 'Madagascar', 'Maldives', 'Middle East & North Africa',\n",
       "       'Mexico', 'Marshall Islands', 'Middle income', 'North Macedonia',\n",
       "       'Mali', 'Malta', 'Myanmar',\n",
       "       'Middle East & North Africa (excluding high income)', 'Montenegro',\n",
       "       'Mongolia', 'Mozambique', 'Mauritania', 'Mauritius', 'Malawi',\n",
       "       'Malaysia', 'North America', 'Namibia', 'New Caledonia', 'Niger',\n",
       "       'Nigeria', 'Nicaragua', 'Netherlands', 'Norway', 'Nepal', 'Nauru',\n",
       "       'New Zealand', 'OECD members', 'Oman', 'Other small states',\n",
       "       'Pakistan', 'Panama', 'Peru', 'Philippines', 'Palau',\n",
       "       'Papua New Guinea', 'Poland', 'Pre-demographic dividend',\n",
       "       \"Korea, Dem. People's Rep.\", 'Portugal', 'Paraguay',\n",
       "       'West Bank and Gaza', 'Pacific island small states',\n",
       "       'Post-demographic dividend', 'French Polynesia', 'Qatar',\n",
       "       'Romania', 'Russian Federation', 'Rwanda', 'South Asia',\n",
       "       'Saudi Arabia', 'Sudan', 'Senegal', 'Singapore', 'Solomon Islands',\n",
       "       'Sierra Leone', 'El Salvador', 'Somalia', 'Serbia',\n",
       "       'Sub-Saharan Africa (excluding high income)', 'South Sudan',\n",
       "       'Sub-Saharan Africa', 'Small states', 'Sao Tome and Principe',\n",
       "       'Suriname', 'Slovak Republic', 'Slovenia', 'Sweden', 'Eswatini',\n",
       "       'Sint Maarten (Dutch part)', 'Seychelles', 'Syrian Arab Republic',\n",
       "       'Turks and Caicos Islands', 'Chad',\n",
       "       'East Asia & Pacific (IDA & IBRD countries)',\n",
       "       'Europe & Central Asia (IDA & IBRD countries)', 'Togo', 'Thailand',\n",
       "       'Tajikistan', 'Turkmenistan',\n",
       "       'Latin America & the Caribbean (IDA & IBRD countries)',\n",
       "       'Timor-Leste', 'Middle East & North Africa (IDA & IBRD countries)',\n",
       "       'Tonga', 'South Asia (IDA & IBRD)',\n",
       "       'Sub-Saharan Africa (IDA & IBRD countries)', 'Trinidad and Tobago',\n",
       "       'Tunisia', 'Turkey', 'Turkiye', 'Tuvalu', 'Tanzania', 'Uganda',\n",
       "       'Ukraine', 'Upper middle income', 'Uruguay', 'United States',\n",
       "       'Uzbekistan', 'St. Vincent and the Grenadines', 'Venezuela, RB',\n",
       "       'British Virgin Islands', 'Vietnam', 'Vanuatu', 'World', 'Samoa',\n",
       "       'Kosovo', 'Yemen, Rep.', 'South Africa', 'Zambia', 'Zimbabwe'],\n",
       "      dtype=object)"
      ]
     },
     "execution_count": 6,
     "metadata": {},
     "output_type": "execute_result"
    }
   ],
   "source": [
    "df['country_name'].unique()"
   ]
  },
  {
   "cell_type": "markdown",
   "id": "IEVtIoI0YHrv",
   "metadata": {
    "id": "IEVtIoI0YHrv"
   },
   "source": [
    "Analisando os valores encontrados na coluna rotulada como nome dos países (\"country_names\"), encontramos também nomes de blocos econômicos e regiões geográficas que representam um conjunto de federações."
   ]
  },
  {
   "cell_type": "markdown",
   "id": "9840d303",
   "metadata": {
    "id": "9840d303"
   },
   "source": [
    "# 2. Analisando os Dados"
   ]
  },
  {
   "cell_type": "markdown",
   "id": "f57f1869",
   "metadata": {
    "id": "f57f1869"
   },
   "source": [
    "## 2.1 Emissão de CO₂ pelos países do G20"
   ]
  },
  {
   "cell_type": "markdown",
   "id": "tVgeVHvuoJ8k",
   "metadata": {
    "id": "tVgeVHvuoJ8k"
   },
   "source": [
    "### 2.1.1 Emissão Total de CO₂ durante toda a série histórica"
   ]
  },
  {
   "cell_type": "markdown",
   "id": "22061ba3",
   "metadata": {
    "id": "22061ba3"
   },
   "source": [
    "Analisando os países contidos nos dados percebemos que a relação apresenta nomes de blocos econômicos e regiões geográficas que englobam diversas federações.\n",
    "\n",
    "Inicialmente o foco do estudo se concentrará nos países do G20.\n",
    "\n",
    "Criado em 1999, o G20 reúne as maiores economias do mundo, incluindo países desenvolvidos e economias emergentes. Funciona, essencialmente, como foro para o diálogo e a cooperação internacional sobre temas econômicos e de desenvolvimento. [1]\n",
    "\n",
    "Os membros permanentes são África do Sul, Alemanha, Arábia Saudita, Argentina, Austrália, Brasil, Canadá, China, Coreia do Sul, Estados Unidos, França, Índia, Indonésia, Itália, Japão, México, Reino Unido, Rússia, Turquia e União Europeia. Esses países representam 80% do Produto Interno Bruto (PIB) global, 75% das exportações, cerca de 70% dos investimentos diretos estrangeiros e 60% da população mundial. [1]\n",
    "\n",
    "Alemanha e Turquia são dois países que mudaram de nome durante sua história. Alemanha passou pelo processo de reunificação em 1990 [2] e a Turquia mudou a nomenclatura Turkey para Turkiye [3]."
   ]
  },
  {
   "cell_type": "code",
   "execution_count": 7,
   "id": "uH7z5X0Yu4PJ",
   "metadata": {
    "id": "uH7z5X0Yu4PJ"
   },
   "outputs": [],
   "source": [
    "df = df.replace({'Turkey': 'Turkiye'}, regex=True)"
   ]
  },
  {
   "cell_type": "code",
   "execution_count": 8,
   "id": "72d56a60",
   "metadata": {
    "id": "72d56a60",
    "scrolled": false
   },
   "outputs": [],
   "source": [
    "G20_countries = ['Argentina', 'Australia', 'Brazil', 'Canada', 'China', \n",
    "       'France', 'Germany', 'India', 'Indonesia', 'Italy', \n",
    "       'Japan', 'Korea, Rep.', 'Mexico', 'Russian Federation', 'Saudi Arabia', \n",
    "       'South Africa', 'Turkiye', 'United Kingdom', 'United States', 'European Union']"
   ]
  },
  {
   "cell_type": "code",
   "execution_count": 9,
   "id": "c36bf7d6",
   "metadata": {
    "id": "c36bf7d6"
   },
   "outputs": [],
   "source": [
    "G20 = pd.DataFrame()"
   ]
  },
  {
   "cell_type": "code",
   "execution_count": 10,
   "id": "c1c650e9",
   "metadata": {
    "id": "c1c650e9"
   },
   "outputs": [],
   "source": [
    "for country in G20_countries:\n",
    "    G20 = pd.concat([G20, df[df['country_name'] == country]])"
   ]
  },
  {
   "cell_type": "code",
   "execution_count": 11,
   "id": "a77f9acb",
   "metadata": {
    "colab": {
     "base_uri": "https://localhost:8080/"
    },
    "id": "a77f9acb",
    "outputId": "a2e6001e-7311-4ff6-9a30-be5825d8cf0e"
   },
   "outputs": [
    {
     "data": {
      "text/plain": [
       "array(['Argentina', 'Australia', 'Brazil', 'Canada', 'China', 'France',\n",
       "       'Germany', 'India', 'Indonesia', 'Italy', 'Japan', 'Korea, Rep.',\n",
       "       'Mexico', 'Russian Federation', 'Saudi Arabia', 'South Africa',\n",
       "       'Turkiye', 'United Kingdom', 'United States', 'European Union'],\n",
       "      dtype=object)"
      ]
     },
     "execution_count": 11,
     "metadata": {},
     "output_type": "execute_result"
    }
   ],
   "source": [
    "G20['country_name'].unique()"
   ]
  },
  {
   "cell_type": "markdown",
   "id": "019c6fae",
   "metadata": {
    "id": "019c6fae"
   },
   "source": [
    "Os valores da série histórica foram agrupados para identificação dos principais emissores de CO₂ durante esse período."
   ]
  },
  {
   "cell_type": "code",
   "execution_count": 12,
   "id": "b22c988c",
   "metadata": {
    "id": "b22c988c"
   },
   "outputs": [],
   "source": [
    "rank_G20 = G20.groupby(by='country_name').sum()\n",
    "rank_G20 = rank_G20.reset_index()\n",
    "rank_G20 = rank_G20.sort_values(by='value', ascending=False)[['country_name', 'value']]\n",
    "rank_G20.index = [x for x in range(len(rank_G20))]"
   ]
  },
  {
   "cell_type": "code",
   "execution_count": 13,
   "id": "9566e15a",
   "metadata": {
    "colab": {
     "base_uri": "https://localhost:8080/",
     "height": 677
    },
    "id": "9566e15a",
    "outputId": "ccb40148-a9b7-4816-8742-3cf4e0e54a40"
   },
   "outputs": [
    {
     "data": {
      "text/html": [
       "<div>\n",
       "<style scoped>\n",
       "    .dataframe tbody tr th:only-of-type {\n",
       "        vertical-align: middle;\n",
       "    }\n",
       "\n",
       "    .dataframe tbody tr th {\n",
       "        vertical-align: top;\n",
       "    }\n",
       "\n",
       "    .dataframe thead th {\n",
       "        text-align: right;\n",
       "    }\n",
       "</style>\n",
       "<table border=\"1\" class=\"dataframe\">\n",
       "  <thead>\n",
       "    <tr style=\"text-align: right;\">\n",
       "      <th></th>\n",
       "      <th>country_name</th>\n",
       "      <th>value</th>\n",
       "    </tr>\n",
       "  </thead>\n",
       "  <tbody>\n",
       "    <tr>\n",
       "      <th>0</th>\n",
       "      <td>United States</td>\n",
       "      <td>2.840366e+08</td>\n",
       "    </tr>\n",
       "    <tr>\n",
       "      <th>1</th>\n",
       "      <td>China</td>\n",
       "      <td>2.159975e+08</td>\n",
       "    </tr>\n",
       "    <tr>\n",
       "      <th>2</th>\n",
       "      <td>European Union</td>\n",
       "      <td>1.945354e+08</td>\n",
       "    </tr>\n",
       "    <tr>\n",
       "      <th>3</th>\n",
       "      <td>Russian Federation</td>\n",
       "      <td>1.344118e+08</td>\n",
       "    </tr>\n",
       "    <tr>\n",
       "      <th>4</th>\n",
       "      <td>Japan</td>\n",
       "      <td>5.726082e+07</td>\n",
       "    </tr>\n",
       "    <tr>\n",
       "      <th>5</th>\n",
       "      <td>India</td>\n",
       "      <td>4.816875e+07</td>\n",
       "    </tr>\n",
       "    <tr>\n",
       "      <th>6</th>\n",
       "      <td>United Kingdom</td>\n",
       "      <td>3.278625e+07</td>\n",
       "    </tr>\n",
       "    <tr>\n",
       "      <th>7</th>\n",
       "      <td>Canada</td>\n",
       "      <td>2.609352e+07</td>\n",
       "    </tr>\n",
       "    <tr>\n",
       "      <th>8</th>\n",
       "      <td>Germany</td>\n",
       "      <td>2.436702e+07</td>\n",
       "    </tr>\n",
       "    <tr>\n",
       "      <th>9</th>\n",
       "      <td>France</td>\n",
       "      <td>2.296071e+07</td>\n",
       "    </tr>\n",
       "    <tr>\n",
       "      <th>10</th>\n",
       "      <td>Italy</td>\n",
       "      <td>2.123551e+07</td>\n",
       "    </tr>\n",
       "    <tr>\n",
       "      <th>11</th>\n",
       "      <td>Mexico</td>\n",
       "      <td>1.748699e+07</td>\n",
       "    </tr>\n",
       "    <tr>\n",
       "      <th>12</th>\n",
       "      <td>Korea, Rep.</td>\n",
       "      <td>1.725639e+07</td>\n",
       "    </tr>\n",
       "    <tr>\n",
       "      <th>13</th>\n",
       "      <td>South Africa</td>\n",
       "      <td>1.668050e+07</td>\n",
       "    </tr>\n",
       "    <tr>\n",
       "      <th>14</th>\n",
       "      <td>Australia</td>\n",
       "      <td>1.572238e+07</td>\n",
       "    </tr>\n",
       "    <tr>\n",
       "      <th>15</th>\n",
       "      <td>Brazil</td>\n",
       "      <td>1.419491e+07</td>\n",
       "    </tr>\n",
       "    <tr>\n",
       "      <th>16</th>\n",
       "      <td>Saudi Arabia</td>\n",
       "      <td>1.325895e+07</td>\n",
       "    </tr>\n",
       "    <tr>\n",
       "      <th>17</th>\n",
       "      <td>Indonesia</td>\n",
       "      <td>1.253913e+07</td>\n",
       "    </tr>\n",
       "    <tr>\n",
       "      <th>18</th>\n",
       "      <td>Turkiye</td>\n",
       "      <td>9.613919e+06</td>\n",
       "    </tr>\n",
       "    <tr>\n",
       "      <th>19</th>\n",
       "      <td>Argentina</td>\n",
       "      <td>7.012356e+06</td>\n",
       "    </tr>\n",
       "  </tbody>\n",
       "</table>\n",
       "</div>"
      ],
      "text/plain": [
       "          country_name         value\n",
       "0        United States  2.840366e+08\n",
       "1                China  2.159975e+08\n",
       "2       European Union  1.945354e+08\n",
       "3   Russian Federation  1.344118e+08\n",
       "4                Japan  5.726082e+07\n",
       "5                India  4.816875e+07\n",
       "6       United Kingdom  3.278625e+07\n",
       "7               Canada  2.609352e+07\n",
       "8              Germany  2.436702e+07\n",
       "9               France  2.296071e+07\n",
       "10               Italy  2.123551e+07\n",
       "11              Mexico  1.748699e+07\n",
       "12         Korea, Rep.  1.725639e+07\n",
       "13        South Africa  1.668050e+07\n",
       "14           Australia  1.572238e+07\n",
       "15              Brazil  1.419491e+07\n",
       "16        Saudi Arabia  1.325895e+07\n",
       "17           Indonesia  1.253913e+07\n",
       "18             Turkiye  9.613919e+06\n",
       "19           Argentina  7.012356e+06"
      ]
     },
     "execution_count": 13,
     "metadata": {},
     "output_type": "execute_result"
    }
   ],
   "source": [
    "rank_G20"
   ]
  },
  {
   "cell_type": "code",
   "execution_count": 14,
   "id": "69f85cdc",
   "metadata": {
    "colab": {
     "base_uri": "https://localhost:8080/",
     "height": 424
    },
    "id": "69f85cdc",
    "outputId": "93d521cd-3f90-4eb3-d780-f89ac37fb02b"
   },
   "outputs": [
    {
     "data": {
      "image/png": "[encoded data removed]",
      "text/plain": [
       "<Figure size 1296x540 with 1 Axes>"
      ]
     },
     "metadata": {
      "needs_background": "light"
     },
     "output_type": "display_data"
    }
   ],
   "source": [
    "ax = sns.barplot(data=rank_G20, y='country_name', x='value', orient='h')\n",
    "plt.suptitle('Emissão Total de Dióxido de Carbono entre 1960 - 2019', x = 0.5, y = 0.95, fontsize = 18)\n",
    "plt.title('Emissão Total de Dióxido de Carbono pelos Países Membro do G20', x = 0.5, y = 1.0, fontsize = 14)\n",
    "ax.set_xlabel('Emissão de CO2 em kilotoneladas (kt)', fontsize = 14)\n",
    "ax.set_ylabel('Países Membros do G20', fontsize = 14)\n",
    "ax = ax"
   ]
  },
  {
   "cell_type": "markdown",
   "id": "GEcR4F8OCs6G",
   "metadata": {
    "id": "GEcR4F8OCs6G"
   },
   "source": [
    "Em uma primeira análise é possível notar que o volume total de dióxido de carbono emitido nos últimos 60 anos por Estados Unidos, China, União Européia e Rússia destoam dos demais países. Considerando apenas os membros do G20 vamos avaliar a fração desse consumo."
   ]
  },
  {
   "cell_type": "code",
   "execution_count": 15,
   "id": "w_st9yNjHzxY",
   "metadata": {
    "id": "w_st9yNjHzxY"
   },
   "outputs": [],
   "source": [
    "rank_G20['G20 proportion'] = round(rank_G20['value'] / rank_G20['value'].sum(), 3)\n",
    "rank_G20['G20 percentage (%)'] = rank_G20['G20 proportion'] * 100"
   ]
  },
  {
   "cell_type": "code",
   "execution_count": 16,
   "id": "MomiQoOwKmEg",
   "metadata": {
    "colab": {
     "base_uri": "https://localhost:8080/",
     "height": 677
    },
    "id": "MomiQoOwKmEg",
    "outputId": "d8ad1755-6e67-483b-eb00-4859253984ef"
   },
   "outputs": [
    {
     "data": {
      "text/html": [
       "<div>\n",
       "<style scoped>\n",
       "    .dataframe tbody tr th:only-of-type {\n",
       "        vertical-align: middle;\n",
       "    }\n",
       "\n",
       "    .dataframe tbody tr th {\n",
       "        vertical-align: top;\n",
       "    }\n",
       "\n",
       "    .dataframe thead th {\n",
       "        text-align: right;\n",
       "    }\n",
       "</style>\n",
       "<table border=\"1\" class=\"dataframe\">\n",
       "  <thead>\n",
       "    <tr style=\"text-align: right;\">\n",
       "      <th></th>\n",
       "      <th>country_name</th>\n",
       "      <th>value</th>\n",
       "      <th>G20 proportion</th>\n",
       "      <th>G20 percentage (%)</th>\n",
       "    </tr>\n",
       "  </thead>\n",
       "  <tbody>\n",
       "    <tr>\n",
       "      <th>0</th>\n",
       "      <td>United States</td>\n",
       "      <td>2.840366e+08</td>\n",
       "      <td>0.240</td>\n",
       "      <td>24.0</td>\n",
       "    </tr>\n",
       "    <tr>\n",
       "      <th>1</th>\n",
       "      <td>China</td>\n",
       "      <td>2.159975e+08</td>\n",
       "      <td>0.182</td>\n",
       "      <td>18.2</td>\n",
       "    </tr>\n",
       "    <tr>\n",
       "      <th>2</th>\n",
       "      <td>European Union</td>\n",
       "      <td>1.945354e+08</td>\n",
       "      <td>0.164</td>\n",
       "      <td>16.4</td>\n",
       "    </tr>\n",
       "    <tr>\n",
       "      <th>3</th>\n",
       "      <td>Russian Federation</td>\n",
       "      <td>1.344118e+08</td>\n",
       "      <td>0.113</td>\n",
       "      <td>11.3</td>\n",
       "    </tr>\n",
       "    <tr>\n",
       "      <th>4</th>\n",
       "      <td>Japan</td>\n",
       "      <td>5.726082e+07</td>\n",
       "      <td>0.048</td>\n",
       "      <td>4.8</td>\n",
       "    </tr>\n",
       "    <tr>\n",
       "      <th>5</th>\n",
       "      <td>India</td>\n",
       "      <td>4.816875e+07</td>\n",
       "      <td>0.041</td>\n",
       "      <td>4.1</td>\n",
       "    </tr>\n",
       "    <tr>\n",
       "      <th>6</th>\n",
       "      <td>United Kingdom</td>\n",
       "      <td>3.278625e+07</td>\n",
       "      <td>0.028</td>\n",
       "      <td>2.8</td>\n",
       "    </tr>\n",
       "    <tr>\n",
       "      <th>7</th>\n",
       "      <td>Canada</td>\n",
       "      <td>2.609352e+07</td>\n",
       "      <td>0.022</td>\n",
       "      <td>2.2</td>\n",
       "    </tr>\n",
       "    <tr>\n",
       "      <th>8</th>\n",
       "      <td>Germany</td>\n",
       "      <td>2.436702e+07</td>\n",
       "      <td>0.021</td>\n",
       "      <td>2.1</td>\n",
       "    </tr>\n",
       "    <tr>\n",
       "      <th>9</th>\n",
       "      <td>France</td>\n",
       "      <td>2.296071e+07</td>\n",
       "      <td>0.019</td>\n",
       "      <td>1.9</td>\n",
       "    </tr>\n",
       "    <tr>\n",
       "      <th>10</th>\n",
       "      <td>Italy</td>\n",
       "      <td>2.123551e+07</td>\n",
       "      <td>0.018</td>\n",
       "      <td>1.8</td>\n",
       "    </tr>\n",
       "    <tr>\n",
       "      <th>11</th>\n",
       "      <td>Mexico</td>\n",
       "      <td>1.748699e+07</td>\n",
       "      <td>0.015</td>\n",
       "      <td>1.5</td>\n",
       "    </tr>\n",
       "    <tr>\n",
       "      <th>12</th>\n",
       "      <td>Korea, Rep.</td>\n",
       "      <td>1.725639e+07</td>\n",
       "      <td>0.015</td>\n",
       "      <td>1.5</td>\n",
       "    </tr>\n",
       "    <tr>\n",
       "      <th>13</th>\n",
       "      <td>South Africa</td>\n",
       "      <td>1.668050e+07</td>\n",
       "      <td>0.014</td>\n",
       "      <td>1.4</td>\n",
       "    </tr>\n",
       "    <tr>\n",
       "      <th>14</th>\n",
       "      <td>Australia</td>\n",
       "      <td>1.572238e+07</td>\n",
       "      <td>0.013</td>\n",
       "      <td>1.3</td>\n",
       "    </tr>\n",
       "    <tr>\n",
       "      <th>15</th>\n",
       "      <td>Brazil</td>\n",
       "      <td>1.419491e+07</td>\n",
       "      <td>0.012</td>\n",
       "      <td>1.2</td>\n",
       "    </tr>\n",
       "    <tr>\n",
       "      <th>16</th>\n",
       "      <td>Saudi Arabia</td>\n",
       "      <td>1.325895e+07</td>\n",
       "      <td>0.011</td>\n",
       "      <td>1.1</td>\n",
       "    </tr>\n",
       "    <tr>\n",
       "      <th>17</th>\n",
       "      <td>Indonesia</td>\n",
       "      <td>1.253913e+07</td>\n",
       "      <td>0.011</td>\n",
       "      <td>1.1</td>\n",
       "    </tr>\n",
       "    <tr>\n",
       "      <th>18</th>\n",
       "      <td>Turkiye</td>\n",
       "      <td>9.613919e+06</td>\n",
       "      <td>0.008</td>\n",
       "      <td>0.8</td>\n",
       "    </tr>\n",
       "    <tr>\n",
       "      <th>19</th>\n",
       "      <td>Argentina</td>\n",
       "      <td>7.012356e+06</td>\n",
       "      <td>0.006</td>\n",
       "      <td>0.6</td>\n",
       "    </tr>\n",
       "  </tbody>\n",
       "</table>\n",
       "</div>"
      ],
      "text/plain": [
       "          country_name         value  G20 proportion  G20 percentage (%)\n",
       "0        United States  2.840366e+08           0.240                24.0\n",
       "1                China  2.159975e+08           0.182                18.2\n",
       "2       European Union  1.945354e+08           0.164                16.4\n",
       "3   Russian Federation  1.344118e+08           0.113                11.3\n",
       "4                Japan  5.726082e+07           0.048                 4.8\n",
       "5                India  4.816875e+07           0.041                 4.1\n",
       "6       United Kingdom  3.278625e+07           0.028                 2.8\n",
       "7               Canada  2.609352e+07           0.022                 2.2\n",
       "8              Germany  2.436702e+07           0.021                 2.1\n",
       "9               France  2.296071e+07           0.019                 1.9\n",
       "10               Italy  2.123551e+07           0.018                 1.8\n",
       "11              Mexico  1.748699e+07           0.015                 1.5\n",
       "12         Korea, Rep.  1.725639e+07           0.015                 1.5\n",
       "13        South Africa  1.668050e+07           0.014                 1.4\n",
       "14           Australia  1.572238e+07           0.013                 1.3\n",
       "15              Brazil  1.419491e+07           0.012                 1.2\n",
       "16        Saudi Arabia  1.325895e+07           0.011                 1.1\n",
       "17           Indonesia  1.253913e+07           0.011                 1.1\n",
       "18             Turkiye  9.613919e+06           0.008                 0.8\n",
       "19           Argentina  7.012356e+06           0.006                 0.6"
      ]
     },
     "execution_count": 16,
     "metadata": {},
     "output_type": "execute_result"
    }
   ],
   "source": [
    "rank_G20"
   ]
  },
  {
   "cell_type": "markdown",
   "id": "bPxEaongFze0",
   "metadata": {
    "id": "bPxEaongFze0"
   },
   "source": [
    "A participação dos EUA na emissão de CO₂ é de aproximadamente 25% entre os membros do G20. A China aparece em segundo lugar com quase 20% na participação de emissão de CO₂ na atmosfera, vale lembrar que a partir de 1978 a China passou por diversas reformas políticas e econômicas que a aproximaram do restante do mundo. Entre 1978 até 2018, o PIB chinês cresceu de US\\$ 150 bilhões para US\\$ 12,2 trilhões, uma das maiores taxas no mundo. Ainda, em 2010, o país se tornou a segunda maior economia do globo permanecendo nesta posição desde então. [4]"
   ]
  },
  {
   "cell_type": "code",
   "execution_count": 17,
   "id": "Tj6PX-bMAAy0",
   "metadata": {
    "id": "Tj6PX-bMAAy0"
   },
   "outputs": [],
   "source": [
    "total_world = df[df['country_name'] == \"World\"].groupby(\"country_name\").sum()['value'][0]"
   ]
  },
  {
   "cell_type": "code",
   "execution_count": 18,
   "id": "5w1Pp6GRAVXD",
   "metadata": {
    "id": "5w1Pp6GRAVXD"
   },
   "outputs": [],
   "source": [
    "rank_G20['World Percentage (%)'] = round(rank_G20['value'] / total_world, 3) * 100"
   ]
  },
  {
   "cell_type": "code",
   "execution_count": 19,
   "id": "phAU7UQpAuwd",
   "metadata": {
    "colab": {
     "base_uri": "https://localhost:8080/",
     "height": 677
    },
    "id": "phAU7UQpAuwd",
    "outputId": "0b5d206e-0575-4831-83d5-6385d88c61fe"
   },
   "outputs": [
    {
     "data": {
      "text/html": [
       "<div>\n",
       "<style scoped>\n",
       "    .dataframe tbody tr th:only-of-type {\n",
       "        vertical-align: middle;\n",
       "    }\n",
       "\n",
       "    .dataframe tbody tr th {\n",
       "        vertical-align: top;\n",
       "    }\n",
       "\n",
       "    .dataframe thead th {\n",
       "        text-align: right;\n",
       "    }\n",
       "</style>\n",
       "<table border=\"1\" class=\"dataframe\">\n",
       "  <thead>\n",
       "    <tr style=\"text-align: right;\">\n",
       "      <th></th>\n",
       "      <th>country_name</th>\n",
       "      <th>value</th>\n",
       "      <th>G20 proportion</th>\n",
       "      <th>G20 percentage (%)</th>\n",
       "      <th>World Percentage (%)</th>\n",
       "    </tr>\n",
       "  </thead>\n",
       "  <tbody>\n",
       "    <tr>\n",
       "      <th>0</th>\n",
       "      <td>United States</td>\n",
       "      <td>2.840366e+08</td>\n",
       "      <td>0.240</td>\n",
       "      <td>24.0</td>\n",
       "      <td>21.6</td>\n",
       "    </tr>\n",
       "    <tr>\n",
       "      <th>1</th>\n",
       "      <td>China</td>\n",
       "      <td>2.159975e+08</td>\n",
       "      <td>0.182</td>\n",
       "      <td>18.2</td>\n",
       "      <td>16.4</td>\n",
       "    </tr>\n",
       "    <tr>\n",
       "      <th>2</th>\n",
       "      <td>European Union</td>\n",
       "      <td>1.945354e+08</td>\n",
       "      <td>0.164</td>\n",
       "      <td>16.4</td>\n",
       "      <td>14.8</td>\n",
       "    </tr>\n",
       "    <tr>\n",
       "      <th>3</th>\n",
       "      <td>Russian Federation</td>\n",
       "      <td>1.344118e+08</td>\n",
       "      <td>0.113</td>\n",
       "      <td>11.3</td>\n",
       "      <td>10.2</td>\n",
       "    </tr>\n",
       "    <tr>\n",
       "      <th>4</th>\n",
       "      <td>Japan</td>\n",
       "      <td>5.726082e+07</td>\n",
       "      <td>0.048</td>\n",
       "      <td>4.8</td>\n",
       "      <td>4.3</td>\n",
       "    </tr>\n",
       "    <tr>\n",
       "      <th>5</th>\n",
       "      <td>India</td>\n",
       "      <td>4.816875e+07</td>\n",
       "      <td>0.041</td>\n",
       "      <td>4.1</td>\n",
       "      <td>3.7</td>\n",
       "    </tr>\n",
       "    <tr>\n",
       "      <th>6</th>\n",
       "      <td>United Kingdom</td>\n",
       "      <td>3.278625e+07</td>\n",
       "      <td>0.028</td>\n",
       "      <td>2.8</td>\n",
       "      <td>2.5</td>\n",
       "    </tr>\n",
       "    <tr>\n",
       "      <th>7</th>\n",
       "      <td>Canada</td>\n",
       "      <td>2.609352e+07</td>\n",
       "      <td>0.022</td>\n",
       "      <td>2.2</td>\n",
       "      <td>2.0</td>\n",
       "    </tr>\n",
       "    <tr>\n",
       "      <th>8</th>\n",
       "      <td>Germany</td>\n",
       "      <td>2.436702e+07</td>\n",
       "      <td>0.021</td>\n",
       "      <td>2.1</td>\n",
       "      <td>1.8</td>\n",
       "    </tr>\n",
       "    <tr>\n",
       "      <th>9</th>\n",
       "      <td>France</td>\n",
       "      <td>2.296071e+07</td>\n",
       "      <td>0.019</td>\n",
       "      <td>1.9</td>\n",
       "      <td>1.7</td>\n",
       "    </tr>\n",
       "    <tr>\n",
       "      <th>10</th>\n",
       "      <td>Italy</td>\n",
       "      <td>2.123551e+07</td>\n",
       "      <td>0.018</td>\n",
       "      <td>1.8</td>\n",
       "      <td>1.6</td>\n",
       "    </tr>\n",
       "    <tr>\n",
       "      <th>11</th>\n",
       "      <td>Mexico</td>\n",
       "      <td>1.748699e+07</td>\n",
       "      <td>0.015</td>\n",
       "      <td>1.5</td>\n",
       "      <td>1.3</td>\n",
       "    </tr>\n",
       "    <tr>\n",
       "      <th>12</th>\n",
       "      <td>Korea, Rep.</td>\n",
       "      <td>1.725639e+07</td>\n",
       "      <td>0.015</td>\n",
       "      <td>1.5</td>\n",
       "      <td>1.3</td>\n",
       "    </tr>\n",
       "    <tr>\n",
       "      <th>13</th>\n",
       "      <td>South Africa</td>\n",
       "      <td>1.668050e+07</td>\n",
       "      <td>0.014</td>\n",
       "      <td>1.4</td>\n",
       "      <td>1.3</td>\n",
       "    </tr>\n",
       "    <tr>\n",
       "      <th>14</th>\n",
       "      <td>Australia</td>\n",
       "      <td>1.572238e+07</td>\n",
       "      <td>0.013</td>\n",
       "      <td>1.3</td>\n",
       "      <td>1.2</td>\n",
       "    </tr>\n",
       "    <tr>\n",
       "      <th>15</th>\n",
       "      <td>Brazil</td>\n",
       "      <td>1.419491e+07</td>\n",
       "      <td>0.012</td>\n",
       "      <td>1.2</td>\n",
       "      <td>1.1</td>\n",
       "    </tr>\n",
       "    <tr>\n",
       "      <th>16</th>\n",
       "      <td>Saudi Arabia</td>\n",
       "      <td>1.325895e+07</td>\n",
       "      <td>0.011</td>\n",
       "      <td>1.1</td>\n",
       "      <td>1.0</td>\n",
       "    </tr>\n",
       "    <tr>\n",
       "      <th>17</th>\n",
       "      <td>Indonesia</td>\n",
       "      <td>1.253913e+07</td>\n",
       "      <td>0.011</td>\n",
       "      <td>1.1</td>\n",
       "      <td>1.0</td>\n",
       "    </tr>\n",
       "    <tr>\n",
       "      <th>18</th>\n",
       "      <td>Turkiye</td>\n",
       "      <td>9.613919e+06</td>\n",
       "      <td>0.008</td>\n",
       "      <td>0.8</td>\n",
       "      <td>0.7</td>\n",
       "    </tr>\n",
       "    <tr>\n",
       "      <th>19</th>\n",
       "      <td>Argentina</td>\n",
       "      <td>7.012356e+06</td>\n",
       "      <td>0.006</td>\n",
       "      <td>0.6</td>\n",
       "      <td>0.5</td>\n",
       "    </tr>\n",
       "  </tbody>\n",
       "</table>\n",
       "</div>"
      ],
      "text/plain": [
       "          country_name         value  G20 proportion  G20 percentage (%)  \\\n",
       "0        United States  2.840366e+08           0.240                24.0   \n",
       "1                China  2.159975e+08           0.182                18.2   \n",
       "2       European Union  1.945354e+08           0.164                16.4   \n",
       "3   Russian Federation  1.344118e+08           0.113                11.3   \n",
       "4                Japan  5.726082e+07           0.048                 4.8   \n",
       "5                India  4.816875e+07           0.041                 4.1   \n",
       "6       United Kingdom  3.278625e+07           0.028                 2.8   \n",
       "7               Canada  2.609352e+07           0.022                 2.2   \n",
       "8              Germany  2.436702e+07           0.021                 2.1   \n",
       "9               France  2.296071e+07           0.019                 1.9   \n",
       "10               Italy  2.123551e+07           0.018                 1.8   \n",
       "11              Mexico  1.748699e+07           0.015                 1.5   \n",
       "12         Korea, Rep.  1.725639e+07           0.015                 1.5   \n",
       "13        South Africa  1.668050e+07           0.014                 1.4   \n",
       "14           Australia  1.572238e+07           0.013                 1.3   \n",
       "15              Brazil  1.419491e+07           0.012                 1.2   \n",
       "16        Saudi Arabia  1.325895e+07           0.011                 1.1   \n",
       "17           Indonesia  1.253913e+07           0.011                 1.1   \n",
       "18             Turkiye  9.613919e+06           0.008                 0.8   \n",
       "19           Argentina  7.012356e+06           0.006                 0.6   \n",
       "\n",
       "    World Percentage (%)  \n",
       "0                   21.6  \n",
       "1                   16.4  \n",
       "2                   14.8  \n",
       "3                   10.2  \n",
       "4                    4.3  \n",
       "5                    3.7  \n",
       "6                    2.5  \n",
       "7                    2.0  \n",
       "8                    1.8  \n",
       "9                    1.7  \n",
       "10                   1.6  \n",
       "11                   1.3  \n",
       "12                   1.3  \n",
       "13                   1.3  \n",
       "14                   1.2  \n",
       "15                   1.1  \n",
       "16                   1.0  \n",
       "17                   1.0  \n",
       "18                   0.7  \n",
       "19                   0.5  "
      ]
     },
     "execution_count": 19,
     "metadata": {},
     "output_type": "execute_result"
    }
   ],
   "source": [
    "rank_G20"
   ]
  },
  {
   "cell_type": "markdown",
   "id": "obQRyFBoe1oH",
   "metadata": {
    "id": "obQRyFBoe1oH"
   },
   "source": [
    "Quando os valores de emissão de total de CO₂ são comparados em proporção mundial percebe-se que a variação não apresentam grandes diferenças em relação à emissão total dos países que compõem o G20."
   ]
  },
  {
   "cell_type": "markdown",
   "id": "wW7MZAaugct3",
   "metadata": {
    "id": "wW7MZAaugct3"
   },
   "source": [
    "Essa diferença é pequena pois os países membros do G20 representam cerca de 90% da emissão total de CO₂ do mundo."
   ]
  },
  {
   "cell_type": "code",
   "execution_count": 20,
   "id": "OE3rL_CXfkXd",
   "metadata": {
    "colab": {
     "base_uri": "https://localhost:8080/"
    },
    "id": "OE3rL_CXfkXd",
    "outputId": "99040f70-9614-4929-c9e9-28f18d832da8"
   },
   "outputs": [
    {
     "data": {
      "text/plain": [
       "0.9"
      ]
     },
     "execution_count": 20,
     "metadata": {},
     "output_type": "execute_result"
    }
   ],
   "source": [
    "# Relação Emissão Total de CO₂ G20 / Emissão Total de CO₂ Mundial\n",
    "round(rank_G20['value'].sum() / total_world, 3)"
   ]
  },
  {
   "cell_type": "markdown",
   "id": "Bh7Dop_4j9vZ",
   "metadata": {
    "id": "Bh7Dop_4j9vZ"
   },
   "source": [
    "A produção de gases de efeito estufa tem aumentado entre todos os membros do G20, principalmente em nações como Argentina, China, Índia e Indonésia. O Relatório de Transparência Climática, apresentado nas vésperas da 26º Conferência do Clima (COP26), prevê que as emissões de CO₂ tendem a aumentar nos próximos anos. [5]"
   ]
  },
  {
   "cell_type": "markdown",
   "id": "UIdvNVUHn8Bv",
   "metadata": {
    "id": "UIdvNVUHn8Bv"
   },
   "source": [
    "### 2.1.2 Evolução da série histórica da emissão de CO₂ durante o período de 1960 até 2019"
   ]
  },
  {
   "cell_type": "markdown",
   "id": "6lDylpdIoezG",
   "metadata": {
    "id": "6lDylpdIoezG"
   },
   "source": [
    "Voltando aos dados que contemplam toda a série histórica da emissão de CO₂ dos países membros do G20, vamos analisar como a emissão dos gases se alterou durante cada ano do período estudado."
   ]
  },
  {
   "cell_type": "code",
   "execution_count": 21,
   "id": "XUgIpiaIWVjR",
   "metadata": {
    "colab": {
     "base_uri": "https://localhost:8080/",
     "height": 403
    },
    "id": "XUgIpiaIWVjR",
    "outputId": "23dd21ee-8647-448e-8fdd-2a70d1cda6ed"
   },
   "outputs": [
    {
     "data": {
      "image/png": "[encoded data removed]",
      "text/plain": [
       "<Figure size 1296x540 with 1 Axes>"
      ]
     },
     "metadata": {
      "needs_background": "light"
     },
     "output_type": "display_data"
    }
   ],
   "source": [
    "ax = sns.lineplot(data=G20, x='year', y='value', hue='country_name', palette='tab20')\n",
    "ax.set_xlabel('Ano', fontsize = 14)\n",
    "ax.set_ylabel('CO2 em kilotoneladas (kt)', fontsize = 14)\n",
    "plt.suptitle('Emissão de CO2 em kilotoneladas (kt)', x = 0.5, y = 0.95, fontsize = 18)\n",
    "plt.title('Emissão de CO2 pelos Países Membros do G20 entre 1960 - 2019', x = 0.5, y = 1.0, fontsize = 14)\n",
    "ax.legend(loc='center left', bbox_to_anchor=(1, 0.5), edgecolor='white')\n",
    "ax = ax"
   ]
  },
  {
   "cell_type": "markdown",
   "id": "3VASnH9rf2p1",
   "metadata": {
    "id": "3VASnH9rf2p1"
   },
   "source": [
    "Em uma primeira análise é possível notar como o valor das emissões de CO₂ foi acelerado a partir dos anos 2000. Para melhorar a visualização do gráfico vamos considerar somente os 5 primeiros países do rank."
   ]
  },
  {
   "cell_type": "code",
   "execution_count": 22,
   "id": "FggzxZ_wtW5z",
   "metadata": {
    "id": "FggzxZ_wtW5z"
   },
   "outputs": [],
   "source": [
    "G5 = pd.DataFrame()\n",
    "\n",
    "for country in rank_G20['country_name'][:5]:\n",
    "    G5 = pd.concat([G5, df[df['country_name'] == country]])"
   ]
  },
  {
   "cell_type": "code",
   "execution_count": 23,
   "id": "zFE5utDht8Zc",
   "metadata": {
    "colab": {
     "base_uri": "https://localhost:8080/",
     "height": 403
    },
    "id": "zFE5utDht8Zc",
    "outputId": "784bc879-6c9d-41de-bc57-ded32ff2733b"
   },
   "outputs": [
    {
     "data": {
      "image/png": "[encoded data removed]",
      "text/plain": [
       "<Figure size 1296x540 with 1 Axes>"
      ]
     },
     "metadata": {
      "needs_background": "light"
     },
     "output_type": "display_data"
    }
   ],
   "source": [
    "ax = sns.lineplot(data=G5, x='year', y='value', hue='country_name')\n",
    "ax.set_xlabel('Ano', fontsize = 14)\n",
    "ax.set_ylabel('CO2 em kilotoneladas (kt)', fontsize = 14)\n",
    "plt.suptitle('Emissão de CO2 em kilotoneladas (kt)', x = 0.5, y = 0.95, fontsize = 18)\n",
    "plt.title('Emissão de CO2 pelos Países Membros do G20 entre 1960 - 2019', x = 0.5, y = 1.0, fontsize = 14)\n",
    "ax.legend(loc='center left', bbox_to_anchor=(1, 0.5), edgecolor='white')\n",
    "ax = ax"
   ]
  },
  {
   "cell_type": "code",
   "execution_count": 24,
   "id": "IvkaBoWCmYWz",
   "metadata": {
    "id": "IvkaBoWCmYWz"
   },
   "outputs": [],
   "source": [
    "G20_pivot = G20.pivot(index='year', columns='country_name', values='value')"
   ]
  },
  {
   "cell_type": "code",
   "execution_count": 25,
   "id": "CqDNwdZ2plOx",
   "metadata": {
    "colab": {
     "base_uri": "https://localhost:8080/"
    },
    "id": "CqDNwdZ2plOx",
    "outputId": "066ef5d2-bf2a-4429-b798-8cd31d61aa96"
   },
   "outputs": [
    {
     "name": "stdout",
     "output_type": "stream",
     "text": [
      "<class 'pandas.core.frame.DataFrame'>\n",
      "Int64Index: 60 entries, 1960 to 2019\n",
      "Data columns (total 20 columns):\n",
      " #   Column              Non-Null Count  Dtype  \n",
      "---  ------              --------------  -----  \n",
      " 0   Argentina           60 non-null     float64\n",
      " 1   Australia           60 non-null     float64\n",
      " 2   Brazil              60 non-null     float64\n",
      " 3   Canada              60 non-null     float64\n",
      " 4   China               60 non-null     float64\n",
      " 5   European Union      60 non-null     float64\n",
      " 6   France              60 non-null     float64\n",
      " 7   Germany             30 non-null     float64\n",
      " 8   India               60 non-null     float64\n",
      " 9   Indonesia           60 non-null     float64\n",
      " 10  Italy               60 non-null     float64\n",
      " 11  Japan               60 non-null     float64\n",
      " 12  Korea, Rep.         60 non-null     float64\n",
      " 13  Mexico              60 non-null     float64\n",
      " 14  Russian Federation  60 non-null     float64\n",
      " 15  Saudi Arabia        60 non-null     float64\n",
      " 16  South Africa        60 non-null     float64\n",
      " 17  Turkiye             60 non-null     float64\n",
      " 18  United Kingdom      60 non-null     float64\n",
      " 19  United States       60 non-null     float64\n",
      "dtypes: float64(20)\n",
      "memory usage: 9.8 KB\n"
     ]
    }
   ],
   "source": [
    "G20_pivot.info()"
   ]
  },
  {
   "cell_type": "code",
   "execution_count": 26,
   "id": "ogLzkVpTqAlV",
   "metadata": {
    "colab": {
     "base_uri": "https://localhost:8080/",
     "height": 319
    },
    "id": "ogLzkVpTqAlV",
    "outputId": "65600128-c6e5-4e6f-fd57-548c9b69fb62"
   },
   "outputs": [
    {
     "data": {
      "text/html": [
       "<div>\n",
       "<style scoped>\n",
       "    .dataframe tbody tr th:only-of-type {\n",
       "        vertical-align: middle;\n",
       "    }\n",
       "\n",
       "    .dataframe tbody tr th {\n",
       "        vertical-align: top;\n",
       "    }\n",
       "\n",
       "    .dataframe thead th {\n",
       "        text-align: right;\n",
       "    }\n",
       "</style>\n",
       "<table border=\"1\" class=\"dataframe\">\n",
       "  <thead>\n",
       "    <tr style=\"text-align: right;\">\n",
       "      <th>country_name</th>\n",
       "      <th>Argentina</th>\n",
       "      <th>Australia</th>\n",
       "      <th>Brazil</th>\n",
       "      <th>Canada</th>\n",
       "      <th>China</th>\n",
       "      <th>European Union</th>\n",
       "      <th>France</th>\n",
       "      <th>Germany</th>\n",
       "      <th>India</th>\n",
       "      <th>Indonesia</th>\n",
       "      <th>Italy</th>\n",
       "      <th>Japan</th>\n",
       "      <th>Korea, Rep.</th>\n",
       "      <th>Mexico</th>\n",
       "      <th>Russian Federation</th>\n",
       "      <th>Saudi Arabia</th>\n",
       "      <th>South Africa</th>\n",
       "      <th>Turkiye</th>\n",
       "      <th>United Kingdom</th>\n",
       "      <th>United States</th>\n",
       "    </tr>\n",
       "    <tr>\n",
       "      <th>year</th>\n",
       "      <th></th>\n",
       "      <th></th>\n",
       "      <th></th>\n",
       "      <th></th>\n",
       "      <th></th>\n",
       "      <th></th>\n",
       "      <th></th>\n",
       "      <th></th>\n",
       "      <th></th>\n",
       "      <th></th>\n",
       "      <th></th>\n",
       "      <th></th>\n",
       "      <th></th>\n",
       "      <th></th>\n",
       "      <th></th>\n",
       "      <th></th>\n",
       "      <th></th>\n",
       "      <th></th>\n",
       "      <th></th>\n",
       "      <th></th>\n",
       "    </tr>\n",
       "  </thead>\n",
       "  <tbody>\n",
       "    <tr>\n",
       "      <th>1960</th>\n",
       "      <td>48815.104</td>\n",
       "      <td>88202.351</td>\n",
       "      <td>46908.264</td>\n",
       "      <td>192895.201</td>\n",
       "      <td>780726.302</td>\n",
       "      <td>1.687911e+06</td>\n",
       "      <td>271218.654</td>\n",
       "      <td>NaN</td>\n",
       "      <td>120581.961</td>\n",
       "      <td>21404.279</td>\n",
       "      <td>109357.274</td>\n",
       "      <td>232781.160</td>\n",
       "      <td>12552.141</td>\n",
       "      <td>63116.404</td>\n",
       "      <td>1448637.349</td>\n",
       "      <td>2676.910</td>\n",
       "      <td>97934.569</td>\n",
       "      <td>16820.529</td>\n",
       "      <td>584299.780</td>\n",
       "      <td>2890696.100</td>\n",
       "    </tr>\n",
       "    <tr>\n",
       "      <th>1961</th>\n",
       "      <td>51180.319</td>\n",
       "      <td>90589.568</td>\n",
       "      <td>49203.806</td>\n",
       "      <td>194182.318</td>\n",
       "      <td>552066.850</td>\n",
       "      <td>1.775817e+06</td>\n",
       "      <td>281211.229</td>\n",
       "      <td>NaN</td>\n",
       "      <td>130402.187</td>\n",
       "      <td>26024.699</td>\n",
       "      <td>124549.655</td>\n",
       "      <td>283118.069</td>\n",
       "      <td>14462.648</td>\n",
       "      <td>65305.603</td>\n",
       "      <td>1493932.133</td>\n",
       "      <td>3571.658</td>\n",
       "      <td>102213.958</td>\n",
       "      <td>17363.245</td>\n",
       "      <td>588938.535</td>\n",
       "      <td>2880505.507</td>\n",
       "    </tr>\n",
       "    <tr>\n",
       "      <th>1962</th>\n",
       "      <td>53695.881</td>\n",
       "      <td>94912.961</td>\n",
       "      <td>53695.881</td>\n",
       "      <td>207185.500</td>\n",
       "      <td>440359.029</td>\n",
       "      <td>1.924617e+06</td>\n",
       "      <td>298706.486</td>\n",
       "      <td>NaN</td>\n",
       "      <td>143467.708</td>\n",
       "      <td>22995.757</td>\n",
       "      <td>146456.313</td>\n",
       "      <td>293220.654</td>\n",
       "      <td>17278.904</td>\n",
       "      <td>63809.467</td>\n",
       "      <td>1567950.528</td>\n",
       "      <td>6255.902</td>\n",
       "      <td>105767.281</td>\n",
       "      <td>21631.633</td>\n",
       "      <td>593360.937</td>\n",
       "      <td>2987207.873</td>\n",
       "    </tr>\n",
       "    <tr>\n",
       "      <th>1963</th>\n",
       "      <td>50083.886</td>\n",
       "      <td>101029.517</td>\n",
       "      <td>55617.389</td>\n",
       "      <td>211109.190</td>\n",
       "      <td>436695.696</td>\n",
       "      <td>2.102661e+06</td>\n",
       "      <td>334019.696</td>\n",
       "      <td>NaN</td>\n",
       "      <td>154083.673</td>\n",
       "      <td>22783.071</td>\n",
       "      <td>164780.312</td>\n",
       "      <td>325222.563</td>\n",
       "      <td>21103.585</td>\n",
       "      <td>66361.699</td>\n",
       "      <td>1681524.852</td>\n",
       "      <td>6945.298</td>\n",
       "      <td>109826.650</td>\n",
       "      <td>22669.394</td>\n",
       "      <td>603822.888</td>\n",
       "      <td>3119230.874</td>\n",
       "    </tr>\n",
       "    <tr>\n",
       "      <th>1964</th>\n",
       "      <td>55727.399</td>\n",
       "      <td>108979.573</td>\n",
       "      <td>56735.824</td>\n",
       "      <td>237801.283</td>\n",
       "      <td>436923.050</td>\n",
       "      <td>2.223324e+06</td>\n",
       "      <td>345303.055</td>\n",
       "      <td>NaN</td>\n",
       "      <td>150647.694</td>\n",
       "      <td>22394.369</td>\n",
       "      <td>175957.328</td>\n",
       "      <td>359318.329</td>\n",
       "      <td>22218.353</td>\n",
       "      <td>74278.752</td>\n",
       "      <td>1788304.225</td>\n",
       "      <td>7047.974</td>\n",
       "      <td>119657.877</td>\n",
       "      <td>26336.394</td>\n",
       "      <td>608355.300</td>\n",
       "      <td>3255995.306</td>\n",
       "    </tr>\n",
       "  </tbody>\n",
       "</table>\n",
       "</div>"
      ],
      "text/plain": [
       "country_name  Argentina   Australia     Brazil      Canada       China  \\\n",
       "year                                                                     \n",
       "1960          48815.104   88202.351  46908.264  192895.201  780726.302   \n",
       "1961          51180.319   90589.568  49203.806  194182.318  552066.850   \n",
       "1962          53695.881   94912.961  53695.881  207185.500  440359.029   \n",
       "1963          50083.886  101029.517  55617.389  211109.190  436695.696   \n",
       "1964          55727.399  108979.573  56735.824  237801.283  436923.050   \n",
       "\n",
       "country_name  European Union      France  Germany       India  Indonesia  \\\n",
       "year                                                                       \n",
       "1960            1.687911e+06  271218.654      NaN  120581.961  21404.279   \n",
       "1961            1.775817e+06  281211.229      NaN  130402.187  26024.699   \n",
       "1962            1.924617e+06  298706.486      NaN  143467.708  22995.757   \n",
       "1963            2.102661e+06  334019.696      NaN  154083.673  22783.071   \n",
       "1964            2.223324e+06  345303.055      NaN  150647.694  22394.369   \n",
       "\n",
       "country_name       Italy       Japan  Korea, Rep.     Mexico  \\\n",
       "year                                                           \n",
       "1960          109357.274  232781.160    12552.141  63116.404   \n",
       "1961          124549.655  283118.069    14462.648  65305.603   \n",
       "1962          146456.313  293220.654    17278.904  63809.467   \n",
       "1963          164780.312  325222.563    21103.585  66361.699   \n",
       "1964          175957.328  359318.329    22218.353  74278.752   \n",
       "\n",
       "country_name  Russian Federation  Saudi Arabia  South Africa    Turkiye  \\\n",
       "year                                                                      \n",
       "1960                 1448637.349      2676.910     97934.569  16820.529   \n",
       "1961                 1493932.133      3571.658    102213.958  17363.245   \n",
       "1962                 1567950.528      6255.902    105767.281  21631.633   \n",
       "1963                 1681524.852      6945.298    109826.650  22669.394   \n",
       "1964                 1788304.225      7047.974    119657.877  26336.394   \n",
       "\n",
       "country_name  United Kingdom  United States  \n",
       "year                                         \n",
       "1960              584299.780    2890696.100  \n",
       "1961              588938.535    2880505.507  \n",
       "1962              593360.937    2987207.873  \n",
       "1963              603822.888    3119230.874  \n",
       "1964              608355.300    3255995.306  "
      ]
     },
     "execution_count": 26,
     "metadata": {},
     "output_type": "execute_result"
    }
   ],
   "source": [
    "G20_pivot.head()"
   ]
  },
  {
   "cell_type": "code",
   "execution_count": 27,
   "id": "BJrJNvuLOIs0",
   "metadata": {
    "colab": {
     "base_uri": "https://localhost:8080/",
     "height": 1000
    },
    "id": "BJrJNvuLOIs0",
    "outputId": "4fcc5856-e7cd-4631-fe8f-f68354290d9d"
   },
   "outputs": [
    {
     "data": {
      "text/html": [
       "<div>\n",
       "<style scoped>\n",
       "    .dataframe tbody tr th:only-of-type {\n",
       "        vertical-align: middle;\n",
       "    }\n",
       "\n",
       "    .dataframe tbody tr th {\n",
       "        vertical-align: top;\n",
       "    }\n",
       "\n",
       "    .dataframe thead th {\n",
       "        text-align: right;\n",
       "    }\n",
       "</style>\n",
       "<table border=\"1\" class=\"dataframe\">\n",
       "  <thead>\n",
       "    <tr style=\"text-align: right;\">\n",
       "      <th>country_name</th>\n",
       "      <th>Argentina</th>\n",
       "      <th>Australia</th>\n",
       "      <th>Brazil</th>\n",
       "      <th>Canada</th>\n",
       "      <th>China</th>\n",
       "      <th>European Union</th>\n",
       "      <th>France</th>\n",
       "      <th>Germany</th>\n",
       "      <th>India</th>\n",
       "      <th>Indonesia</th>\n",
       "      <th>Italy</th>\n",
       "      <th>Japan</th>\n",
       "      <th>Korea, Rep.</th>\n",
       "      <th>Mexico</th>\n",
       "      <th>Russian Federation</th>\n",
       "      <th>Saudi Arabia</th>\n",
       "      <th>South Africa</th>\n",
       "      <th>Turkiye</th>\n",
       "      <th>United Kingdom</th>\n",
       "      <th>United States</th>\n",
       "    </tr>\n",
       "    <tr>\n",
       "      <th>year</th>\n",
       "      <th></th>\n",
       "      <th></th>\n",
       "      <th></th>\n",
       "      <th></th>\n",
       "      <th></th>\n",
       "      <th></th>\n",
       "      <th></th>\n",
       "      <th></th>\n",
       "      <th></th>\n",
       "      <th></th>\n",
       "      <th></th>\n",
       "      <th></th>\n",
       "      <th></th>\n",
       "      <th></th>\n",
       "      <th></th>\n",
       "      <th></th>\n",
       "      <th></th>\n",
       "      <th></th>\n",
       "      <th></th>\n",
       "      <th></th>\n",
       "    </tr>\n",
       "  </thead>\n",
       "  <tbody>\n",
       "    <tr>\n",
       "      <th>1960</th>\n",
       "      <td>48815.104</td>\n",
       "      <td>88202.351</td>\n",
       "      <td>46908.264</td>\n",
       "      <td>192895.201</td>\n",
       "      <td>780726.302</td>\n",
       "      <td>1.687911e+06</td>\n",
       "      <td>271218.654</td>\n",
       "      <td>NaN</td>\n",
       "      <td>120581.961</td>\n",
       "      <td>21404.279</td>\n",
       "      <td>109357.274</td>\n",
       "      <td>232781.160</td>\n",
       "      <td>12552.141</td>\n",
       "      <td>63116.404</td>\n",
       "      <td>1448637.349</td>\n",
       "      <td>2676.910</td>\n",
       "      <td>97934.569</td>\n",
       "      <td>16820.529</td>\n",
       "      <td>584299.780</td>\n",
       "      <td>2.890696e+06</td>\n",
       "    </tr>\n",
       "    <tr>\n",
       "      <th>1961</th>\n",
       "      <td>99995.423</td>\n",
       "      <td>178791.919</td>\n",
       "      <td>96112.070</td>\n",
       "      <td>387077.519</td>\n",
       "      <td>1332793.152</td>\n",
       "      <td>3.463727e+06</td>\n",
       "      <td>552429.883</td>\n",
       "      <td>NaN</td>\n",
       "      <td>250984.148</td>\n",
       "      <td>47428.978</td>\n",
       "      <td>233906.929</td>\n",
       "      <td>515899.229</td>\n",
       "      <td>27014.789</td>\n",
       "      <td>128422.007</td>\n",
       "      <td>2942569.482</td>\n",
       "      <td>6248.568</td>\n",
       "      <td>200148.527</td>\n",
       "      <td>34183.774</td>\n",
       "      <td>1173238.315</td>\n",
       "      <td>5.771202e+06</td>\n",
       "    </tr>\n",
       "    <tr>\n",
       "      <th>1962</th>\n",
       "      <td>153691.304</td>\n",
       "      <td>273704.880</td>\n",
       "      <td>149807.951</td>\n",
       "      <td>594263.019</td>\n",
       "      <td>1773152.181</td>\n",
       "      <td>5.388345e+06</td>\n",
       "      <td>851136.369</td>\n",
       "      <td>NaN</td>\n",
       "      <td>394451.856</td>\n",
       "      <td>70424.735</td>\n",
       "      <td>380363.242</td>\n",
       "      <td>809119.883</td>\n",
       "      <td>44293.693</td>\n",
       "      <td>192231.474</td>\n",
       "      <td>4510520.010</td>\n",
       "      <td>12504.470</td>\n",
       "      <td>305915.808</td>\n",
       "      <td>55815.407</td>\n",
       "      <td>1766599.252</td>\n",
       "      <td>8.758409e+06</td>\n",
       "    </tr>\n",
       "    <tr>\n",
       "      <th>1963</th>\n",
       "      <td>203775.190</td>\n",
       "      <td>374734.397</td>\n",
       "      <td>205425.340</td>\n",
       "      <td>805372.209</td>\n",
       "      <td>2209847.877</td>\n",
       "      <td>7.491006e+06</td>\n",
       "      <td>1185156.065</td>\n",
       "      <td>NaN</td>\n",
       "      <td>548535.529</td>\n",
       "      <td>93207.806</td>\n",
       "      <td>545143.554</td>\n",
       "      <td>1134342.446</td>\n",
       "      <td>65397.278</td>\n",
       "      <td>258593.173</td>\n",
       "      <td>6192044.862</td>\n",
       "      <td>19449.768</td>\n",
       "      <td>415742.458</td>\n",
       "      <td>78484.801</td>\n",
       "      <td>2370422.140</td>\n",
       "      <td>1.187764e+07</td>\n",
       "    </tr>\n",
       "    <tr>\n",
       "      <th>1964</th>\n",
       "      <td>259502.589</td>\n",
       "      <td>483713.970</td>\n",
       "      <td>262161.164</td>\n",
       "      <td>1043173.492</td>\n",
       "      <td>2646770.927</td>\n",
       "      <td>9.714330e+06</td>\n",
       "      <td>1530459.120</td>\n",
       "      <td>NaN</td>\n",
       "      <td>699183.223</td>\n",
       "      <td>115602.175</td>\n",
       "      <td>721100.882</td>\n",
       "      <td>1493660.775</td>\n",
       "      <td>87615.631</td>\n",
       "      <td>332871.925</td>\n",
       "      <td>7980349.087</td>\n",
       "      <td>26497.742</td>\n",
       "      <td>535400.335</td>\n",
       "      <td>104821.195</td>\n",
       "      <td>2978777.440</td>\n",
       "      <td>1.513364e+07</td>\n",
       "    </tr>\n",
       "  </tbody>\n",
       "</table>\n",
       "</div>"
      ],
      "text/plain": [
       "country_name   Argentina   Australia      Brazil       Canada        China  \\\n",
       "year                                                                         \n",
       "1960           48815.104   88202.351   46908.264   192895.201   780726.302   \n",
       "1961           99995.423  178791.919   96112.070   387077.519  1332793.152   \n",
       "1962          153691.304  273704.880  149807.951   594263.019  1773152.181   \n",
       "1963          203775.190  374734.397  205425.340   805372.209  2209847.877   \n",
       "1964          259502.589  483713.970  262161.164  1043173.492  2646770.927   \n",
       "\n",
       "country_name  European Union       France  Germany       India   Indonesia  \\\n",
       "year                                                                         \n",
       "1960            1.687911e+06   271218.654      NaN  120581.961   21404.279   \n",
       "1961            3.463727e+06   552429.883      NaN  250984.148   47428.978   \n",
       "1962            5.388345e+06   851136.369      NaN  394451.856   70424.735   \n",
       "1963            7.491006e+06  1185156.065      NaN  548535.529   93207.806   \n",
       "1964            9.714330e+06  1530459.120      NaN  699183.223  115602.175   \n",
       "\n",
       "country_name       Italy        Japan  Korea, Rep.      Mexico  \\\n",
       "year                                                             \n",
       "1960          109357.274   232781.160    12552.141   63116.404   \n",
       "1961          233906.929   515899.229    27014.789  128422.007   \n",
       "1962          380363.242   809119.883    44293.693  192231.474   \n",
       "1963          545143.554  1134342.446    65397.278  258593.173   \n",
       "1964          721100.882  1493660.775    87615.631  332871.925   \n",
       "\n",
       "country_name  Russian Federation  Saudi Arabia  South Africa     Turkiye  \\\n",
       "year                                                                       \n",
       "1960                 1448637.349      2676.910     97934.569   16820.529   \n",
       "1961                 2942569.482      6248.568    200148.527   34183.774   \n",
       "1962                 4510520.010     12504.470    305915.808   55815.407   \n",
       "1963                 6192044.862     19449.768    415742.458   78484.801   \n",
       "1964                 7980349.087     26497.742    535400.335  104821.195   \n",
       "\n",
       "country_name  United Kingdom  United States  \n",
       "year                                         \n",
       "1960              584299.780   2.890696e+06  \n",
       "1961             1173238.315   5.771202e+06  \n",
       "1962             1766599.252   8.758409e+06  \n",
       "1963             2370422.140   1.187764e+07  \n",
       "1964             2978777.440   1.513364e+07  "
      ]
     },
     "execution_count": 27,
     "metadata": {},
     "output_type": "execute_result"
    }
   ],
   "source": [
    "G20_pivot.cumsum().head()"
   ]
  },
  {
   "cell_type": "code",
   "execution_count": 28,
   "id": "lHj5KnjxNW0H",
   "metadata": {
    "id": "lHj5KnjxNW0H"
   },
   "outputs": [],
   "source": [
    "# Vídeo disponível no repositório\n",
    "import bar_chart_race as bcr\n",
    "bcr.bar_chart_race(df=G20_pivot.cumsum(), \n",
    "                   title=\"Emissão de CO2 1960 - 2019\",\n",
    "                   filename=\"Outputs/emissao_co2.mp4\")"
   ]
  },
  {
   "cell_type": "markdown",
   "id": "98ef7075",
   "metadata": {},
   "source": [
    "## 2.2 Explorando o Aumento da Emissão de CO₂ pela China"
   ]
  },
  {
   "cell_type": "markdown",
   "id": "a3225720",
   "metadata": {},
   "source": [
    "Nesse tópico vamos explorar a emissão de CO₂ pela China durante todo a série histórica disponível."
   ]
  },
  {
   "cell_type": "code",
   "execution_count": 29,
   "id": "bb819c88",
   "metadata": {},
   "outputs": [],
   "source": [
    "china = df[df['country_name'] == 'China']"
   ]
  },
  {
   "cell_type": "code",
   "execution_count": 30,
   "id": "33ebea8e",
   "metadata": {
    "scrolled": false
   },
   "outputs": [
    {
     "data": {
      "image/png": "[encoded data removed]",
      "text/plain": [
       "<Figure size 1296x540 with 1 Axes>"
      ]
     },
     "metadata": {
      "needs_background": "light"
     },
     "output_type": "display_data"
    }
   ],
   "source": [
    "ax = sns.lineplot(data=china, x='year', y='value', hue='country_name')\n",
    "ax.set_xlabel('Ano', fontsize = 14)\n",
    "ax.set_ylabel('CO2 em kilotoneladas (kt)', fontsize = 14)\n",
    "plt.suptitle('Emissão de CO2 em kilotoneladas (kt)', x = 0.5, y = 0.95, fontsize = 18)\n",
    "plt.title('Emissão de CO2 pela China (1960 - 2019)', x = 0.5, y = 1.0, fontsize = 14)\n",
    "ax.legend(loc='center left', bbox_to_anchor=(1, 0.5), edgecolor='white')\n",
    "ax = ax"
   ]
  },
  {
   "cell_type": "code",
   "execution_count": 31,
   "id": "b5f28465",
   "metadata": {
    "scrolled": false
   },
   "outputs": [
    {
     "data": {
      "image/png": "[encoded data removed]",
      "text/plain": [
       "<Figure size 864x432 with 1 Axes>"
      ]
     },
     "metadata": {
      "needs_background": "light"
     },
     "output_type": "display_data"
    }
   ],
   "source": [
    "ax = sns.lmplot(data=china, x='year', y='value')\n",
    "ax.fig.set_size_inches(12, 6)\n",
    "ax.fig.suptitle('Reta de Regressão - Ano x Emissão CO2', fontsize=16, y=1.02)\n",
    "ax.set_xlabels(\"Anos (1960 - 2019)\", fontsize=14)\n",
    "ax.set_ylabels(\"CO2 em kilotoneladas (kt)\", fontsize=14)\n",
    "ax = ax"
   ]
  },
  {
   "cell_type": "markdown",
   "id": "e8b77c52",
   "metadata": {},
   "source": [
    "Explorando o coeficiente de correlação de Pearson é possível notar que quando os períodos são analisados individualmente os valores apresentam uma correlação mais forte."
   ]
  },
  {
   "cell_type": "code",
   "execution_count": 32,
   "id": "5901e334",
   "metadata": {},
   "outputs": [
    {
     "data": {
      "text/html": [
       "<div>\n",
       "<style scoped>\n",
       "    .dataframe tbody tr th:only-of-type {\n",
       "        vertical-align: middle;\n",
       "    }\n",
       "\n",
       "    .dataframe tbody tr th {\n",
       "        vertical-align: top;\n",
       "    }\n",
       "\n",
       "    .dataframe thead th {\n",
       "        text-align: right;\n",
       "    }\n",
       "</style>\n",
       "<table border=\"1\" class=\"dataframe\">\n",
       "  <thead>\n",
       "    <tr style=\"text-align: right;\">\n",
       "      <th></th>\n",
       "      <th>Correlation</th>\n",
       "    </tr>\n",
       "  </thead>\n",
       "  <tbody>\n",
       "    <tr>\n",
       "      <th>1969-2019</th>\n",
       "      <td>0.912331</td>\n",
       "    </tr>\n",
       "    <tr>\n",
       "      <th>1969-2000</th>\n",
       "      <td>0.978877</td>\n",
       "    </tr>\n",
       "    <tr>\n",
       "      <th>2001-2019</th>\n",
       "      <td>0.967879</td>\n",
       "    </tr>\n",
       "  </tbody>\n",
       "</table>\n",
       "</div>"
      ],
      "text/plain": [
       "           Correlation\n",
       "1969-2019     0.912331\n",
       "1969-2000     0.978877\n",
       "2001-2019     0.967879"
      ]
     },
     "execution_count": 32,
     "metadata": {},
     "output_type": "execute_result"
    }
   ],
   "source": [
    "corr_all_period = china[['year', 'value']].corr().loc['year']['value']\n",
    "corr_until_2000 = china[china['year'] <= 2000][['year', 'value']].corr().loc['year']['value']\n",
    "corr_after_2000 = china[china['year'] > 2000][['year', 'value']].corr().loc['year']['value']\n",
    "\n",
    "pd.DataFrame({'Correlation': [corr_all_period, corr_until_2000, corr_after_2000]}, \n",
    "              index=['1969-2019', '1969-2000', '2001-2019'])"
   ]
  },
  {
   "cell_type": "markdown",
   "id": "4be538a8",
   "metadata": {},
   "source": [
    "Como vimos anteriormente, a China apresentou um aumento drástico nas emissões de CO₂ a partir dos anos 2000. Vamos explorar esse coeficiente de forma separada."
   ]
  },
  {
   "cell_type": "markdown",
   "id": "31b20bd5",
   "metadata": {},
   "source": [
    "### 2.2.2 China 1960 - 2000"
   ]
  },
  {
   "cell_type": "code",
   "execution_count": 33,
   "id": "26a3a940",
   "metadata": {
    "scrolled": false
   },
   "outputs": [
    {
     "data": {
      "image/png": "[encoded data removed]",
      "text/plain": [
       "<Figure size 864x432 with 1 Axes>"
      ]
     },
     "metadata": {
      "needs_background": "light"
     },
     "output_type": "display_data"
    }
   ],
   "source": [
    "ax = sns.lmplot(data=china[china['year'] <= 2000], x='year', y='value')\n",
    "ax.fig.set_size_inches(12, 6)\n",
    "ax.fig.suptitle('Reta de Regressão - Ano x Emissão CO2', fontsize=16, y=1.02)\n",
    "ax.set_xlabels(\"Anos (1960 - 2000)\", fontsize=14)\n",
    "ax.set_ylabels(\"CO2 em kilotoneladas (kt)\", fontsize=14)\n",
    "ax = ax"
   ]
  },
  {
   "cell_type": "code",
   "execution_count": 34,
   "id": "cabcdefa",
   "metadata": {},
   "outputs": [],
   "source": [
    "Y = china[china['year'] <= 2000][['year', 'value']]['value']"
   ]
  },
  {
   "cell_type": "code",
   "execution_count": 35,
   "id": "cbf34d81",
   "metadata": {},
   "outputs": [],
   "source": [
    "X = sm.add_constant(china[china['year'] <= 2000][['year', 'value']]['year'])"
   ]
  },
  {
   "cell_type": "code",
   "execution_count": 36,
   "id": "d7a595a0",
   "metadata": {},
   "outputs": [],
   "source": [
    "regression_1969_2000 = sm.OLS(Y, X).fit()"
   ]
  },
  {
   "cell_type": "code",
   "execution_count": 37,
   "id": "2ac3252e",
   "metadata": {},
   "outputs": [
    {
     "data": {
      "text/plain": [
       "const   -1.512329e+08\n",
       "year     7.720079e+04\n",
       "dtype: float64"
      ]
     },
     "execution_count": 37,
     "metadata": {},
     "output_type": "execute_result"
    }
   ],
   "source": [
    "regression_1969_2000.params"
   ]
  },
  {
   "cell_type": "code",
   "execution_count": 38,
   "id": "a19eae10",
   "metadata": {},
   "outputs": [
    {
     "name": "stdout",
     "output_type": "stream",
     "text": [
      "                            OLS Regression Results                            \n",
      "==============================================================================\n",
      "Dep. Variable:                  value   R-squared:                       0.958\n",
      "Model:                            OLS   Adj. R-squared:                  0.957\n",
      "Method:                 Least Squares   F-statistic:                     894.0\n",
      "Date:                Sun, 26 Mar 2023   Prob (F-statistic):           1.68e-28\n",
      "Time:                        19:59:08   Log-Likelihood:                -556.69\n",
      "No. Observations:                  41   AIC:                             1117.\n",
      "Df Residuals:                      39   BIC:                             1121.\n",
      "Df Model:                           1                                         \n",
      "Covariance Type:            nonrobust                                         \n",
      "==============================================================================\n",
      "                 coef    std err          t      P>|t|      [0.025      0.975]\n",
      "------------------------------------------------------------------------------\n",
      "const      -1.512e+08   5.11e+06    -29.582      0.000   -1.62e+08   -1.41e+08\n",
      "year         7.72e+04   2581.950     29.900      0.000     7.2e+04    8.24e+04\n",
      "==============================================================================\n",
      "Omnibus:                       17.993   Durbin-Watson:                   0.329\n",
      "Prob(Omnibus):                  0.000   Jarque-Bera (JB):               23.710\n",
      "Skew:                           1.364   Prob(JB):                     7.10e-06\n",
      "Kurtosis:                       5.536   Cond. No.                     3.31e+05\n",
      "==============================================================================\n",
      "\n",
      "Notes:\n",
      "[1] Standard Errors assume that the covariance matrix of the errors is correctly specified.\n",
      "[2] The condition number is large, 3.31e+05. This might indicate that there are\n",
      "strong multicollinearity or other numerical problems.\n"
     ]
    }
   ],
   "source": [
    "print(regression_1969_2000.summary())"
   ]
  },
  {
   "cell_type": "markdown",
   "id": "644d151f",
   "metadata": {},
   "source": [
    "# $$Y_i = \\beta_1 + \\beta_2X_i$$"
   ]
  },
  {
   "cell_type": "markdown",
   "id": "65366e8e",
   "metadata": {},
   "source": [
    "# $$Y_i = (-1,5123.10^{8}) + 7,7201.10^{4}X_i$$"
   ]
  },
  {
   "cell_type": "code",
   "execution_count": 39,
   "id": "e9d9f344",
   "metadata": {},
   "outputs": [],
   "source": [
    "beta_2 = regression_1969_2000.params[1]\n",
    "beta_1 = regression_1969_2000.params[0]"
   ]
  },
  {
   "cell_type": "code",
   "execution_count": 40,
   "id": "406d3145",
   "metadata": {},
   "outputs": [],
   "source": [
    "def previsao(ano):\n",
    "    y = beta_1 + beta_2 * ano\n",
    "    return y"
   ]
  },
  {
   "cell_type": "code",
   "execution_count": 41,
   "id": "b012eb2b",
   "metadata": {},
   "outputs": [
    {
     "data": {
      "text/plain": [
       "2628272.003194213"
      ]
     },
     "execution_count": 41,
     "metadata": {},
     "output_type": "execute_result"
    }
   ],
   "source": [
    "previsao(1993)"
   ]
  },
  {
   "cell_type": "code",
   "execution_count": 42,
   "id": "9d819ac8",
   "metadata": {},
   "outputs": [
    {
     "data": {
      "text/html": [
       "<div>\n",
       "<style scoped>\n",
       "    .dataframe tbody tr th:only-of-type {\n",
       "        vertical-align: middle;\n",
       "    }\n",
       "\n",
       "    .dataframe tbody tr th {\n",
       "        vertical-align: top;\n",
       "    }\n",
       "\n",
       "    .dataframe thead th {\n",
       "        text-align: right;\n",
       "    }\n",
       "</style>\n",
       "<table border=\"1\" class=\"dataframe\">\n",
       "  <thead>\n",
       "    <tr style=\"text-align: right;\">\n",
       "      <th></th>\n",
       "      <th>country_code</th>\n",
       "      <th>country_name</th>\n",
       "      <th>year</th>\n",
       "      <th>value</th>\n",
       "    </tr>\n",
       "  </thead>\n",
       "  <tbody>\n",
       "    <tr>\n",
       "      <th>2133</th>\n",
       "      <td>CHN</td>\n",
       "      <td>China</td>\n",
       "      <td>1993</td>\n",
       "      <td>2645410.0</td>\n",
       "    </tr>\n",
       "  </tbody>\n",
       "</table>\n",
       "</div>"
      ],
      "text/plain": [
       "     country_code country_name  year      value\n",
       "2133          CHN        China  1993  2645410.0"
      ]
     },
     "execution_count": 42,
     "metadata": {},
     "output_type": "execute_result"
    }
   ],
   "source": [
    "china[china['year'] == 1993]"
   ]
  },
  {
   "cell_type": "markdown",
   "id": "3913f74a",
   "metadata": {},
   "source": [
    "### 2.2.3 China 2001 - 2019"
   ]
  },
  {
   "cell_type": "code",
   "execution_count": 43,
   "id": "5b8c2e3d",
   "metadata": {
    "scrolled": false
   },
   "outputs": [
    {
     "data": {
      "image/png": "[encoded data removed]",
      "text/plain": [
       "<Figure size 864x432 with 1 Axes>"
      ]
     },
     "metadata": {
      "needs_background": "light"
     },
     "output_type": "display_data"
    }
   ],
   "source": [
    "ax = sns.lmplot(data=china[china['year'] > 2000], x='year', y='value')\n",
    "ax.fig.set_size_inches(12, 6)\n",
    "ax.fig.suptitle('Reta de Regressão - Ano x Emissão CO2', fontsize=16, y=1.02)\n",
    "ax.set_xlabels(\"Anos (2000 - 2019)\", fontsize=14)\n",
    "ax.set_ylabels(\"CO2 em kilotoneladas (kt)\", fontsize=14)\n",
    "plt.xticks([x for x in range(2001, 2020, 2)])\n",
    "ax = ax"
   ]
  },
  {
   "cell_type": "code",
   "execution_count": 44,
   "id": "860e8027",
   "metadata": {},
   "outputs": [],
   "source": [
    "Y_2 = china[china['year'] > 2000][['year', 'value']]['value']"
   ]
  },
  {
   "cell_type": "code",
   "execution_count": 45,
   "id": "52c772bd",
   "metadata": {},
   "outputs": [],
   "source": [
    "X_2 = sm.add_constant(china[china['year'] > 2000][['year', 'value']]['year'])"
   ]
  },
  {
   "cell_type": "code",
   "execution_count": 46,
   "id": "dc8edabc",
   "metadata": {},
   "outputs": [],
   "source": [
    "regression_2001_2019 = sm.OLS(Y_2, X_2).fit()"
   ]
  },
  {
   "cell_type": "code",
   "execution_count": 47,
   "id": "b709da1b",
   "metadata": {},
   "outputs": [
    {
     "data": {
      "text/plain": [
       "const   -8.246559e+08\n",
       "year     4.141882e+05\n",
       "dtype: float64"
      ]
     },
     "execution_count": 47,
     "metadata": {},
     "output_type": "execute_result"
    }
   ],
   "source": [
    "regression_2001_2019.params"
   ]
  },
  {
   "cell_type": "code",
   "execution_count": 48,
   "id": "ba06db9e",
   "metadata": {},
   "outputs": [
    {
     "name": "stdout",
     "output_type": "stream",
     "text": [
      "                            OLS Regression Results                            \n",
      "==============================================================================\n",
      "Dep. Variable:                  value   R-squared:                       0.937\n",
      "Model:                            OLS   Adj. R-squared:                  0.933\n",
      "Method:                 Least Squares   F-statistic:                     251.9\n",
      "Date:                Sun, 26 Mar 2023   Prob (F-statistic):           1.26e-11\n",
      "Time:                        19:59:09   Log-Likelihood:                -279.41\n",
      "No. Observations:                  19   AIC:                             562.8\n",
      "Df Residuals:                      17   BIC:                             564.7\n",
      "Df Model:                           1                                         \n",
      "Covariance Type:            nonrobust                                         \n",
      "==============================================================================\n",
      "                 coef    std err          t      P>|t|      [0.025      0.975]\n",
      "------------------------------------------------------------------------------\n",
      "const      -8.247e+08   5.24e+07    -15.723      0.000   -9.35e+08   -7.14e+08\n",
      "year        4.142e+05   2.61e+04     15.873      0.000    3.59e+05    4.69e+05\n",
      "==============================================================================\n",
      "Omnibus:                        3.520   Durbin-Watson:                   0.203\n",
      "Prob(Omnibus):                  0.172   Jarque-Bera (JB):                1.345\n",
      "Skew:                           0.141   Prob(JB):                        0.510\n",
      "Kurtosis:                       1.728   Cond. No.                     7.38e+05\n",
      "==============================================================================\n",
      "\n",
      "Notes:\n",
      "[1] Standard Errors assume that the covariance matrix of the errors is correctly specified.\n",
      "[2] The condition number is large, 7.38e+05. This might indicate that there are\n",
      "strong multicollinearity or other numerical problems.\n"
     ]
    }
   ],
   "source": [
    "print(regression_2001_2019.summary())"
   ]
  },
  {
   "cell_type": "markdown",
   "id": "fad5f237",
   "metadata": {},
   "source": [
    "# $$Y_i = \\beta_1 + \\beta_2X_i$$"
   ]
  },
  {
   "cell_type": "markdown",
   "id": "ad41ac7d",
   "metadata": {},
   "source": [
    "# $$Y_i = (-8.2465.10^{8}) + 4,1418.10^{5}X_i$$"
   ]
  },
  {
   "cell_type": "code",
   "execution_count": 49,
   "id": "5d16a7b7",
   "metadata": {},
   "outputs": [],
   "source": [
    "beta_2 = regression_2001_2019.params[1]\n",
    "beta_1 = regression_2001_2019.params[0]"
   ]
  },
  {
   "cell_type": "code",
   "execution_count": 50,
   "id": "3d82c014",
   "metadata": {},
   "outputs": [],
   "source": [
    "def previsao_2001_2019(ano):\n",
    "    y = beta_1 + beta_2 * ano\n",
    "    return y"
   ]
  },
  {
   "cell_type": "code",
   "execution_count": 51,
   "id": "5f9a2eb0",
   "metadata": {},
   "outputs": [
    {
     "data": {
      "text/plain": [
       "9933379.011101961"
      ]
     },
     "execution_count": 51,
     "metadata": {},
     "output_type": "execute_result"
    }
   ],
   "source": [
    "previsao_2001_2019(2015)"
   ]
  },
  {
   "cell_type": "code",
   "execution_count": 52,
   "id": "518f134c",
   "metadata": {},
   "outputs": [
    {
     "data": {
      "text/plain": [
       "2155    9.861100e+06\n",
       "Name: value, dtype: float64"
      ]
     },
     "execution_count": 52,
     "metadata": {},
     "output_type": "execute_result"
    }
   ],
   "source": [
    "china[china['year'] == 2015]['value']"
   ]
  },
  {
   "cell_type": "markdown",
   "id": "rEhPmOWS08Pp",
   "metadata": {
    "id": "rEhPmOWS08Pp"
   },
   "source": [
    "# Referências Bibliográficas\n",
    "\n",
    "[1] TCU. Líderes de instituições superiores de controle do G20 apontam desafios do mundo pós-pandêmico. Portal TCU, Brasília, 18 mar. 2021. Disponível em: https://portal.tcu.gov.br/imprensa/noticias/lideres-de-instituicoes-superiores-de-controle-do-g20-apontam-desafios-do-mundo-pos-pandemico.htm. Acesso em: 23 mar. 2023.\n",
    "\n",
    "[2] HISTÓRIA DO MUNDO. Reunificação da Alemanha. [S.l.], 2021. Disponível em: https://www.historiadomundo.com.br/idade-contemporanea/reunicacao-alemanha.htm#. Acesso em: 23 mar. 2023.\n",
    "\n",
    "[3] EURONEWS. Turkey is now Türkiye. What other countries have changed their name? [S.l.], 2022. Disponível em: https://www.euronews.com/my-europe/2022/06/28/turkey-is-now-turkiye-what-other-countries-have-changed-their-name. Acesso em: 23 mar. 2023.\n",
    "\n",
    "[4] POLITIZE. Ascensão pacífica chinesa. [S.l.], 2021. Disponível em: https://www.politize.com.br/ascensao-pacifica-chinesa/. Acesso em: 23 mar. 2023.\n",
    "\n",
    "[5] CORREIO BRAZILIENSE. Emissões de CO2 voltam ao ritmo de pré-pandemia nos países do G20. [S.l.], 14 out. 2021. Disponível em: https://www.correiobraziliense.com.br/ciencia-e-saude/2021/10/4955494-emissoes-de-co2-voltam-ao-ritmo-de-pre-pandemia-nos-paises-do-g20.html. Acesso em: 23 mar. 2023."
   ]
  },
  {
   "cell_type": "code",
   "execution_count": null,
   "id": "ad59dab3",
   "metadata": {},
   "outputs": [],
   "source": []
  }
 ],
 "metadata": {
  "colab": {
   "include_colab_link": true,
   "provenance": []
  },
  "kernelspec": {
   "display_name": "Python 3 (ipykernel)",
   "language": "python",
   "name": "python3"
  },
  "language_info": {
   "codemirror_mode": {
    "name": "ipython",
    "version": 3
   },
   "file_extension": ".py",
   "mimetype": "text/x-python",
   "name": "python",
   "nbconvert_exporter": "python",
   "pygments_lexer": "ipython3",
   "version": "3.9.12"
  }
 },
 "nbformat": 4,
 "nbformat_minor": 5
}
